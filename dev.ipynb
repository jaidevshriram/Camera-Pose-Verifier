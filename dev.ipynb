{
 "cells": [
  {
   "cell_type": "code",
   "execution_count": 45,
   "metadata": {},
   "outputs": [],
   "source": [
    "import warnings\n",
    "from typing import Dict, List, NamedTuple, Optional, Tuple, Union\n",
    "\n",
    "import plotly.graph_objects as go\n",
    "import torch\n",
    "import glob\n",
    "import os\n",
    "import numpy as np\n",
    "from plotly.subplots import make_subplots\n",
    "from pytorch3d.renderer.cameras import CamerasBase\n",
    "from pytorch3d.renderer import FoVPerspectiveCameras\n",
    "from pytorch3d.utils import cameras_from_opencv_projection\n",
    "\n",
    "import matplotlib.cm as cm"
   ]
  },
  {
   "cell_type": "code",
   "execution_count": 6,
   "metadata": {},
   "outputs": [],
   "source": [
    "Struct = Union[CamerasBase]"
   ]
  },
  {
   "cell_type": "code",
   "execution_count": 7,
   "metadata": {},
   "outputs": [],
   "source": [
    "class AxisArgs(NamedTuple):  # pragma: no cover\n",
    "    showgrid: bool = False\n",
    "    zeroline: bool = False\n",
    "    showline: bool = False\n",
    "    ticks: str = \"\"\n",
    "    showticklabels: bool = False\n",
    "    backgroundcolor: str = \"#fff\"\n",
    "    showaxeslabels: bool = False"
   ]
  },
  {
   "cell_type": "code",
   "execution_count": 41,
   "metadata": {},
   "outputs": [],
   "source": [
    "def pose2pytorch3d(pose):\n",
    "    \"\"\"\n",
    "    Convert a pose from OpenGL format to pytorch3d format\n",
    "    Input:\n",
    "        pose: 4x4 matrix\n",
    "    Output:\n",
    "        cameras: FoVPerspectiveCameras object\n",
    "    \"\"\"\n",
    "\n",
    "    # Convert to pytorch3d format\n",
    "    R = pose[:3, :3]\n",
    "    T = pose[:3, 3]\n",
    "    T = T.reshape(1, 3)\n",
    "    R = R.reshape(1, 3, 3)\n",
    "    \n",
    "    cameras = FoVPerspectiveCameras(R=R, T=T, fov=90)\n",
    "\n",
    "    return cameras"
   ]
  },
  {
   "cell_type": "code",
   "execution_count": 14,
   "metadata": {},
   "outputs": [],
   "source": [
    "def convert_poses_opengl(poses: List[np.array], coordinate_frame: str) -> List[np.array]:\n",
    "\n",
    "    if coordinate_frame == 'opencv':\n",
    "        transform_to_opengl = np.array([\n",
    "            [1, 0, 0, 0],\n",
    "            [0, -1, 0, 0],\n",
    "            [0, 0, -1, 0],\n",
    "            [0, 0, 0, 1],\n",
    "        ])\n",
    "    elif coordinate_frame == 'blender':\n",
    "        transform_to_opengl = np.array([\n",
    "            [0, 0, 1, 0],\n",
    "            [-1, 0, 0, 0],\n",
    "            [0, -1, 0, 0],\n",
    "            [0, 0, 0, 1],\n",
    "        ])\n",
    "    elif coordinate_frame == 'pytorch3d':\n",
    "        transform_to_opengl = np.array([\n",
    "            [1, 0, 0, 0],\n",
    "            [0, 0, -1, 0],\n",
    "            [0, 1, 0, 0],\n",
    "            [0, 0, 0, 1],\n",
    "        ])\n",
    "    else:\n",
    "        raise ValueError(f'Unknown coordinate frame {coordinate_frame}')\n",
    "    \n",
    "    poses_opengl = []\n",
    "    for pose in poses:\n",
    "        pose_opengl = transform_to_opengl @ pose\n",
    "        poses_opengl.append(pose_opengl)\n",
    "    \n",
    "    return poses_opengl"
   ]
  },
  {
   "cell_type": "code",
   "execution_count": 131,
   "metadata": {},
   "outputs": [],
   "source": [
    "def convert_poses_opencv(poses: List[np.array], coordinate_frame: str) -> List[np.array]:\n",
    "\n",
    "    if coordinate_frame == 'opengl':\n",
    "        transform_to_opencv = np.array([\n",
    "            [1, 0, 0, 0],\n",
    "            [0, -1, 0, 0],\n",
    "            [0, 0, -1, 0],\n",
    "            [0, 0, 0, 1],\n",
    "        ])\n",
    "    elif coordinate_frame == 'blender':\n",
    "        transform_to_opencv = np.array([\n",
    "            [0, -1, 0, 0],\n",
    "            [0, 0, -1, 0],\n",
    "            [1, 0, 0, 0],\n",
    "            [0, 0, 0, 1],\n",
    "        ])\n",
    "    elif coordinate_frame == 'pytorch3d':\n",
    "        transform_to_opencv = np.array([\n",
    "            [1, 0, 0, 0],\n",
    "            [0, 0, 1, 0],\n",
    "            [0, -1, 0, 0],\n",
    "            [0, 0, 0, 1],\n",
    "        ])\n",
    "    else:\n",
    "        raise ValueError(f'Unknown coordinate frame {coordinate_frame}')\n",
    "    \n",
    "    poses_opencv = []\n",
    "    for pose in poses:\n",
    "        pose_opencv = transform_to_opencv @ pose\n",
    "        poses_opencv.append(pose_opencv)\n",
    "    \n",
    "    return poses_opencv"
   ]
  },
  {
   "cell_type": "code",
   "execution_count": 15,
   "metadata": {},
   "outputs": [],
   "source": [
    "def get_camera_wireframe(scale: float = 0.3):  # pragma: no cover\n",
    "    \"\"\"\n",
    "    Returns a wireframe of a 3D line-plot of a camera symbol.\n",
    "    \"\"\"\n",
    "    a = 0.5 * torch.tensor([-2, 1.5, 4])\n",
    "    up1 = 0.5 * torch.tensor([0, 1.5, 4])\n",
    "    up2 = 0.5 * torch.tensor([0, 2, 4])\n",
    "    b = 0.5 * torch.tensor([2, 1.5, 4])\n",
    "    c = 0.5 * torch.tensor([-2, -1.5, 4])\n",
    "    d = 0.5 * torch.tensor([2, -1.5, 4])\n",
    "    C = torch.zeros(3)\n",
    "    F = torch.tensor([0, 0, 3])\n",
    "    camera_points = [a, up1, up2, up1, b, d, c, a, C, b, d, C, c, C, F]\n",
    "    lines = torch.stack([x.float() for x in camera_points]) * scale\n",
    "    return lines"
   ]
  },
  {
   "cell_type": "code",
   "execution_count": 16,
   "metadata": {},
   "outputs": [],
   "source": [
    "\n",
    "def _gen_fig_with_subplots(\n",
    "    batch_size: int, ncols: int, subplot_titles: List[str]\n",
    "):  # pragma: no cover\n",
    "    \"\"\"\n",
    "    Takes in the number of objects to be plotted and generate a plotly figure\n",
    "    with the appropriate number and orientation of titled subplots.\n",
    "    Args:\n",
    "        batch_size: the number of elements in the batch of objects to be visualized.\n",
    "        ncols: number of subplots in the same row.\n",
    "        subplot_titles: titles for the subplot(s). list of strings of length batch_size.\n",
    "\n",
    "    Returns:\n",
    "        Plotly figure with ncols subplots per row, and batch_size subplots.\n",
    "    \"\"\"\n",
    "    fig_rows = batch_size // ncols\n",
    "    if batch_size % ncols != 0:\n",
    "        fig_rows += 1  # allow for non-uniform rows\n",
    "    fig_cols = ncols\n",
    "    fig_type = [{\"type\": \"scene\"}]\n",
    "    specs = [fig_type * fig_cols] * fig_rows\n",
    "    # subplot_titles must have one title per subplot\n",
    "    fig = make_subplots(\n",
    "        rows=fig_rows,\n",
    "        cols=fig_cols,\n",
    "        specs=specs,\n",
    "        subplot_titles=subplot_titles,\n",
    "        column_widths=[1.0] * fig_cols,\n",
    "    )\n",
    "    return fig\n",
    "\n",
    "\n",
    "def _update_axes_bounds(\n",
    "    verts_center: torch.Tensor,\n",
    "    max_expand: float,\n",
    "    current_layout: go.Scene,  # pyre-ignore[11]\n",
    ") -> None:  # pragma: no cover\n",
    "    \"\"\"\n",
    "    Takes in the vertices' center point and max spread, and the current plotly figure\n",
    "    layout and updates the layout to have bounds that include all traces for that subplot.\n",
    "    Args:\n",
    "        verts_center: tensor of size (3) corresponding to a trace's vertices' center point.\n",
    "        max_expand: the maximum spread in any dimension of the trace's vertices.\n",
    "        current_layout: the plotly figure layout scene corresponding to the referenced trace.\n",
    "    \"\"\"\n",
    "    verts_center = verts_center.detach().cpu()\n",
    "    verts_min = verts_center - max_expand\n",
    "    verts_max = verts_center + max_expand\n",
    "    bounds = torch.t(torch.stack((verts_min, verts_max)))\n",
    "\n",
    "    # Ensure that within a subplot, the bounds capture all traces\n",
    "    old_xrange, old_yrange, old_zrange = (\n",
    "        current_layout[\"xaxis\"][\"range\"],\n",
    "        current_layout[\"yaxis\"][\"range\"],\n",
    "        current_layout[\"zaxis\"][\"range\"],\n",
    "    )\n",
    "    x_range, y_range, z_range = bounds\n",
    "    if old_xrange is not None:\n",
    "        x_range[0] = min(x_range[0], old_xrange[0])\n",
    "        x_range[1] = max(x_range[1], old_xrange[1])\n",
    "    if old_yrange is not None:\n",
    "        y_range[0] = min(y_range[0], old_yrange[0])\n",
    "        y_range[1] = max(y_range[1], old_yrange[1])\n",
    "    if old_zrange is not None:\n",
    "        z_range[0] = min(z_range[0], old_zrange[0])\n",
    "        z_range[1] = max(z_range[1], old_zrange[1])\n",
    "\n",
    "    xaxis = {\"range\": x_range}\n",
    "    yaxis = {\"range\": y_range}\n",
    "    zaxis = {\"range\": z_range}\n",
    "    current_layout.update({\"xaxis\": xaxis, \"yaxis\": yaxis, \"zaxis\": zaxis})\n",
    "\n",
    "\n",
    "def _scale_camera_to_bounds(\n",
    "    coordinate: float, axis_bounds: Tuple[float, float], is_position: bool\n",
    ") -> float:  # pragma: no cover\n",
    "    \"\"\"\n",
    "    We set our plotly plot's axes' bounding box to [-1,1]x[-1,1]x[-1,1]. As such,\n",
    "    the plotly camera location has to be scaled accordingly to have its world coordinates\n",
    "    correspond to its relative plotted coordinates for viewing the plotly plot.\n",
    "    This function does the scaling and offset to transform the coordinates.\n",
    "\n",
    "    Args:\n",
    "        coordinate: the float value to be transformed\n",
    "        axis_bounds: the bounds of the plotly plot for the axis which\n",
    "            the coordinate argument refers to\n",
    "        is_position: If true, the float value is the coordinate of a position, and so must\n",
    "            be moved in to [-1,1]. Otherwise it is a component of a direction, and so needs only\n",
    "            to be scaled.\n",
    "    \"\"\"\n",
    "    scale = (axis_bounds[1] - axis_bounds[0]) / 2\n",
    "    if not is_position:\n",
    "        return coordinate / scale\n",
    "    offset = (axis_bounds[1] / scale) - 1\n",
    "    return coordinate / scale - offset"
   ]
  },
  {
   "cell_type": "code",
   "execution_count": 33,
   "metadata": {},
   "outputs": [],
   "source": [
    "\n",
    "\n",
    "def _add_camera_trace(\n",
    "    fig: go.Figure,\n",
    "    cameras: CamerasBase,\n",
    "    trace_name: str,\n",
    "    subplot_idx: int,\n",
    "    ncols: int,\n",
    "    camera_scale: float,\n",
    "    color: List[float],\n",
    "    opacity: float = 1.0,\n",
    ") -> None:  # pragma: no cover\n",
    "    \"\"\"\n",
    "    Adds a trace rendering a Cameras object to the passed in figure, with\n",
    "    a given name and in a specific subplot.\n",
    "\n",
    "    Args:\n",
    "        fig: plotly figure to add the trace within.\n",
    "        cameras: the Cameras object to render. It can be batched.\n",
    "        trace_name: name to label the trace with.\n",
    "        subplot_idx: identifies the subplot, with 0 being the top left.\n",
    "        ncols: the number of subplots per row.\n",
    "        camera_scale: the size of the wireframe used to render the Cameras object.\n",
    "    \"\"\"\n",
    "    cam_wires = get_camera_wireframe(camera_scale).to(cameras.device)\n",
    "    cam_trans = cameras.get_world_to_view_transform().inverse()\n",
    "    cam_wires_trans = cam_trans.transform_points(cam_wires).detach().cpu()\n",
    "    # if batch size is 1, unsqueeze to add dimension\n",
    "    if len(cam_wires_trans.shape) < 3:\n",
    "        cam_wires_trans = cam_wires_trans.unsqueeze(0)\n",
    "\n",
    "    nan_tensor = torch.Tensor([[float(\"NaN\")] * 3])\n",
    "    all_cam_wires = cam_wires_trans[0]\n",
    "    for wire in cam_wires_trans[1:]:\n",
    "        # We combine camera points into a single tensor to plot them in a\n",
    "        # single trace. The NaNs are inserted between sets of camera\n",
    "        # points so that the lines drawn by Plotly are not drawn between\n",
    "        # points that belong to different cameras.\n",
    "        all_cam_wires = torch.cat((all_cam_wires, nan_tensor, wire))\n",
    "    x, y, z = all_cam_wires.detach().cpu().numpy().T.astype(float)\n",
    "\n",
    "    # Scale colours to 255 int\n",
    "    color = [int(c * 255) for c in color]\n",
    "    color[-1] = opacity\n",
    "\n",
    "    row, col = subplot_idx // ncols + 1, subplot_idx % ncols + 1\n",
    "    fig.add_trace(\n",
    "        go.Scatter3d(x=x, y=y, z=z, marker={\n",
    "            \"size\": 1,\n",
    "            \"color\": f\"rgba{str(tuple(color))}\",\n",
    "        }, name=trace_name),\n",
    "        row=row,\n",
    "        col=col,\n",
    "    )\n",
    "\n",
    "    # Access the current subplot's scene configuration\n",
    "    plot_scene = \"scene\" + str(subplot_idx + 1)\n",
    "    current_layout = fig[\"layout\"][plot_scene]\n",
    "\n",
    "    # flatten for bounds calculations\n",
    "    flattened_wires = cam_wires_trans.flatten(0, 1)\n",
    "    verts_center = flattened_wires.mean(0)\n",
    "    max_expand = (flattened_wires.max(0)[0] - flattened_wires.min(0)[0]).max()\n",
    "    _update_axes_bounds(verts_center, max_expand, current_layout)\n"
   ]
  },
  {
   "cell_type": "code",
   "execution_count": 77,
   "metadata": {},
   "outputs": [],
   "source": [
    "def plot_cameras(poses, coordinate_frame='opengl', camera_scale=0.3, scheme='rainbow', c2w=True, **kwargs):\n",
    "\n",
    "    # Convert poses back to opengl if not in opengl format\n",
    "    if coordinate_frame != 'opencv':\n",
    "        poses = convert_poses_opencv(poses, coordinate_frame)\n",
    "\n",
    "    if c2w:\n",
    "        poses = [np.linalg.inv(pose) for pose in poses] # Pytorch3D uses world-to-camera convention\n",
    "    \n",
    "    K = torch.eye(3)[None, ...]\n",
    "    K[..., 0, 0] = K[..., 1, 1] = 512\n",
    "    K[..., 0, 2] = K[..., 1, 2] = 256\n",
    "\n",
    "    poses = [cameras_from_opencv_projection(\n",
    "        torch.from_numpy(pose[:3, :3][None, ...]),\n",
    "        torch.from_numpy(pose[:3, 3][None, ...]),\n",
    "        K,\n",
    "        torch.ones(1, 2) * 512,\n",
    "    ) for pose in poses]\n",
    "\n",
    "    fig = _gen_fig_with_subplots(1, 1, [\"All Poses\"])\n",
    "    axis_args_dict = kwargs.get(\"axis_args\", AxisArgs())._asdict()\n",
    "\n",
    "    # Set axis arguments to defaults defined at the top of this file\n",
    "    x_settings = {**axis_args_dict}\n",
    "    y_settings = {**axis_args_dict}\n",
    "    z_settings = {**axis_args_dict}\n",
    "\n",
    "    # Update the axes with any axis settings passed in as kwargs.\n",
    "    x_settings.update(**kwargs.get(\"xaxis\", {}))\n",
    "    y_settings.update(**kwargs.get(\"yaxis\", {}))\n",
    "    z_settings.update(**kwargs.get(\"zaxis\", {}))\n",
    "\n",
    "    camera = {\n",
    "        \"up\": {\n",
    "            \"x\": 0.0,\n",
    "            \"y\": 1.0,\n",
    "            \"z\": 0.0,\n",
    "        }  # set the up vector to match PyTorch3D world coordinates conventions\n",
    "    }\n",
    "    \n",
    "    colormap = cm.get_cmap(scheme)\n",
    "    colors = colormap(np.linspace(0, 1, len(poses)))\n",
    "\n",
    "    for i, pose in enumerate(poses):\n",
    "        _add_camera_trace(fig, pose, i, 0, 1, camera_scale, colors[i])\n",
    "\n",
    "    return fig"
   ]
  },
  {
   "attachments": {},
   "cell_type": "markdown",
   "metadata": {},
   "source": [
    "# Test on OpenCV Poses"
   ]
  },
  {
   "cell_type": "code",
   "execution_count": 184,
   "metadata": {},
   "outputs": [
    {
     "data": {
      "application/vnd.plotly.v1+json": {
       "config": {
        "plotlyServerURL": "https://plot.ly"
       },
       "data": [
        {
         "marker": {
          "color": "rgba(127, 0, 255, 1.0)",
          "size": 1
         },
         "name": "0",
         "scene": "scene",
         "type": "scatter3d",
         "x": [
          -1.406132459640503,
          -1.6781429052352905,
          -1.6781429052352905,
          -1.6781429052352905,
          -1.9501533508300781,
          -1.9501533508300781,
          -1.406132459640503,
          -1.406132459640503,
          -2.51721453666687,
          -1.9501533508300781,
          -1.9501533508300781,
          -2.51721453666687,
          -1.406132459640503,
          -2.51721453666687,
          -1.2586071491241455
         ],
         "y": [
          -1.5075782537460327,
          -1.0880424976348877,
          -1.0880424976348877,
          -1.0880424976348877,
          -0.6685066223144531,
          -0.6685065031051636,
          -1.5075781345367432,
          -1.5075782537460327,
          -1.632063388824463,
          -0.6685066223144531,
          -0.6685065031051636,
          -1.632063388824463,
          -1.5075781345367432,
          -1.632063388824463,
          -0.8160318732261658
         ],
         "z": [
          0.3749999701976776,
          0.3750000298023224,
          0.5000000596046448,
          0.3750000298023224,
          0.37500008940696716,
          -0.37499991059303284,
          -0.3750000298023224,
          0.3749999701976776,
          -2.842170943040401e-14,
          0.37500008940696716,
          -0.37499991059303284,
          -2.842170943040401e-14,
          -0.3750000298023224,
          -2.842170943040401e-14,
          5.999998364814019e-8
         ]
        },
        {
         "marker": {
          "color": "rgba(125, 3, 254, 1.0)",
          "size": 1
         },
         "name": "1",
         "scene": "scene",
         "type": "scatter3d",
         "x": [
          -1.477121114730835,
          -1.7278236150741577,
          -1.7269742488861084,
          -1.7278236150741577,
          -1.9785261154174805,
          -1.983622431755066,
          -1.4822174310684204,
          -1.477121114730835,
          -2.595557689666748,
          -1.9785261154174805,
          -1.983622431755066,
          -2.595557689666748,
          -1.4822174310684204,
          -2.595557689666748,
          -1.297778844833374
         ],
         "y": [
          -1.4339091777801514,
          -1.00130295753479,
          -1.0008106231689453,
          -1.00130295753479,
          -0.5686965584754944,
          -0.5716497302055359,
          -1.4368624687194824,
          -1.4339091777801514,
          -1.50416898727417,
          -0.5686965584754944,
          -0.5716497302055359,
          -1.50416898727417,
          -1.4368624687194824,
          -1.50416898727417,
          -0.7520847320556641
         ],
         "z": [
          0.3906964063644409,
          0.39069655537605286,
          0.5156926512718201,
          0.39069655537605286,
          0.3906967043876648,
          -0.35928016901016235,
          -0.35928046703338623,
          0.3906964063644409,
          0.02356170490384102,
          0.3906967043876648,
          -0.35928016901016235,
          0.02356170490384102,
          -0.35928046703338623,
          0.02356170490384102,
          0.011781316250562668
         ]
        },
        {
         "marker": {
          "color": "rgba(123, 6, 254, 1.0)",
          "size": 1
         },
         "name": "2",
         "scene": "scene",
         "type": "scatter3d",
         "x": [
          -1.5441572666168213,
          -1.7729252576828003,
          -1.771179437637329,
          -1.7729252576828003,
          -2.0016932487487793,
          -2.0121684074401855,
          -1.5546324253082275,
          -1.5441572666168213,
          -2.6672441959381104,
          -2.0016932487487793,
          -2.0121684074401855,
          -2.6672441959381104,
          -1.5546324253082275,
          -2.6672441959381104,
          -1.3336222171783447
         ],
         "y": [
          -1.3568592071533203,
          -0.9122636318206787,
          -0.911365270614624,
          -0.9122636318206787,
          -0.4676680564880371,
          -0.47305816411972046,
          -1.3622493743896484,
          -1.3568592071533203,
          -1.3724383115768433,
          -0.4676680564880371,
          -0.47305816411972046,
          -1.3724383115768433,
          -1.3622493743896484,
          -1.3724383115768433,
          -0.6862188577651978
         ],
         "z": [
          0.40636834502220154,
          0.40636828541755676,
          0.5313528776168823,
          0.40636828541755676,
          0.406368225812912,
          -0.3435392677783966,
          -0.34353914856910706,
          0.40636834502220154,
          0.04712194949388504,
          0.406368225812912,
          -0.3435392677783966,
          0.04712194949388504,
          -0.34353914856910706,
          0.04712194949388504,
          0.02356084994971752
         ]
        },
        {
         "marker": {
          "color": "rgba(121, 9, 254, 1.0)",
          "size": 1
         },
         "name": "3",
         "scene": "scene",
         "type": "scatter3d",
         "x": [
          -1.6070787906646729,
          -1.813340187072754,
          -1.8106575012207031,
          -1.813340187072754,
          -2.019601821899414,
          -2.0356979370117188,
          -1.623175024986267,
          -1.6070787906646729,
          -2.7320826053619385,
          -2.019601821899414,
          -2.0356979370117188,
          -2.7320826053619385,
          -1.623175024986267,
          -2.7320826053619385,
          -1.3660411834716797
         ],
         "y": [
          -1.276646375656128,
          -0.8211727142333984,
          -0.8199578523635864,
          -0.8211727142333984,
          -0.3656991720199585,
          -0.3729882836341858,
          -1.2839354276657104,
          -1.276646375656128,
          -1.2372256517410278,
          -0.3656991720199585,
          -0.3729882836341858,
          -1.2372256517410278,
          -1.2839354276657104,
          -1.2372256517410278,
          -0.6186131238937378
         ],
         "z": [
          0.42201530933380127,
          0.42201536893844604,
          0.5469806790351868,
          0.42201536893844604,
          0.4220154881477356,
          -0.3277762532234192,
          -0.3277764320373535,
          0.42201530933380127,
          0.07067929208278656,
          0.4220154881477356,
          -0.3277762532234192,
          0.07067929208278656,
          -0.3277764320373535,
          0.07067929208278656,
          0.035339631140232086
         ]
        },
        {
         "marker": {
          "color": "rgba(117, 15, 254, 1.0)",
          "size": 1
         },
         "name": "4",
         "scene": "scene",
         "type": "scatter3d",
         "x": [
          -1.6657358407974243,
          -1.848975419998169,
          -1.8453222513198853,
          -1.848975419998169,
          -2.032214879989624,
          -2.054133892059326,
          -1.687654733657837,
          -1.6657358407974243,
          -2.7899019718170166,
          -2.032214879989624,
          -2.054133892059326,
          -2.7899019718170166,
          -1.687654733657837,
          -2.7899019718170166,
          -1.3949512243270874
         ],
         "y": [
          -1.193493127822876,
          -0.7282800078392029,
          -0.7268410921096802,
          -0.7282800078392029,
          -0.2630668878555298,
          -0.271700382232666,
          -1.2021267414093018,
          -1.193493127822876,
          -1.0988949537277222,
          -0.2630668878555298,
          -0.271700382232666,
          -1.0988949537277222,
          -1.2021267414093018,
          -1.0988949537277222,
          -0.5494477152824402
         ],
         "z": [
          0.43763667345046997,
          0.4376366436481476,
          0.5625749826431274,
          0.4376366436481476,
          0.4376366138458252,
          -0.31199324131011963,
          -0.31199318170547485,
          0.43763667345046997,
          0.09423229843378067,
          0.4376366138458252,
          -0.31199324131011963,
          0.09423229843378067,
          -0.31199318170547485,
          0.09423229843378067,
          0.04711642116308212
         ]
        },
        {
         "marker": {
          "color": "rgba(115, 18, 254, 1.0)",
          "size": 1
         },
         "name": "5",
         "scene": "scene",
         "type": "scatter3d",
         "x": [
          -1.719988465309143,
          -1.8797478675842285,
          -1.8750977516174316,
          -1.8797478675842285,
          -2.0395073890686035,
          -2.067408800125122,
          -1.747889757156372,
          -1.719988465309143,
          -2.840548038482666,
          -2.0395073890686035,
          -2.067408800125122,
          -2.840548038482666,
          -1.747889757156372,
          -2.840548038482666,
          -1.4202739000320435
         ],
         "y": [
          -1.1076319217681885,
          -0.633841872215271,
          -0.6322738528251648,
          -0.633841872215271,
          -0.1600518822669983,
          -0.1694599986076355,
          -1.1170399188995361,
          -1.1076319217681885,
          -0.9578186869621277,
          -0.1600518822669983,
          -0.1694599986076355,
          -0.9578186869621277,
          -1.1170399188995361,
          -0.9578186869621277,
          -0.47890955209732056
         ],
         "z": [
          0.4532305598258972,
          0.4532305598258972,
          0.5781341791152954,
          0.4532305598258972,
          0.453230619430542,
          -0.2961912155151367,
          -0.2961912751197815,
          0.4532305598258972,
          0.1177794486284256,
          0.453230619430542,
          -0.2961912155151367,
          0.1177794486284256,
          -0.2961912751197815,
          0.1177794486284256,
          0.05888977646827698
         ]
        },
        {
         "marker": {
          "color": "rgba(113, 21, 254, 1.0)",
          "size": 1
         },
         "name": "6",
         "scene": "scene",
         "type": "scatter3d",
         "x": [
          -1.7697126865386963,
          -1.905592918395996,
          -1.8999263048171997,
          -1.905592918395996,
          -2.041473388671875,
          -2.0754735469818115,
          -1.8037128448486328,
          -1.7697126865386963,
          -2.883889675140381,
          -2.041473388671875,
          -2.0754735469818115,
          -2.883889675140381,
          -1.8037128448486328,
          -2.883889675140381,
          -1.4419448375701904
         ],
         "y": [
          -1.0192995071411133,
          -0.5381170511245728,
          -0.5365167856216431,
          -0.5381170511245728,
          -0.05693459510803223,
          -0.0665358304977417,
          -1.0289006233215332,
          -1.0192995071411133,
          -0.8143767714500427,
          -0.05693459510803223,
          -0.0665358304977417,
          -0.8143767714500427,
          -1.0289006233215332,
          -0.8143767714500427,
          -0.4071880578994751
         ],
         "z": [
          0.46879661083221436,
          0.46879661083221436,
          0.5936578512191772,
          0.46879661083221436,
          0.46879661083221436,
          -0.28037089109420776,
          -0.28037089109420776,
          0.46879661083221436,
          0.14131934940814972,
          0.46879661083221436,
          -0.28037089109420776,
          0.14131934940814972,
          -0.28037089109420776,
          0.14131934940814972,
          0.07065962255001068
         ]
        },
        {
         "marker": {
          "color": "rgba(109, 28, 254, 1.0)",
          "size": 1
         },
         "name": "7",
         "scene": "scene",
         "type": "scatter3d",
         "x": [
          -1.8147960901260376,
          -1.926457405090332,
          -1.919762134552002,
          -1.926457405090332,
          -2.038118600845337,
          -2.0782904624938965,
          -1.8549678325653076,
          -1.8147960901260376,
          -2.9198150634765625,
          -2.038118600845337,
          -2.0782904624938965,
          -2.9198150634765625,
          -1.8549678325653076,
          -2.9198150634765625,
          -1.4599072933197021
         ],
         "y": [
          -0.928741455078125,
          -0.4413691759109497,
          -0.4398352801799774,
          -0.4413691759109497,
          0.046003103256225586,
          0.03679966926574707,
          -0.9379448890686035,
          -0.928741455078125,
          -0.6689561009407043,
          0.046003103256225586,
          0.03679966926574707,
          -0.6689561009407043,
          -0.9379448890686035,
          -0.6689561009407043,
          -0.33447831869125366
         ],
         "z": [
          0.484333872795105,
          0.48433399200439453,
          0.6091451644897461,
          0.48433399200439453,
          0.48433417081832886,
          -0.2645326852798462,
          -0.26453298330307007,
          0.484333872795105,
          0.16485051810741425,
          0.48433417081832886,
          -0.2645326852798462,
          0.16485051810741425,
          -0.26453298330307007,
          0.16485051810741425,
          0.08242560923099518
         ]
        },
        {
         "marker": {
          "color": "rgba(107, 31, 254, 1.0)",
          "size": 1
         },
         "name": "8",
         "scene": "scene",
         "type": "scatter3d",
         "x": [
          -1.8551406860351562,
          -1.942304015159607,
          -1.9345754384994507,
          -1.942304015159607,
          -2.0294675827026367,
          -2.075839042663574,
          -1.9015122652053833,
          -1.8551406860351562,
          -2.9482345581054688,
          -2.0294675827026367,
          -2.075839042663574,
          -2.9482345581054688,
          -1.9015122652053833,
          -2.9482345581054688,
          -1.4741175174713135
         ],
         "y": [
          -0.8362048268318176,
          -0.3438609838485718,
          -0.3424926996231079,
          -0.3438609838485718,
          0.14848291873931885,
          0.1402733325958252,
          -0.8444144129753113,
          -0.8362048268318176,
          -0.5219483375549316,
          0.14848291873931885,
          0.1402733325958252,
          -0.5219483375549316,
          -0.8444144129753113,
          -0.5219483375549316,
          -0.2609744668006897
         ],
         "z": [
          0.49984100461006165,
          0.4998410642147064,
          0.6245943903923035,
          0.4998410642147064,
          0.4998411238193512,
          -0.2486787736415863,
          -0.24867889285087585,
          0.49984100461006165,
          0.18837156891822815,
          0.4998411238193512,
          -0.2486787736415863,
          0.18837156891822815,
          -0.24867889285087585,
          0.18837156891822815,
          0.09418587386608124
         ]
        },
        {
         "marker": {
          "color": "rgba(105, 34, 254, 1.0)",
          "size": 1
         },
         "name": "9",
         "scene": "scene",
         "type": "scatter3d",
         "x": [
          -1.8906595706939697,
          -1.9531069993972778,
          -1.944347858428955,
          -1.9531069993972778,
          -2.015554428100586,
          -2.0681097507476807,
          -1.9432148933410645,
          -1.8906595706939697,
          -2.9690768718719482,
          -2.015554428100586,
          -2.0681097507476807,
          -2.9690768718719482,
          -1.9432148933410645,
          -2.9690768718719482,
          -1.4845385551452637
         ],
         "y": [
          -0.7419438362121582,
          -0.24585890769958496,
          -0.24475634098052979,
          -0.24585890769958496,
          0.25022608041763306,
          0.24361062049865723,
          -0.748559296131134,
          -0.7419438362121582,
          -0.37374943494796753,
          0.25022608041763306,
          0.24361062049865723,
          -0.37374943494796753,
          -0.748559296131134,
          -0.37374943494796753,
          -0.18687522411346436
         ],
         "z": [
          0.515317440032959,
          0.5153176784515381,
          0.6400055885314941,
          0.5153176784515381,
          0.5153179168701172,
          -0.23280909657478333,
          -0.23280957341194153,
          0.515317440032959,
          0.21188095211982727,
          0.5153179168701172,
          -0.23280909657478333,
          0.21188095211982727,
          -0.23280957341194153,
          0.21188095211982727,
          0.1059408187866211
         ]
        },
        {
         "marker": {
          "color": "rgba(103, 37, 254, 1.0)",
          "size": 1
         },
         "name": "10",
         "scene": "scene",
         "type": "scatter3d",
         "x": [
          -1.9212819337844849,
          -1.958857536315918,
          -1.949077844619751,
          -1.958857536315918,
          -1.9964330196380615,
          -2.0551109313964844,
          -1.9799598455429077,
          -1.9212819337844849,
          -2.9822945594787598,
          -1.9964330196380615,
          -2.0551109313964844,
          -2.9822945594787598,
          -1.9799598455429077,
          -2.9822945594787598,
          -1.4911473989486694
         ],
         "y": [
          -0.6462137699127197,
          -0.1476277858018875,
          -0.14689071476459503,
          -0.1476277858018875,
          0.3509581983089447,
          0.3465358316898346,
          -0.6506361961364746,
          -0.6462137699127197,
          -0.2247583568096161,
          0.3509581983089447,
          0.3465358316898346,
          -0.2247583568096161,
          -0.6506361961364746,
          -0.2247583568096161,
          -0.11237931251525879
         ],
         "z": [
          0.530762255191803,
          0.5307621359825134,
          0.6553767919540405,
          0.5307621359825134,
          0.5307620763778687,
          -0.21692587435245514,
          -0.2169256955385208,
          0.530762255191803,
          0.23537729680538177,
          0.5307620763778687,
          -0.21692587435245514,
          0.23537729680538177,
          -0.2169256955385208,
          0.23537729680538177,
          0.11768864095211029
         ]
        },
        {
         "marker": {
          "color": "rgba(99, 43, 254, 1.0)",
          "size": 1
         },
         "name": "11",
         "scene": "scene",
         "type": "scatter3d",
         "x": [
          -1.946950078010559,
          -1.959559679031372,
          -1.9487773180007935,
          -1.959559679031372,
          -1.972169280052185,
          -2.036863327026367,
          -2.011644124984741,
          -1.946950078010559,
          -2.9878602027893066,
          -1.972169280052185,
          -2.036863327026367,
          -2.9878602027893066,
          -2.011644124984741,
          -2.9878602027893066,
          -1.4939299821853638
         ],
         "y": [
          -0.549275815486908,
          -0.049434781074523926,
          -0.04916279762983322,
          -0.049434781074523926,
          0.4504062533378601,
          0.4487743377685547,
          -0.5509077310562134,
          -0.549275815486908,
          -0.07537591457366943,
          0.4504062533378601,
          0.4487743377685547,
          -0.07537591457366943,
          -0.5509077310562134,
          -0.07537591457366943,
          -0.037688132375478745
         ],
         "z": [
          0.546174168586731,
          0.5461742877960205,
          0.6707080602645874,
          0.5461742877960205,
          0.5461744070053101,
          -0.20102843642234802,
          -0.20102861523628235,
          0.546174168586731,
          0.2588590979576111,
          0.5461744070053101,
          -0.20102843642234802,
          0.2588590979576111,
          -0.20102861523628235,
          0.2588590979576111,
          0.12942978739738464
         ]
        },
        {
         "marker": {
          "color": "rgba(97, 46, 253, 1.0)",
          "size": 1
         },
         "name": "12",
         "scene": "scene",
         "type": "scatter3d",
         "x": [
          -1.967620849609375,
          -1.9552329778671265,
          -1.9434731006622314,
          -1.9552329778671265,
          -1.9428452253341675,
          -2.013404607772827,
          -2.038180351257324,
          -1.967620849609375,
          -2.985769033432007,
          -1.9428452253341675,
          -2.013404607772827,
          -2.985769033432007,
          -2.038180351257324,
          -2.985769033432007,
          -1.492884635925293
         ],
         "y": [
          -0.4513901472091675,
          0.048456281423568726,
          0.048164814710617065,
          0.048456281423568726,
          0.5483027696609497,
          0.5500515699386597,
          -0.4496413469314575,
          -0.4513901472091675,
          0.07399642467498779,
          0.5483027696609497,
          0.5500515699386597,
          0.07399642467498779,
          -0.4496413469314575,
          0.07399642467498779,
          0.03699781745672226
         ],
         "z": [
          0.5615522861480713,
          0.5615524053573608,
          0.6859976053237915,
          0.5615524053573608,
          0.5615525245666504,
          -0.18511882424354553,
          -0.1851191222667694,
          0.5615522861480713,
          0.2823249399662018,
          0.5615525245666504,
          -0.18511882424354553,
          0.2823249399662018,
          -0.1851191222667694,
          0.2823249399662018,
          0.14116261899471283
         ]
        },
        {
         "marker": {
          "color": "rgba(95, 49, 253, 1.0)",
          "size": 1
         },
         "name": "13",
         "scene": "scene",
         "type": "scatter3d",
         "x": [
          -1.9832638502120972,
          -1.9459097385406494,
          -1.9332047700881958,
          -1.9459097385406494,
          -1.9085556268692017,
          -1.9847850799560547,
          -2.05949330329895,
          -1.9832638502120972,
          -2.976036548614502,
          -1.9085556268692017,
          -1.9847850799560547,
          -2.976036548614502,
          -2.05949330329895,
          -2.976036548614502,
          -1.4880183935165405
         ],
         "y": [
          -0.35281968116760254,
          0.1457829475402832,
          0.14483113586902618,
          0.1457829475402832,
          0.644385576248169,
          0.6500964164733887,
          -0.3471089005470276,
          -0.35281968116760254,
          0.22295765578746796,
          0.644385576248169,
          0.6500964164733887,
          0.22295765578746796,
          -0.3471089005470276,
          0.22295765578746796,
          0.11147868633270264
         ],
         "z": [
          0.5768961310386658,
          0.576896071434021,
          0.7012450695037842,
          0.576896071434021,
          0.576896071434021,
          -0.16919797658920288,
          -0.1691979169845581,
          0.5768961310386658,
          0.30577343702316284,
          0.576896071434021,
          -0.16919797658920288,
          0.30577343702316284,
          -0.1691979169845581,
          0.30577343702316284,
          0.15288691222667694
         ]
        },
        {
         "marker": {
          "color": "rgba(91, 56, 253, 1.0)",
          "size": 1
         },
         "name": "14",
         "scene": "scene",
         "type": "scatter3d",
         "x": [
          -1.9938633441925049,
          -1.931636095046997,
          -1.9180259704589844,
          -1.931636095046997,
          -1.8694088459014893,
          -1.9510695934295654,
          -2.075524091720581,
          -1.9938633441925049,
          -2.9586997032165527,
          -1.8694088459014893,
          -1.9510695934295654,
          -2.9586997032165527,
          -2.075524091720581,
          -2.9586997032165527,
          -1.4793498516082764
         ],
         "y": [
          -0.25382840633392334,
          0.24228425323963165,
          0.24057714641094208,
          0.24228425323963165,
          0.7383968830108643,
          0.7486395835876465,
          -0.2435857653617859,
          -0.25382840633392334,
          0.3711084723472595,
          0.7383968830108643,
          0.7486395835876465,
          0.3711084723472595,
          -0.2435857653617859,
          0.3711084723472595,
          0.1855541467666626
         ],
         "z": [
          0.5922040939331055,
          0.5922040939331055,
          0.7164492011070251,
          0.5922040939331055,
          0.5922040939331055,
          -0.15326669812202454,
          -0.15326663851737976,
          0.5922040939331055,
          0.32920292019844055,
          0.5922040939331055,
          -0.15326669812202454,
          0.32920292019844055,
          -0.15326663851737976,
          0.32920292019844055,
          0.1646016240119934
         ]
        },
        {
         "marker": {
          "color": "rgba(89, 59, 253, 1.0)",
          "size": 1
         },
         "name": "15",
         "scene": "scene",
         "type": "scatter3d",
         "x": [
          -1.9994186162948608,
          -1.9124736785888672,
          -1.8980053663253784,
          -1.9124736785888672,
          -1.8255287408828735,
          -1.9123386144638062,
          -2.086228370666504,
          -1.9994186162948608,
          -2.9338178634643555,
          -1.8255287408828735,
          -1.9123386144638062,
          -2.9338178634643555,
          -2.086228370666504,
          -2.9338178634643555,
          -1.4669089317321777
         ],
         "y": [
          -0.1546790599822998,
          0.3377034664154053,
          0.3351486325263977,
          0.3377034664154053,
          0.8300859928131104,
          0.8454149961471558,
          -0.1393500566482544,
          -0.1546790599822998,
          0.5180525183677673,
          0.8300859928131104,
          0.8454149961471558,
          0.5180525183677673,
          -0.1393500566482544,
          0.5180525183677673,
          0.2590257227420807
         ],
         "z": [
          0.6074756979942322,
          0.607475757598877,
          0.7316093444824219,
          0.607475757598877,
          0.6074758768081665,
          -0.1373254656791687,
          -0.13732564449310303,
          0.6074756979942322,
          0.3526121973991394,
          0.6074758768081665,
          -0.1373254656791687,
          0.3526121973991394,
          -0.13732564449310303,
          0.3526121973991394,
          0.1763065606355667
         ]
        },
        {
         "marker": {
          "color": "rgba(87, 62, 253, 1.0)",
          "size": 1
         },
         "name": "16",
         "scene": "scene",
         "type": "scatter3d",
         "x": [
          -1.9999406337738037,
          -1.8884955644607544,
          -1.873223066329956,
          -1.8884955644607544,
          -1.7770506143569946,
          -1.8686857223510742,
          -2.0915756225585938,
          -1.9999406337738037,
          -2.9014697074890137,
          -1.7770506143569946,
          -1.8686857223510742,
          -2.9014697074890137,
          -2.0915756225585938,
          -2.9014697074890137,
          -1.4507348537445068
         ],
         "y": [
          -0.0556330680847168,
          0.43178874254226685,
          0.4282968044281006,
          0.43178874254226685,
          0.9192104935646057,
          0.940162181854248,
          -0.03468137979507446,
          -0.0556330680847168,
          0.6633970737457275,
          0.9192104935646057,
          0.940162181854248,
          0.6633970737457275,
          -0.03468137979507446,
          0.6633970737457275,
          0.33169832825660706
         ],
         "z": [
          0.6227095127105713,
          0.6227095127105713,
          0.7467238903045654,
          0.6227095127105713,
          0.6227095127105713,
          -0.12137648463249207,
          -0.12137654423713684,
          0.6227095127105713,
          0.37599968910217285,
          0.6227095127105713,
          -0.12137648463249207,
          0.37599968910217285,
          -0.12137654423713684,
          0.37599968910217285,
          0.1879999041557312
         ]
        },
        {
         "marker": {
          "color": "rgba(85, 65, 252, 1.0)",
          "size": 1
         },
         "name": "17",
         "scene": "scene",
         "type": "scatter3d",
         "x": [
          -1.9954571723937988,
          -1.859790563583374,
          -1.843774676322937,
          -1.859790563583374,
          -1.7241240739822388,
          -1.8202195167541504,
          -2.091552734375,
          -1.9954571723937988,
          -2.861757278442383,
          -1.7241240739822388,
          -1.8202195167541504,
          -2.861757278442383,
          -2.091552734375,
          -2.861757278442383,
          -1.4308788776397705
         ],
         "y": [
          0.0430489182472229,
          0.5242915749549866,
          0.5197765827178955,
          0.5242915749549866,
          1.0055341720581055,
          1.0326242446899414,
          0.07013899087905884,
          0.0430489182472229,
          0.8067548871040344,
          1.0055341720581055,
          1.0326242446899414,
          0.8067548871040344,
          0.07013899087905884,
          0.8067548871040344,
          0.4033774733543396
         ],
         "z": [
          0.6379048228263855,
          0.6379048824310303,
          0.7617923021316528,
          0.6379048824310303,
          0.6379048824310303,
          -0.10541972517967224,
          -0.10541984438896179,
          0.6379048228263855,
          0.39936402440071106,
          0.6379048824310303,
          -0.10541972517967224,
          0.39936402440071106,
          -0.10541984438896179,
          0.39936402440071106,
          0.19968178868293762
         ]
        },
        {
         "marker": {
          "color": "rgba(81, 71, 252, 1.0)",
          "size": 1
         },
         "name": "18",
         "scene": "scene",
         "type": "scatter3d",
         "x": [
          -1.9860069751739502,
          -1.8264578580856323,
          -1.8097659349441528,
          -1.8264578580856323,
          -1.6669087409973145,
          -1.7670601606369019,
          -2.086158275604248,
          -1.9860069751739502,
          -2.814800262451172,
          -1.6669087409973145,
          -1.7670601606369019,
          -2.814800262451172,
          -2.086158275604248,
          -2.814800262451172,
          -1.4074002504348755
         ],
         "y": [
          0.1411086916923523,
          0.6149694323539734,
          0.609349250793457,
          0.6149694323539734,
          1.0888302326202393,
          1.1225512027740479,
          0.17482972145080566,
          0.1411086916923523,
          0.9477448463439941,
          1.0888302326202393,
          1.1225512027740479,
          0.9477448463439941,
          0.17482972145080566,
          0.9477448463439941,
          0.47387248277664185
         ],
         "z": [
          0.653061032295227,
          0.6530610918998718,
          0.7768139839172363,
          0.6530610918998718,
          0.6530611515045166,
          -0.08945652842521667,
          -0.08945664763450623,
          0.653061032295227,
          0.42270371317863464,
          0.6530611515045166,
          -0.08945652842521667,
          0.42270371317863464,
          -0.08945664763450623,
          0.42270371317863464,
          0.21135151386260986
         ]
        },
        {
         "marker": {
          "color": "rgba(79, 74, 252, 1.0)",
          "size": 1
         },
         "name": "19",
         "scene": "scene",
         "type": "scatter3d",
         "x": [
          -1.9716441631317139,
          -1.7886111736297607,
          -1.7713171243667603,
          -1.7886111736297607,
          -1.6055781841278076,
          -1.7093428373336792,
          -2.075408935546875,
          -1.9716441631317139,
          -2.760740280151367,
          -1.6055781841278076,
          -1.7093428373336792,
          -2.760740280151367,
          -2.075408935546875,
          -2.760740280151367,
          -1.3803701400756836
         ],
         "y": [
          0.23829162120819092,
          0.7035861015319824,
          0.6967830657958984,
          0.7035861015319824,
          1.168880581855774,
          1.2096986770629883,
          0.2791096568107605,
          0.23829162120819092,
          1.0859928131103516,
          1.168880581855774,
          1.2096986770629883,
          1.0859928131103516,
          0.2791096568107605,
          1.0859928131103516,
          0.5429962873458862
         ],
         "z": [
          0.6681771278381348,
          0.6681772470474243,
          0.7917879819869995,
          0.6681772470474243,
          0.6681773066520691,
          -0.0734875500202179,
          -0.07348766922950745,
          0.6681771278381348,
          0.44601723551750183,
          0.6681773066520691,
          -0.0734875500202179,
          0.44601723551750183,
          -0.07348766922950745,
          0.44601723551750183,
          0.22300858795642853
         ]
        },
        {
         "marker": {
          "color": "rgba(77, 77, 251, 1.0)",
          "size": 1
         },
         "name": "20",
         "scene": "scene",
         "type": "scatter3d",
         "x": [
          -1.952434778213501,
          -1.7463756799697876,
          -1.728559136390686,
          -1.7463756799697876,
          -1.5403165817260742,
          -1.647215723991394,
          -2.0593338012695312,
          -1.952434778213501,
          -2.699738025665283,
          -1.5403165817260742,
          -1.647215723991394,
          -2.699738025665283,
          -2.0593338012695312,
          -2.699738025665283,
          -1.349868893623352
         ],
         "y": [
          0.334348201751709,
          0.7899134159088135,
          0.7818547487258911,
          0.7899134159088135,
          1.2454785108566284,
          1.2938306331634521,
          0.3827003240585327,
          0.334348201751709,
          1.221133828163147,
          1.2454785108566284,
          1.2938306331634521,
          1.221133828163147,
          0.3827003240585327,
          1.221133828163147,
          0.6105672121047974
         ],
         "z": [
          0.6832519769668579,
          0.6832519769668579,
          0.8067129850387573,
          0.6832519769668579,
          0.6832519769668579,
          -0.057514190673828125,
          -0.057514190673828125,
          0.6832519769668579,
          0.4693033695220947,
          0.6832519769668579,
          -0.057514190673828125,
          0.4693033695220947,
          -0.057514190673828125,
          0.4693033695220947,
          0.2346516102552414
         ]
        },
        {
         "marker": {
          "color": "rgba(73, 83, 251, 1.0)",
          "size": 1
         },
         "name": "21",
         "scene": "scene",
         "type": "scatter3d",
         "x": [
          -1.9284600019454956,
          -1.6998894214630127,
          -1.681636095046997,
          -1.6998894214630127,
          -1.4713189601898193,
          -1.580838680267334,
          -2.0379796028137207,
          -1.9284600019454956,
          -2.6319735050201416,
          -1.4713189601898193,
          -1.580838680267334,
          -2.6319735050201416,
          -2.0379796028137207,
          -2.6319735050201416,
          -1.315987229347229
         ],
         "y": [
          0.4290311932563782,
          0.8737281560897827,
          0.8643461465835571,
          0.8737281560897827,
          1.318425178527832,
          1.3747174739837646,
          0.4853234887123108,
          0.4290311932563782,
          1.3528118133544922,
          1.318425178527832,
          1.3747174739837646,
          1.3528118133544922,
          0.4853234887123108,
          1.3528118133544922,
          0.6764055490493774
         ],
         "z": [
          0.6982846260070801,
          0.6982847452163696,
          0.821588397026062,
          0.6982847452163696,
          0.6982848048210144,
          -0.04153698682785034,
          -0.04153716564178467,
          0.6982846260070801,
          0.4925605058670044,
          0.6982848048210144,
          -0.04153698682785034,
          0.4925605058670044,
          -0.04153716564178467,
          0.4925605058670044,
          0.2462804913520813
         ]
        },
        {
         "marker": {
          "color": "rgba(71, 86, 251, 1.0)",
          "size": 1
         },
         "name": "22",
         "scene": "scene",
         "type": "scatter3d",
         "x": [
          -1.8998098373413086,
          -1.6492993831634521,
          -1.6307001113891602,
          -1.6492993831634521,
          -1.3987886905670166,
          -1.5103837251663208,
          -2.0114049911499023,
          -1.8998098373413086,
          -2.557644844055176,
          -1.3987886905670166,
          -1.5103837251663208,
          -2.557644844055176,
          -2.0114049911499023,
          -2.557644844055176,
          -1.2788227796554565
         ],
         "y": [
          0.5221002101898193,
          0.9548177123069763,
          0.9440501928329468,
          0.9548177123069763,
          1.3875352144241333,
          1.4521404504776,
          0.5867054462432861,
          0.5221002101898193,
          1.4806809425354004,
          1.3875352144241333,
          1.4521404504776,
          1.4806809425354004,
          0.5867054462432861,
          1.4806809425354004,
          0.740339994430542
         ],
         "z": [
          0.7132740616798401,
          0.7132742404937744,
          0.8364129066467285,
          0.7132742404937744,
          0.713274359703064,
          -0.025557637214660645,
          -0.02555793523788452,
          0.7132740616798401,
          0.5157873630523682,
          0.713274359703064,
          -0.025557637214660645,
          0.5157873630523682,
          -0.02555793523788452,
          0.5157873630523682,
          0.2578936219215393
         ]
        },
        {
         "marker": {
          "color": "rgba(69, 89, 250, 1.0)",
          "size": 1
         },
         "name": "23",
         "scene": "scene",
         "type": "scatter3d",
         "x": [
          -1.8665902614593506,
          -1.5947659015655518,
          -1.5759170055389404,
          -1.5947659015655518,
          -1.322941780090332,
          -1.4360352754592896,
          -1.979683756828308,
          -1.8665902614593506,
          -2.476968765258789,
          -1.322941780090332,
          -1.4360352754592896,
          -2.476968765258789,
          -1.979683756828308,
          -2.476968765258789,
          -1.2384847402572632
         ],
         "y": [
          0.6133215427398682,
          1.0329779386520386,
          1.0207688808441162,
          1.0329779386520386,
          1.452634334564209,
          1.5258885622024536,
          0.6865757703781128,
          0.6133215427398682,
          1.604407787322998,
          1.452634334564209,
          1.5258885622024536,
          1.604407787322998,
          0.6865757703781128,
          1.604407787322998,
          0.8022036552429199
         ],
         "z": [
          0.7282193899154663,
          0.7282195091247559,
          0.8511855602264404,
          0.7282195091247559,
          0.7282196283340454,
          -0.009576737880706787,
          -0.009576976299285889,
          0.7282193899154663,
          0.5389822125434875,
          0.7282196283340454,
          -0.009576737880706787,
          0.5389822125434875,
          -0.009576976299285889,
          0.5389822125434875,
          0.26949089765548706
         ]
        },
        {
         "marker": {
          "color": "rgba(67, 92, 250, 1.0)",
          "size": 1
         },
         "name": "24",
         "scene": "scene",
         "type": "scatter3d",
         "x": [
          -1.8289175033569336,
          -1.5364587306976318,
          -1.517460823059082,
          -1.5364587306976318,
          -1.2440000772476196,
          -1.3579875230789185,
          -1.9429049491882324,
          -1.8289175033569336,
          -2.390178680419922,
          -1.2440000772476196,
          -1.3579875230789185,
          -2.390178680419922,
          -1.9429049491882324,
          -2.390178680419922,
          -1.1950894594192505
         ],
         "y": [
          0.7024657726287842,
          1.1080121994018555,
          1.0943118333816528,
          1.1080121994018555,
          1.5135586261749268,
          1.5957605838775635,
          0.7846677303314209,
          0.7024657726287842,
          1.7236701250076294,
          1.5135586261749268,
          1.5957605838775635,
          1.7236701250076294,
          0.7846677303314209,
          1.7236701250076294,
          0.861834704875946
         ],
         "z": [
          0.743120551109314,
          0.7431207299232483,
          0.8659066557884216,
          0.7431207299232483,
          0.7431209087371826,
          0.006405353546142578,
          0.0064051151275634766,
          0.743120551109314,
          0.5621440410614014,
          0.7431209087371826,
          0.006405353546142578,
          0.5621440410614014,
          0.0064051151275634766,
          0.5621440410614014,
          0.2810724377632141
         ]
        },
        {
         "marker": {
          "color": "rgba(63, 97, 250, 1.0)",
          "size": 1
         },
         "name": "25",
         "scene": "scene",
         "type": "scatter3d",
         "x": [
          -1.786920428276062,
          -1.4745584726333618,
          -1.4555165767669678,
          -1.4745584726333618,
          -1.162196397781372,
          -1.2764478921890259,
          -1.9011719226837158,
          -1.786920428276062,
          -2.2975258827209473,
          -1.162196397781372,
          -1.2764478921890259,
          -2.2975258827209473,
          -1.9011719226837158,
          -2.2975258827209473,
          -1.1487632989883423
         ],
         "y": [
          0.7893131971359253,
          1.1797358989715576,
          1.1645011901855469,
          1.1797358989715576,
          1.5701587200164795,
          1.661566972732544,
          0.8807214498519897,
          0.7893131971359253,
          1.8381602764129639,
          1.5701587200164795,
          1.661566972732544,
          1.8381602764129639,
          0.8807214498519897,
          1.8381602764129639,
          0.9190800189971924
         ],
         "z": [
          0.7579749226570129,
          0.7579750418663025,
          0.8805732131004333,
          0.7579750418663025,
          0.757975161075592,
          0.022386252880096436,
          0.022386014461517334,
          0.7579749226570129,
          0.5852710008621216,
          0.757975161075592,
          0.022386252880096436,
          0.5852710008621216,
          0.022386014461517334,
          0.5852710008621216,
          0.29263541102409363
         ]
        },
        {
         "marker": {
          "color": "rgba(61, 100, 249, 1.0)",
          "size": 1
         },
         "name": "26",
         "scene": "scene",
         "type": "scatter3d",
         "x": [
          -1.7407376766204834,
          -1.4092531204223633,
          -1.3902760744094849,
          -1.4092531204223633,
          -1.0777684450149536,
          -1.1916303634643555,
          -1.8545997142791748,
          -1.7407376766204834,
          -2.1992759704589844,
          -1.0777684450149536,
          -1.1916303634643555,
          -2.1992759704589844,
          -1.8545997142791748,
          -2.1992759704589844,
          -1.0996381044387817
         ],
         "y": [
          0.873650074005127,
          1.2479734420776367,
          1.231168270111084,
          1.2479734420776367,
          1.6222968101501465,
          1.723128080368042,
          0.9744814038276672,
          0.873650074005127,
          1.9475836753845215,
          1.6222968101501465,
          1.723128080368042,
          1.9475836753845215,
          0.9744814038276672,
          1.9475836753845215,
          0.973791778087616
         ],
         "z": [
          0.7727832794189453,
          0.7727832794189453,
          0.895186185836792,
          0.7727832794189453,
          0.7727832794189453,
          0.038366079330444336,
          0.038366079330444336,
          0.7727832794189453,
          0.6083619594573975,
          0.7727832794189453,
          0.038366079330444336,
          0.6083619594573975,
          0.038366079330444336,
          0.6083619594573975,
          0.3041810989379883
         ]
        },
        {
         "marker": {
          "color": "rgba(59, 103, 249, 1.0)",
          "size": 1
         },
         "name": "27",
         "scene": "scene",
         "type": "scatter3d",
         "x": [
          -1.6905194520950317,
          -1.34074068069458,
          -1.3219408988952637,
          -1.34074068069458,
          -0.990962028503418,
          -1.1037603616714478,
          -1.8033177852630615,
          -1.6905194520950317,
          -2.0957095623016357,
          -0.990962028503418,
          -1.1037603616714478,
          -2.0957095623016357,
          -1.8033177852630615,
          -2.0957095623016357,
          -1.0478551387786865
         ],
         "y": [
          0.9552724361419678,
          1.3125604391098022,
          1.2941558361053467,
          1.3125604391098022,
          1.6698484420776367,
          1.7802762985229492,
          1.0657002925872803,
          0.9552724361419678,
          2.051661729812622,
          1.6698484420776367,
          1.7802762985229492,
          2.051661729812622,
          1.0657002925872803,
          2.051661729812622,
          1.0258307456970215
         ],
         "z": [
          0.7875434160232544,
          0.787543535232544,
          0.9097434878349304,
          0.787543535232544,
          0.7875436544418335,
          0.05434370040893555,
          0.054343461990356445,
          0.7875434160232544,
          0.6314152479171753,
          0.7875436544418335,
          0.05434370040893555,
          0.6314152479171753,
          0.054343461990356445,
          0.6314152479171753,
          0.3157076835632324
         ]
        },
        {
         "marker": {
          "color": "rgba(55, 109, 248, 1.0)",
          "size": 1
         },
         "name": "28",
         "scene": "scene",
         "type": "scatter3d",
         "x": [
          -1.6364258527755737,
          -1.2692272663116455,
          -1.2507200241088867,
          -1.2692272663116455,
          -0.9020285606384277,
          -1.0130720138549805,
          -1.7474693059921265,
          -1.6364258527755737,
          -1.9871230125427246,
          -0.9020285606384277,
          -1.0130720138549805,
          -1.9871230125427246,
          -1.7474693059921265,
          -1.9871230125427246,
          -0.993561863899231
         ],
         "y": [
          1.0339843034744263,
          1.3733441829681396,
          1.353318691253662,
          1.3733441829681396,
          1.712704062461853,
          1.8328568935394287,
          1.154137134552002,
          1.0339843034744263,
          2.1501312255859375,
          1.712704062461853,
          1.8328568935394287,
          2.1501312255859375,
          1.154137134552002,
          2.1501312255859375,
          1.0750652551651
         ],
         "z": [
          0.8022554516792297,
          0.8022554516792297,
          0.9242450594902039,
          0.8022554516792297,
          0.8022555112838745,
          0.07031792402267456,
          0.07031786441802979,
          0.8022554516792297,
          0.6544297337532043,
          0.8022555112838745,
          0.07031792402267456,
          0.6544297337532043,
          0.07031786441802979,
          0.6544297337532043,
          0.32721513509750366
         ]
        },
        {
         "marker": {
          "color": "rgba(53, 112, 248, 1.0)",
          "size": 1
         },
         "name": "29",
         "scene": "scene",
         "type": "scatter3d",
         "x": [
          -1.578626036643982,
          -1.194925308227539,
          -1.1768282651901245,
          -1.194925308227539,
          -0.8112245798110962,
          -0.919806718826294,
          -1.6872081756591797,
          -1.578626036643982,
          -1.8738242387771606,
          -0.8112245798110962,
          -0.919806718826294,
          -1.8738242387771606,
          -1.6872081756591797,
          -1.8738242387771606,
          -0.9369124174118042
         ],
         "y": [
          1.1095997095108032,
          1.4301831722259521,
          1.4085232019424438,
          1.4301831722259521,
          1.7507667541503906,
          1.8807271718978882,
          1.2395601272583008,
          1.1095997095108032,
          2.2427453994750977,
          1.7507667541503906,
          1.8807271718978882,
          2.2427453994750977,
          1.2395601272583008,
          2.2427453994750977,
          1.1213724613189697
         ],
         "z": [
          0.8169173002243042,
          0.8169174790382385,
          0.938689112663269,
          0.8169174790382385,
          0.8169175982475281,
          0.08628755807876587,
          0.08628726005554199,
          0.8169173002243042,
          0.6774038076400757,
          0.8169175982475281,
          0.08628755807876587,
          0.6774038076400757,
          0.08628726005554199,
          0.6774038076400757,
          0.3387017548084259
         ]
        },
        {
         "marker": {
          "color": "rgba(51, 115, 248, 1.0)",
          "size": 1
         },
         "name": "30",
         "scene": "scene",
         "type": "scatter3d",
         "x": [
          -1.5172991752624512,
          -1.1180555820465088,
          -1.100488543510437,
          -1.1180555820465088,
          -0.718812108039856,
          -0.8242143392562866,
          -1.6227014064788818,
          -1.5172991752624512,
          -1.7561346292495728,
          -0.718812108039856,
          -0.8242143392562866,
          -1.7561346292495728,
          -1.6227014064788818,
          -1.7561346292495728,
          -0.8780678510665894
         ],
         "y": [
          1.1819429397583008,
          1.4829485416412354,
          1.4596481323242188,
          1.4829485416412354,
          1.7839542627334595,
          1.9237565994262695,
          1.3217451572418213,
          1.1819429397583008,
          2.3292746543884277,
          1.7839542627334595,
          1.9237565994262695,
          2.3292746543884277,
          1.3217451572418213,
          2.3292746543884277,
          1.1646372079849243
         ],
         "z": [
          0.8315292596817017,
          0.8315293788909912,
          0.953075647354126,
          0.8315293788909912,
          0.8315296173095703,
          0.10225224494934082,
          0.10225188732147217,
          0.8315292596817017,
          0.7003360986709595,
          0.8315296173095703,
          0.10225224494934082,
          0.7003360986709595,
          0.10225188732147217,
          0.7003360986709595,
          0.35016804933547974
         ]
        },
        {
         "marker": {
          "color": "rgba(49, 117, 247, 1.0)",
          "size": 1
         },
         "name": "31",
         "scene": "scene",
         "type": "scatter3d",
         "x": [
          -1.4526324272155762,
          -1.0388436317443848,
          -1.0219277143478394,
          -1.0388436317443848,
          -0.6250549554824829,
          -0.726550817489624,
          -1.5541282892227173,
          -1.4526324272155762,
          -1.634386658668518,
          -0.6250549554824829,
          -0.726550817489624,
          -1.634386658668518,
          -1.5541282892227173,
          -1.634386658668518,
          -0.8171941041946411
         ],
         "y": [
          1.2508466243743896,
          1.531522274017334,
          1.5065836906433105,
          1.531522274017334,
          1.8121979236602783,
          1.9618290662765503,
          1.4004777669906616,
          1.2508466243743896,
          2.4095072746276855,
          1.8121979236602783,
          1.9618290662765503,
          2.4095072746276855,
          1.4004777669906616,
          2.4095072746276855,
          1.2047531604766846
         ],
         "z": [
          0.8460898995399475,
          0.8460898995399475,
          0.9674031734466553,
          0.8460898995399475,
          0.8460898995399475,
          0.1182100772857666,
          0.1182100772857666,
          0.8460898995399475,
          0.7232250571250916,
          0.8460898995399475,
          0.1182100772857666,
          0.7232250571250916,
          0.1182100772857666,
          0.7232250571250916,
          0.3616124391555786
         ]
        },
        {
         "marker": {
          "color": "rgba(45, 123, 246, 1.0)",
          "size": 1
         },
         "name": "32",
         "scene": "scene",
         "type": "scatter3d",
         "x": [
          -1.384819746017456,
          -0.9575203657150269,
          -0.9413776397705078,
          -0.9575203657150269,
          -0.5302209258079529,
          -0.6270772814750671,
          -1.4816761016845703,
          -1.384819746017456,
          -1.508922815322876,
          -0.5302209258079529,
          -0.6270772814750671,
          -1.508922815322876,
          -1.4816761016845703,
          -1.508922815322876,
          -0.754461407661438
         ],
         "y": [
          1.316157341003418,
          1.5758016109466553,
          1.5492353439331055,
          1.5758016109466553,
          1.8354460000991821,
          1.9948434829711914,
          1.4755548238754272,
          1.316157341003418,
          2.483250617980957,
          1.8354460000991821,
          1.9948434829711914,
          2.483250617980957,
          1.4755548238754272,
          2.483250617980957,
          1.2416253089904785
         ],
         "z": [
          0.860598623752594,
          0.8605986833572388,
          0.9816715717315674,
          0.8605986833572388,
          0.8605986833572388,
          0.13416123390197754,
          0.13416117429733276,
          0.860598623752594,
          0.7460697293281555,
          0.8605986833572388,
          0.13416123390197754,
          0.7460697293281555,
          0.13416117429733276,
          0.7460697293281555,
          0.3730350136756897
         ]
        },
        {
         "marker": {
          "color": "rgba(43, 126, 246, 1.0)",
          "size": 1
         },
         "name": "33",
         "scene": "scene",
         "type": "scatter3d",
         "x": [
          -1.3140650987625122,
          -0.874322772026062,
          -0.8590759038925171,
          -0.874322772026062,
          -0.4345805048942566,
          -0.5260617136955261,
          -1.4055463075637817,
          -1.3140650987625122,
          -1.3800946474075317,
          -0.4345805048942566,
          -0.5260617136955261,
          -1.3800946474075317,
          -1.4055463075637817,
          -1.3800946474075317,
          -0.6900478005409241
         ],
         "y": [
          1.3777300119400024,
          1.6156935691833496,
          1.5875182151794434,
          1.6156935691833496,
          1.8536572456359863,
          2.0227091312408447,
          1.5467820167541504,
          1.3777300119400024,
          2.5503294467926025,
          1.8536572456359863,
          2.0227091312408447,
          2.5503294467926025,
          1.5467820167541504,
          2.5503294467926025,
          1.2751646041870117
         ],
         "z": [
          0.8750535249710083,
          0.8750536441802979,
          0.9958785772323608,
          0.8750536441802979,
          0.8750537037849426,
          0.15010368824005127,
          0.15010350942611694,
          0.8750535249710083,
          0.7688680291175842,
          0.8750537037849426,
          0.15010368824005127,
          0.7688680291175842,
          0.15010350942611694,
          0.7688680291175842,
          0.38443389534950256
         ]
        },
        {
         "marker": {
          "color": "rgba(41, 128, 246, 1.0)",
          "size": 1
         },
         "name": "34",
         "scene": "scene",
         "type": "scatter3d",
         "x": [
          -1.2405755519866943,
          -0.7894896864891052,
          -0.7752610445022583,
          -0.7894896864891052,
          -0.3384038209915161,
          -0.42377543449401855,
          -1.3259471654891968,
          -1.2405755519866943,
          -1.2482631206512451,
          -0.3384038209915161,
          -0.42377543449401855,
          -1.2482631206512451,
          -1.3259471654891968,
          -1.2482631206512451,
          -0.6241316795349121
         ],
         "y": [
          1.4354329109191895,
          1.6511212587356567,
          1.621363878250122,
          1.6511212587356567,
          1.866809606552124,
          2.045353889465332,
          1.6139771938323975,
          1.4354329109191895,
          2.6105897426605225,
          1.866809606552124,
          2.045353889465332,
          2.6105897426605225,
          1.6139771938323975,
          2.6105897426605225,
          1.3052952289581299
         ],
         "z": [
          0.8894544839859009,
          0.8894545435905457,
          1.0100241899490356,
          0.8894545435905457,
          0.8894546031951904,
          0.1660366654396057,
          0.1660366654396057,
          0.8894544839859009,
          0.7916191220283508,
          0.8894546031951904,
          0.1660366654396057,
          0.7916191220283508,
          0.1660366654396057,
          0.7916191220283508,
          0.3958088457584381
         ]
        },
        {
         "marker": {
          "color": "rgba(37, 134, 245, 1.0)",
          "size": 1
         },
         "name": "35",
         "scene": "scene",
         "type": "scatter3d",
         "x": [
          -1.1645673513412476,
          -0.7032651901245117,
          -0.690176784992218,
          -0.7032651901245117,
          -0.24196314811706543,
          -0.32049375772476196,
          -1.2430980205535889,
          -1.1645673513412476,
          -1.1137953996658325,
          -0.24196314811706543,
          -0.32049375772476196,
          -1.1137953996658325,
          -1.2430980205535889,
          -1.1137953996658325,
          -0.5568981170654297
         ],
         "y": [
          1.4891446828842163,
          1.682018518447876,
          1.65071439743042,
          1.682018518447876,
          1.874892234802246,
          2.062716484069824,
          1.6769688129425049,
          1.4891446828842163,
          2.663895845413208,
          1.874892234802246,
          2.062716484069824,
          2.663895845413208,
          1.6769688129425049,
          2.663895845413208,
          1.3319478034973145
         ],
         "z": [
          0.903801441192627,
          0.903801441192627,
          1.0241084098815918,
          0.903801441192627,
          0.903801441192627,
          0.1819601058959961,
          0.1819601058959961,
          0.903801441192627,
          0.8143213987350464,
          0.903801441192627,
          0.1819601058959961,
          0.8143213987350464,
          0.1819601058959961,
          0.8143213987350464,
          0.40716052055358887
         ]
        },
        {
         "marker": {
          "color": "rgba(35, 136, 244, 1.0)",
          "size": 1
         },
         "name": "36",
         "scene": "scene",
         "type": "scatter3d",
         "x": [
          -1.0862603187561035,
          -0.6158949136734009,
          -0.604067325592041,
          -0.6158949136734009,
          -0.1455293893814087,
          -0.21649467945098877,
          -1.1572256088256836,
          -1.0862603187561035,
          -0.977064847946167,
          -0.1455293893814087,
          -0.21649467945098877,
          -0.977064847946167,
          -1.1572256088256836,
          -0.977064847946167,
          -0.4885338544845581
         ],
         "y": [
          1.53875732421875,
          1.70833420753479,
          1.6755272150039673,
          1.70833420753479,
          1.8779109716415405,
          2.0747528076171875,
          1.7355990409851074,
          1.53875732421875,
          2.7101330757141113,
          1.8779109716415405,
          2.0747528076171875,
          2.7101330757141113,
          1.7355990409851074,
          2.7101330757141113,
          1.355065941810608
         ],
         "z": [
          0.9180923700332642,
          0.9180926084518433,
          1.0381293296813965,
          0.9180926084518433,
          0.9180929064750671,
          0.1978725790977478,
          0.19787204265594482,
          0.9180923700332642,
          0.8369733691215515,
          0.9180929064750671,
          0.1978725790977478,
          0.8369733691215515,
          0.19787204265594482,
          0.8369733691215515,
          0.418487012386322
         ]
        },
        {
         "marker": {
          "color": "rgba(33, 139, 244, 1.0)",
          "size": 1
         },
         "name": "37",
         "scene": "scene",
         "type": "scatter3d",
         "x": [
          -1.0058761835098267,
          -0.5276233553886414,
          -0.5171754360198975,
          -0.5276233553886414,
          -0.049370527267456055,
          -0.11205780506134033,
          -1.068563461303711,
          -1.0058761835098267,
          -0.8384501338005066,
          -0.049370527267456055,
          -0.11205780506134033,
          -0.8384501338005066,
          -1.068563461303711,
          -0.8384501338005066,
          -0.41922542452812195
         ],
         "y": [
          1.584173560142517,
          1.7300304174423218,
          1.695772647857666,
          1.7300304174423218,
          1.875887393951416,
          2.0814342498779297,
          1.7897205352783203,
          1.584173560142517,
          2.749206066131592,
          1.875887393951416,
          2.0814342498779297,
          2.749206066131592,
          1.7897205352783203,
          2.749206066131592,
          1.3746027946472168
         ],
         "z": [
          0.9323261976242065,
          0.9323263168334961,
          1.0520853996276855,
          0.9323263168334961,
          0.9323263764381409,
          0.2137717604637146,
          0.21377158164978027,
          0.9323261976242065,
          0.8595736622810364,
          0.9323263764381409,
          0.2137717604637146,
          0.8595736622810364,
          0.21377158164978027,
          0.8595736622810364,
          0.4297866225242615
         ]
        },
        {
         "marker": {
          "color": "rgba(31, 142, 243, 1.0)",
          "size": 1
         },
         "name": "38",
         "scene": "scene",
         "type": "scatter3d",
         "x": [
          -0.9236477613449097,
          -0.4387028217315674,
          -0.42975154519081116,
          -0.4387028217315674,
          0.04624205827713013,
          -0.007465660572052002,
          -0.977355420589447,
          -0.9236477613449097,
          -0.6983333230018616,
          0.04624205827713013,
          -0.007465660572052002,
          -0.6983333230018616,
          -0.977355420589447,
          -0.6983333230018616,
          -0.3491683900356293
         ],
         "y": [
          1.6253111362457275,
          1.7470824718475342,
          1.7114341259002686,
          1.7470824718475342,
          1.8688538074493408,
          2.0827441215515137,
          1.8392014503479004,
          1.6253111362457275,
          2.7810416221618652,
          1.8688538074493408,
          2.0827441215515137,
          2.7810416221618652,
          1.8392014503479004,
          2.7810416221618652,
          1.3905205726623535
         ],
         "z": [
          0.9465023279190063,
          0.9465029239654541,
          1.0659769773483276,
          0.9465029239654541,
          0.9465034604072571,
          0.22965878248214722,
          0.22965764999389648,
          0.9465023279190063,
          0.8821210265159607,
          0.9465034604072571,
          0.22965878248214722,
          0.8821210265159607,
          0.22965764999389648,
          0.8821210265159607,
          0.44106030464172363
         ]
        },
        {
         "marker": {
          "color": "rgba(27, 147, 243, 1.0)",
          "size": 1
         },
         "name": "39",
         "scene": "scene",
         "type": "scatter3d",
         "x": [
          -0.8398049473762512,
          -0.3493797183036804,
          -0.3420388400554657,
          -0.3493797183036804,
          0.14104557037353516,
          0.09700024127960205,
          -0.8838502168655396,
          -0.8398049473762512,
          -0.5570999383926392,
          0.14104557037353516,
          0.09700024127960205,
          -0.5570999383926392,
          -0.8838502168655396,
          -0.5570999383926392,
          -0.2785535454750061
         ],
         "y": [
          1.662097454071045,
          1.7594788074493408,
          1.7225083112716675,
          1.7594788074493408,
          1.8568600416183472,
          2.0786826610565186,
          1.8839201927185059,
          1.662097454071045,
          2.805586099624634,
          1.8568600416183472,
          2.0786826610565186,
          2.805586099624634,
          1.8839201927185059,
          2.805586099624634,
          1.4027920961380005
         ],
         "z": [
          0.9606208205223083,
          0.9606214761734009,
          1.079803228378296,
          0.9606214761734009,
          0.9606221318244934,
          0.24553143978118896,
          0.2455301284790039,
          0.9606208205223083,
          0.904613733291626,
          0.9606221318244934,
          0.24553143978118896,
          0.904613733291626,
          0.2455301284790039,
          0.904613733291626,
          0.4523073434829712
         ]
        },
        {
         "marker": {
          "color": "rgba(25, 149, 242, 1.0)",
          "size": 1
         },
         "name": "40",
         "scene": "scene",
         "type": "scatter3d",
         "x": [
          -0.7545757293701172,
          -0.2598966956138611,
          -0.25427648425102234,
          -0.2598966956138611,
          0.23478230834007263,
          0.2010609209537506,
          -0.7882970571517944,
          -0.7545757293701172,
          -0.4151361882686615,
          0.23478230834007263,
          0.2010609209537506,
          -0.4151361882686615,
          -0.7882970571517944,
          -0.4151361882686615,
          -0.2075679898262024
         ],
         "y": [
          1.6944726705551147,
          1.7672227621078491,
          1.7290066480636597,
          1.7672227621078491,
          1.839972734451294,
          2.0692691802978516,
          1.9237689971923828,
          1.6944726705551147,
          2.8228063583374023,
          1.839972734451294,
          2.0692691802978516,
          2.8228063583374023,
          1.9237689971923828,
          2.8228063583374023,
          1.4114031791687012
         ],
         "z": [
          0.9746800661087036,
          0.9746801257133484,
          1.093562126159668,
          0.9746801257133484,
          0.9746801853179932,
          0.2613878846168518,
          0.2613876461982727,
          0.9746800661087036,
          0.9270510077476501,
          0.9746801853179932,
          0.2613878846168518,
          0.9270510077476501,
          0.2613876461982727,
          0.9270510077476501,
          0.4635254144668579
         ]
        },
        {
         "marker": {
          "color": "rgba(23, 152, 242, 1.0)",
          "size": 1
         },
         "name": "41",
         "scene": "scene",
         "type": "scatter3d",
         "x": [
          -0.6682078838348389,
          -0.17051094770431519,
          -0.16671866178512573,
          -0.17051094770431519,
          0.3271860182285309,
          0.30443230271339417,
          -0.6909615993499756,
          -0.6682078838348389,
          -0.27282950282096863,
          0.3271860182285309,
          0.30443230271339417,
          -0.27282950282096863,
          -0.6909615993499756,
          -0.27282950282096863,
          -0.136416956782341
         ],
         "y": [
          1.7223949432373047,
          1.770329236984253,
          1.7309517860412598,
          1.770329236984253,
          1.8182635307312012,
          2.054527997970581,
          1.9586594104766846,
          1.7223949432373047,
          2.8326923847198486,
          1.8182635307312012,
          2.054527997970581,
          2.8326923847198486,
          1.9586594104766846,
          2.8326923847198486,
          1.4163460731506348
         ],
         "z": [
          0.9886780977249146,
          0.9886791110038757,
          1.107254147529602,
          0.9886791110038757,
          0.9886801242828369,
          0.27723002433776855,
          0.2772279977798462,
          0.9886780977249146,
          0.9494309425354004,
          0.9886801242828369,
          0.27723002433776855,
          0.9494309425354004,
          0.2772279977798462,
          0.9494309425354004,
          0.47471562027931213
         ]
        },
        {
         "marker": {
          "color": "rgba(19, 157, 241, 1.0)",
          "size": 1
         },
         "name": "42",
         "scene": "scene",
         "type": "scatter3d",
         "x": [
          -0.5809357166290283,
          -0.08146491646766663,
          -0.07960338890552521,
          -0.08146491646766663,
          0.41800591349601746,
          0.40683677792549133,
          -0.5921049118041992,
          -0.5809357166290283,
          -0.1305657923221588,
          0.41800591349601746,
          0.40683677792549133,
          -0.1305657923221588,
          -0.5921049118041992,
          -0.1305657923221588,
          -0.06529134511947632
         ],
         "y": [
          1.745829701423645,
          1.7688267230987549,
          1.7283798456192017,
          1.7688267230987549,
          1.7918237447738647,
          2.0345046520233154,
          1.9885106086730957,
          1.745829701423645,
          2.8352513313293457,
          1.7918237447738647,
          2.0345046520233154,
          2.8352513313293457,
          1.9885106086730957,
          2.8352513313293457,
          1.417625069618225
         ],
         "z": [
          1.0026140213012695,
          1.0026172399520874,
          1.120877981185913,
          1.0026172399520874,
          1.0026204586029053,
          0.29305630922317505,
          0.2930499315261841,
          1.0026140213012695,
          0.9717523455619812,
          1.0026204586029053,
          0.29305630922317505,
          0.9717523455619812,
          0.2930499315261841,
          0.9717523455619812,
          0.4858766198158264
         ]
        },
        {
         "marker": {
          "color": "rgba(17, 159, 240, 1.0)",
          "size": 1
         },
         "name": "43",
         "scene": "scene",
         "type": "scatter3d",
         "x": [
          -0.4929773509502411,
          0.00701865553855896,
          0.006853734143078327,
          0.00701865553855896,
          0.5070146918296814,
          0.5080041885375977,
          -0.49198785424232483,
          -0.4929773509502411,
          0.011270130053162575,
          0.5070146918296814,
          0.5080041885375977,
          0.011270130053162575,
          -0.49198785424232483,
          0.011270130053162575,
          0.005635063163936138
         ],
         "y": [
          1.7647491693496704,
          1.7627582550048828,
          1.7213413715362549,
          1.7627582550048828,
          1.7607674598693848,
          2.0092687606811523,
          2.0132503509521484,
          1.7647491693496704,
          2.8305137157440186,
          1.7607674598693848,
          2.0092687606811523,
          2.8305137157440186,
          2.0132503509521484,
          2.8305137157440186,
          1.4152566194534302
         ],
         "z": [
          1.0164930820465088,
          1.0164930820465088,
          1.134432077407837,
          1.0164930820465088,
          1.0164930820465088,
          0.3088589310646057,
          0.30885881185531616,
          1.0164930820465088,
          0.9940136671066284,
          1.0164930820465088,
          0.3088589310646057,
          0.9940136671066284,
          0.30885881185531616,
          0.9940136671066284,
          0.4970071315765381
         ]
        },
        {
         "marker": {
          "color": "rgba(15, 162, 239, 1.0)",
          "size": 1
         },
         "name": "44",
         "scene": "scene",
         "type": "scatter3d",
         "x": [
          -0.40459275245666504,
          0.09467902034521103,
          0.0923946350812912,
          0.09467902034521103,
          0.5939508080482483,
          0.6076570749282837,
          -0.39088648557662964,
          -0.40459275245666504,
          0.15229685604572296,
          0.5939508080482483,
          0.6076570749282837,
          0.15229685604572296,
          -0.39088648557662964,
          0.15229685604572296,
          0.0761498212814331
         ],
         "y": [
          1.7791557312011719,
          1.75217866897583,
          1.7098981142044067,
          1.75217866897583,
          1.7252017259597778,
          1.9788851737976074,
          2.032839059829712,
          1.7791557312011719,
          2.818530797958374,
          1.7252017259597778,
          1.9788851737976074,
          2.818530797958374,
          2.032839059829712,
          2.818530797958374,
          1.409265160560608
         ],
         "z": [
          1.0303069353103638,
          1.030306339263916,
          1.1479164361953735,
          1.030306339263916,
          1.0303056240081787,
          0.3246449828147888,
          0.3246462345123291,
          1.0303069353103638,
          1.0162136554718018,
          1.0303056240081787,
          0.3246449828147888,
          1.0162136554718018,
          0.3246462345123291,
          1.0162136554718018,
          0.5081071257591248
         ]
        },
        {
         "marker": {
          "color": "rgba(13, 164, 239, 1.0)",
          "size": 1
         },
         "name": "45",
         "scene": "scene",
         "type": "scatter3d",
         "x": [
          -0.3160085380077362,
          0.18129102885723114,
          0.17680063843727112,
          0.18129102885723114,
          0.6785905957221985,
          0.7055329084396362,
          -0.28906622529029846,
          -0.3160085380077362,
          0.29213687777519226,
          0.6785905957221985,
          0.7055329084396362,
          0.29213687777519226,
          -0.28906622529029846,
          0.29213687777519226,
          0.14607486128807068
         ],
         "y": [
          1.7890493869781494,
          1.737154483795166,
          1.6941235065460205,
          1.737154483795166,
          1.6852596998214722,
          1.9434452056884766,
          2.0472350120544434,
          1.7890493869781494,
          2.7993717193603516,
          1.6852596998214722,
          1.9434452056884766,
          2.7993717193603516,
          2.0472350120544434,
          2.7993717193603516,
          1.3996851444244385
         ],
         "z": [
          1.0440560579299927,
          1.0440559387207031,
          1.1613298654556274,
          1.0440559387207031,
          1.0440558195114136,
          0.3404123783111572,
          0.34041261672973633,
          1.0440560579299927,
          1.038351058959961,
          1.0440558195114136,
          0.3404123783111572,
          1.038351058959961,
          0.34041261672973633,
          1.038351058959961,
          0.5191757678985596
         ]
        },
        {
         "marker": {
          "color": "rgba(9, 169, 238, 1.0)",
          "size": 1
         },
         "name": "46",
         "scene": "scene",
         "type": "scatter3d",
         "x": [
          -0.22746670246124268,
          0.26661771535873413,
          0.2598412036895752,
          0.26661771535873413,
          0.7607020735740662,
          0.8013612031936646,
          -0.1868075132369995,
          -0.22746670246124268,
          0.4304180145263672,
          0.7607020735740662,
          0.8013612031936646,
          0.4304180145263672,
          -0.1868075132369995,
          0.4304180145263672,
          0.2152119129896164
         ],
         "y": [
          1.7944529056549072,
          1.7177671194076538,
          1.6741055250167847,
          1.7177671194076538,
          1.64108145236969,
          1.9030510187149048,
          2.056422472000122,
          1.7944529056549072,
          2.7731285095214844,
          1.64108145236969,
          1.9030510187149048,
          2.7731285095214844,
          2.056422472000122,
          2.7731285095214844,
          1.3865636587142944
         ],
         "z": [
          1.0577419996261597,
          1.057741641998291,
          1.1746721267700195,
          1.057741641998291,
          1.0577411651611328,
          0.3561580777168274,
          0.35615891218185425,
          1.0577419996261597,
          1.0604246854782104,
          1.0577411651611328,
          0.3561580777168274,
          1.0604246854782104,
          0.35615891218185425,
          1.0604246854782104,
          0.5302127003669739
         ]
        },
        {
         "marker": {
          "color": "rgba(7, 171, 237, 1.0)",
          "size": 1
         },
         "name": "47",
         "scene": "scene",
         "type": "scatter3d",
         "x": [
          -0.1391918659210205,
          0.3504420518875122,
          0.3413059711456299,
          0.3504420518875122,
          0.8400759696960449,
          0.8948924541473389,
          -0.08437538146972656,
          -0.1391918659210205,
          0.5667741894721985,
          0.8400759696960449,
          0.8948924541473389,
          0.5667741894721985,
          -0.08437538146972656,
          0.5667741894721985,
          0.2833883762359619
         ],
         "y": [
          1.7953925132751465,
          1.694108009338379,
          1.6499416828155518,
          1.694108009338379,
          1.5928235054016113,
          1.8578214645385742,
          2.0603904724121094,
          1.7953925132751465,
          2.739910364151001,
          1.5928235054016113,
          1.8578214645385742,
          2.739910364151001,
          2.0603904724121094,
          2.739910364151001,
          1.3699551820755005
         ],
         "z": [
          1.0713615417480469,
          1.0713613033294678,
          1.1879411935806274,
          1.0713613033294678,
          1.0713610649108887,
          0.3718818426132202,
          0.3718823194503784,
          1.0713615417480469,
          1.0824326276779175,
          1.0713610649108887,
          0.3718818426132202,
          1.0824326276779175,
          0.3718823194503784,
          1.0824326276779175,
          0.541216254234314
         ]
        },
        {
         "marker": {
          "color": "rgba(5, 174, 237, 1.0)",
          "size": 1
         },
         "name": "48",
         "scene": "scene",
         "type": "scatter3d",
         "x": [
          -0.05141472816467285,
          0.43254512548446655,
          0.42098328471183777,
          0.43254512548446655,
          0.916504979133606,
          0.9858759641647339,
          0.017956316471099854,
          -0.05141472816467285,
          0.7008464932441711,
          0.916504979133606,
          0.9858759641647339,
          0.7008464932441711,
          0.017956316471099854,
          0.7008464932441711,
          0.3504226803779602
         ],
         "y": [
          1.79190993309021,
          1.6662797927856445,
          1.621740460395813,
          1.6662797927856445,
          1.5406497716903687,
          1.8078861236572266,
          2.0591464042663574,
          1.79190993309021,
          2.6998467445373535,
          1.5406497716903687,
          1.8078861236572266,
          2.6998467445373535,
          2.0591464042663574,
          2.6998467445373535,
          1.3499236106872559
         ],
         "z": [
          1.0849153995513916,
          1.0849151611328125,
          1.2011371850967407,
          1.0849151611328125,
          1.0849149227142334,
          0.38758254051208496,
          0.38758301734924316,
          1.0849153995513916,
          1.1043736934661865,
          1.0849149227142334,
          0.38758254051208496,
          1.1043736934661865,
          0.38758301734924316,
          1.1043736934661865,
          0.5521866083145142
         ]
        },
        {
         "marker": {
          "color": "rgba(1, 178, 236, 1.0)",
          "size": 1
         },
         "name": "49",
         "scene": "scene",
         "type": "scatter3d",
         "x": [
          0.035642385482788086,
          0.5127187371253967,
          0.49867257475852966,
          0.5127187371253967,
          0.9897950887680054,
          1.0740721225738525,
          0.1199195384979248,
          0.035642385482788086,
          0.832284688949585,
          0.9897950887680054,
          1.0740721225738525,
          0.832284688949585,
          0.1199195384979248,
          0.832284688949585,
          0.41614359617233276
         ],
         "y": [
          1.7840580940246582,
          1.6343978643417358,
          1.5896223783493042,
          1.6343978643417358,
          1.484737515449524,
          1.7533903121948242,
          2.052711009979248,
          1.7840580940246582,
          2.6530869007110596,
          1.484737515449524,
          1.7533903121948242,
          2.6530869007110596,
          2.052711009979248,
          2.6530869007110596,
          1.326542854309082
         ],
         "z": [
          1.0984026193618774,
          1.098402500152588,
          1.2142596244812012,
          1.098402500152588,
          1.098402500152588,
          0.4032599925994873,
          0.40326011180877686,
          1.0984026193618774,
          1.126246690750122,
          1.098402500152588,
          0.4032599925994873,
          1.126246690750122,
          0.40326011180877686,
          1.126246690750122,
          0.5631235837936401
         ]
        },
        {
         "marker": {
          "color": "rgba(0, 180, 235, 1.0)",
          "size": 1
         },
         "name": "50",
         "scene": "scene",
         "type": "scatter3d",
         "x": [
          0.12175440788269043,
          0.5907544493675232,
          0.5741730332374573,
          0.5907544493675232,
          1.059754490852356,
          1.159243106842041,
          0.22124290466308594,
          0.12175440788269043,
          0.9607478380203247,
          1.059754490852356,
          1.159243106842041,
          0.9607478380203247,
          0.22124290466308594,
          0.9607478380203247,
          0.48037415742874146
         ],
         "y": [
          1.7719067335128784,
          1.5985891819000244,
          1.5537195205688477,
          1.5985891819000244,
          1.4252716302871704,
          1.6944894790649414,
          2.0411245822906494,
          1.7719067335128784,
          2.599797248840332,
          1.4252716302871704,
          1.6944894790649414,
          2.599797248840332,
          2.0411245822906494,
          2.599797248840332,
          1.2998985052108765
         ],
         "z": [
          1.1118217706680298,
          1.1118216514587402,
          1.227306604385376,
          1.1118216514587402,
          1.1118216514587402,
          0.41891205310821533,
          0.4189121723175049,
          1.1118217706680298,
          1.148050308227539,
          1.1118216514587402,
          0.41891205310821533,
          1.148050308227539,
          0.4189121723175049,
          1.148050308227539,
          0.5740252137184143
         ]
        },
        {
         "marker": {
          "color": "rgba(2, 183, 234, 1.0)",
          "size": 1
         },
         "name": "51",
         "scene": "scene",
         "type": "scatter3d",
         "x": [
          0.20670843124389648,
          0.6664602160453796,
          0.6473011374473572,
          0.6664602160453796,
          1.1262120008468628,
          1.241166591644287,
          0.3216630220413208,
          0.20670843124389648,
          1.0859049558639526,
          1.1262120008468628,
          1.241166591644287,
          1.0859049558639526,
          0.3216630220413208,
          1.0859049558639526,
          0.5429537892341614
         ],
         "y": [
          1.7555286884307861,
          1.5589879751205444,
          1.514170527458191,
          1.5589879751205444,
          1.3624472618103027,
          1.6313519477844238,
          2.0244333744049072,
          1.7555286884307861,
          2.5401611328125,
          1.3624472618103027,
          1.6313519477844238,
          2.5401611328125,
          2.0244333744049072,
          2.5401611328125,
          1.2700798511505127
         ],
         "z": [
          1.1251729726791382,
          1.125172734260559,
          1.2402784824371338,
          1.125172734260559,
          1.12517249584198,
          0.4345383644104004,
          0.4345388412475586,
          1.1251729726791382,
          1.1697829961776733,
          1.12517249584198,
          0.4345383644104004,
          1.1697829961776733,
          0.4345388412475586,
          1.1697829961776733,
          0.5848920345306396
         ]
        },
        {
         "marker": {
          "color": "rgba(4, 185, 234, 1.0)",
          "size": 1
         },
         "name": "52",
         "scene": "scene",
         "type": "scatter3d",
         "x": [
          0.2902909517288208,
          0.73964524269104,
          0.71787428855896,
          0.73964524269104,
          1.1889995336532593,
          1.3196252584457397,
          0.4209167957305908,
          0.2902909517288208,
          1.2074366807937622,
          1.1889995336532593,
          1.3196252584457397,
          1.2074366807937622,
          0.4209167957305908,
          1.2074366807937622,
          0.6037188768386841
         ],
         "y": [
          1.7350151538848877,
          1.5157417058944702,
          1.471126675605774,
          1.5157417058944702,
          1.2964682579040527,
          1.564158320426941,
          2.0027053356170654,
          1.7350151538848877,
          2.4743804931640625,
          1.2964682579040527,
          1.564158320426941,
          2.4743804931640625,
          2.0027053356170654,
          2.4743804931640625,
          1.2371898889541626
         ],
         "z": [
          1.1384540796279907,
          1.1384539604187012,
          1.2531733512878418,
          1.1384539604187012,
          1.1384538412094116,
          0.450137734413147,
          0.4501379728317261,
          1.1384540796279907,
          1.1914435625076294,
          1.1384538412094116,
          0.450137734413147,
          1.1914435625076294,
          0.4501379728317261,
          1.1914435625076294,
          0.5957220792770386
         ]
        },
        {
         "marker": {
          "color": "rgba(8, 189, 232, 1.0)",
          "size": 1
         },
         "name": "53",
         "scene": "scene",
         "type": "scatter3d",
         "x": [
          0.37230002880096436,
          0.8101334571838379,
          0.7857255339622498,
          0.8101334571838379,
          1.2479667663574219,
          1.3944143056869507,
          0.5187475681304932,
          0.37230002880096436,
          1.3250349760055542,
          1.2479667663574219,
          1.3944143056869507,
          1.3250349760055542,
          0.5187475681304932,
          1.3250349760055542,
          0.662518322467804
         ],
         "y": [
          1.710463523864746,
          1.469005823135376,
          1.424747109413147,
          1.469005823135376,
          1.227548360824585,
          1.493100881576538,
          1.9760160446166992,
          1.710463523864746,
          2.4026734828948975,
          1.227548360824585,
          1.493100881576538,
          2.4026734828948975,
          1.9760160446166992,
          2.4026734828948975,
          1.2013365030288696
         ],
         "z": [
          1.1516650915145874,
          1.1516649723052979,
          1.265990972518921,
          1.1516649723052979,
          1.1516649723052979,
          0.4657095670700073,
          0.4657098054885864,
          1.1516650915145874,
          1.2130308151245117,
          1.1516649723052979,
          0.4657095670700073,
          1.2130308151245117,
          0.4657098054885864,
          1.2130308151245117,
          0.606515645980835
         ]
        },
        {
         "marker": {
          "color": "rgba(10, 191, 232, 1.0)",
          "size": 1
         },
         "name": "54",
         "scene": "scene",
         "type": "scatter3d",
         "x": [
          0.4525364637374878,
          0.877754807472229,
          0.8506938219070435,
          0.877754807472229,
          1.3029732704162598,
          1.465339183807373,
          0.6149024367332458,
          0.4525364637374878,
          1.438406229019165,
          1.3029732704162598,
          1.465339183807373,
          1.438406229019165,
          0.6149024367332458,
          1.438406229019165,
          0.7192035913467407
         ],
         "y": [
          1.681982159614563,
          1.4189436435699463,
          1.3751978874206543,
          1.4189436435699463,
          1.1559051275253296,
          1.4183803796768188,
          1.9444574117660522,
          1.681982159614563,
          2.3252720832824707,
          1.1559051275253296,
          1.4183803796768188,
          2.3252720832824707,
          1.9444574117660522,
          2.3252720832824707,
          1.1626358032226562
         ],
         "z": [
          1.1648051738739014,
          1.1648050546646118,
          1.2787303924560547,
          1.1648050546646118,
          1.1648049354553223,
          0.48125243186950684,
          0.48125267028808594,
          1.1648051738739014,
          1.2345432043075562,
          1.1648049354553223,
          0.48125243186950684,
          1.2345432043075562,
          0.48125267028808594,
          1.2345432043075562,
          0.6172716021537781
         ]
        },
        {
         "marker": {
          "color": "rgba(12, 193, 231, 1.0)",
          "size": 1
         },
         "name": "55",
         "scene": "scene",
         "type": "scatter3d",
         "x": [
          0.5308101177215576,
          0.9423509240150452,
          0.9126300811767578,
          0.9423509240150452,
          1.3538917303085327,
          1.5322165489196777,
          0.7091350555419922,
          0.5308101177215576,
          1.547269344329834,
          1.3538917303085327,
          1.5322165489196777,
          1.547269344329834,
          0.7091350555419922,
          1.547269344329834,
          0.7736353874206543
         ],
         "y": [
          1.6496902704238892,
          1.365728497505188,
          1.3226546049118042,
          1.365728497505188,
          1.0817667245864868,
          1.3402099609375,
          1.9081335067749023,
          1.6496902704238892,
          2.2424259185791016,
          1.0817667245864868,
          1.3402099609375,
          2.2424259185791016,
          1.9081335067749023,
          2.2424259185791016,
          1.1212122440338135
         ],
         "z": [
          1.1778733730316162,
          1.1778733730316162,
          1.2913912534713745,
          1.1778733730316162,
          1.1778733730316162,
          0.49676579236984253,
          0.4967658519744873,
          1.1778733730316162,
          1.255979061126709,
          1.1778733730316162,
          0.49676579236984253,
          1.255979061126709,
          0.4967658519744873,
          1.255979061126709,
          0.6279898285865784
         ]
        },
        {
         "marker": {
          "color": "rgba(16, 197, 230, 1.0)",
          "size": 1
         },
         "name": "56",
         "scene": "scene",
         "type": "scatter3d",
         "x": [
          0.6069381237030029,
          1.0037721395492554,
          0.9713943004608154,
          1.0037721395492554,
          1.4006061553955078,
          1.5948734283447266,
          0.8012052178382874,
          0.6069381237030029,
          1.651357889175415,
          1.4006061553955078,
          1.5948734283447266,
          1.651357889175415,
          0.8012052178382874,
          1.651357889175415,
          0.8256796598434448
         ],
         "y": [
          1.61371648311615,
          1.3095412254333496,
          1.2673003673553467,
          1.3095412254333496,
          1.0053659677505493,
          1.2588114738464355,
          1.8671619892120361,
          1.61371648311615,
          2.1543965339660645,
          1.0053659677505493,
          1.2588114738464355,
          2.1543965339660645,
          1.8671619892120361,
          2.1543965339660645,
          1.0771976709365845
         ],
         "z": [
          1.1908689737319946,
          1.190868854522705,
          1.3039722442626953,
          1.190868854522705,
          1.190868854522705,
          0.5122485160827637,
          0.5122486352920532,
          1.1908689737319946,
          1.277337908744812,
          1.190868854522705,
          0.5122485160827637,
          1.277337908744812,
          0.5122486352920532,
          1.277337908744812,
          0.6386691331863403
         ]
        },
        {
         "marker": {
          "color": "rgba(18, 199, 229, 1.0)",
          "size": 1
         },
         "name": "57",
         "scene": "scene",
         "type": "scatter3d",
         "x": [
          0.6807453632354736,
          1.0618810653686523,
          1.0268585681915283,
          1.0618810653686523,
          1.443016767501831,
          1.653151512145996,
          0.8908800482749939,
          0.6807453632354736,
          1.7504220008850098,
          1.443016767501831,
          1.653151512145996,
          1.7504220008850098,
          0.8908800482749939,
          1.7504220008850098,
          0.8752115964889526
         ],
         "y": [
          1.57419753074646,
          1.2505688667297363,
          1.2093231678009033,
          1.2505688667297363,
          0.9269402027130127,
          1.174414873123169,
          1.8216723203659058,
          1.57419753074646,
          2.06145977973938,
          0.9269402027130127,
          1.174414873123169,
          2.06145977973938,
          1.8216723203659058,
          2.06145977973938,
          1.0307295322418213
         ],
         "z": [
          1.2037913799285889,
          1.2037911415100098,
          1.316473126411438,
          1.2037911415100098,
          1.2037911415100098,
          0.5276997089385986,
          0.5276999473571777,
          1.2037913799285889,
          1.298617959022522,
          1.2037911415100098,
          0.5276997089385986,
          1.298617959022522,
          0.5276999473571777,
          1.298617959022522,
          0.6493092775344849
         ]
        },
        {
         "marker": {
          "color": "rgba(20, 201, 228, 1.0)",
          "size": 1
         },
         "name": "58",
         "scene": "scene",
         "type": "scatter3d",
         "x": [
          0.7520647048950195,
          1.1165493726730347,
          1.078904628753662,
          1.1165493726730347,
          1.4810340404510498,
          1.7069029808044434,
          0.9779335856437683,
          0.7520647048950195,
          1.8442254066467285,
          1.4810340404510498,
          1.7069029808044434,
          1.8442254066467285,
          0.9779335856437683,
          1.8442254066467285,
          0.9221130609512329
         ],
         "y": [
          1.5312782526016235,
          1.1890051364898682,
          1.1489174365997314,
          1.1890051364898682,
          0.8467320203781128,
          1.0872586965560913,
          1.771804928779602,
          1.5312782526016235,
          1.9639031887054443,
          0.8467320203781128,
          1.0872586965560913,
          1.9639031887054443,
          1.771804928779602,
          1.9639031887054443,
          0.981951117515564
         ],
         "z": [
          1.2166389226913452,
          1.2166388034820557,
          1.3288923501968384,
          1.2166388034820557,
          1.2166388034820557,
          0.5431181192398071,
          0.5431182384490967,
          1.2166389226913452,
          1.3198175430297852,
          1.2166388034820557,
          0.5431181192398071,
          1.3198175430297852,
          0.5431182384490967,
          1.3198175430297852,
          0.6599090099334717
         ]
        },
        {
         "marker": {
          "color": "rgba(22, 203, 228, 1.0)",
          "size": 1
         },
         "name": "59",
         "scene": "scene",
         "type": "scatter3d",
         "x": [
          0.8207395076751709,
          1.1676619052886963,
          1.1274269819259644,
          1.1676619052886963,
          1.5145844221115112,
          1.755994439125061,
          1.0621495246887207,
          0.8207395076751709,
          1.932550311088562,
          1.5145844221115112,
          1.755994439125061,
          1.932550311088562,
          1.0621495246887207,
          1.932550311088562,
          0.9662753343582153
         ],
         "y": [
          1.4851124286651611,
          1.1250503063201904,
          1.086283564567566,
          1.1250503063201904,
          0.7649881839752197,
          0.9975886344909668,
          1.7177128791809082,
          1.4851124286651611,
          1.8620257377624512,
          0.7649881839752197,
          0.9975886344909668,
          1.8620257377624512,
          1.7177128791809082,
          1.8620257377624512,
          0.9310129284858704
         ],
         "z": [
          1.2294116020202637,
          1.2294113636016846,
          1.3412294387817383,
          1.2294113636016846,
          1.229411244392395,
          0.5585027933120728,
          0.5585030913352966,
          1.2294116020202637,
          1.3409358263015747,
          1.229411244392395,
          0.5585027933120728,
          1.3409358263015747,
          0.5585030913352966,
          1.3409358263015747,
          0.6704678535461426
         ]
        },
        {
         "marker": {
          "color": "rgba(26, 207, 226, 1.0)",
          "size": 1
         },
         "name": "60",
         "scene": "scene",
         "type": "scatter3d",
         "x": [
          0.8866212368011475,
          1.2151145935058594,
          1.1723315715789795,
          1.2151145935058594,
          1.5436080694198608,
          1.8003062009811401,
          1.1433193683624268,
          0.8866212368011475,
          2.015195608139038,
          1.5436080694198608,
          1.8003062009811401,
          2.015195608139038,
          1.1433193683624268,
          2.015195608139038,
          1.007597804069519
         ],
         "y": [
          1.43586003780365,
          1.0589089393615723,
          1.0216257572174072,
          1.0589089393615723,
          0.6819578409194946,
          0.9056572914123535,
          1.6595594882965088,
          1.43586003780365,
          1.7561380863189697,
          0.6819578409194946,
          0.9056572914123535,
          1.7561380863189697,
          1.6595594882965088,
          1.7561380863189697,
          0.8780689239501953
         ],
         "z": [
          1.2421085834503174,
          1.2421085834503174,
          1.3534843921661377,
          1.2421085834503174,
          1.2421084642410278,
          0.5738535523414612,
          0.5738537311553955,
          1.2421085834503174,
          1.3619714975357056,
          1.2421084642410278,
          0.5738535523414612,
          1.3619714975357056,
          0.5738537311553955,
          1.3619714975357056,
          0.6809859275817871
         ]
        },
        {
         "marker": {
          "color": "rgba(28, 209, 226, 1.0)",
          "size": 1
         },
         "name": "61",
         "scene": "scene",
         "type": "scatter3d",
         "x": [
          0.9495716094970703,
          1.258815050125122,
          1.213536024093628,
          1.258815050125122,
          1.5680582523345947,
          1.8397316932678223,
          1.2212450504302979,
          0.9495716094970703,
          2.091977119445801,
          1.5680582523345947,
          1.8397316932678223,
          2.091977119445801,
          1.2212450504302979,
          2.091977119445801,
          1.045988917350769
         ],
         "y": [
          1.383687973022461,
          0.9907903075218201,
          0.9551520347595215,
          0.9907903075218201,
          0.5978926420211792,
          0.8117225170135498,
          1.597517728805542,
          1.383687973022461,
          1.6465586423873901,
          0.5978926420211792,
          0.8117225170135498,
          1.6465586423873901,
          1.597517728805542,
          1.6465586423873901,
          0.823278546333313
         ],
         "z": [
          1.2547292709350586,
          1.254729151725769,
          1.3656558990478516,
          1.254729151725769,
          1.2547290325164795,
          0.5891687870025635,
          0.5891690254211426,
          1.2547292709350586,
          1.3829231262207031,
          1.2547290325164795,
          0.5891687870025635,
          1.3829231262207031,
          0.5891690254211426,
          1.3829231262207031,
          0.691461980342865
         ]
        },
        {
         "marker": {
          "color": "rgba(30, 210, 225, 1.0)",
          "size": 1
         },
         "name": "62",
         "scene": "scene",
         "type": "scatter3d",
         "x": [
          1.0094616413116455,
          1.2986812591552734,
          1.2509685754776,
          1.2986812591552734,
          1.5879011154174805,
          1.8741776943206787,
          1.2957382202148438,
          1.0094616413116455,
          2.162729501724243,
          1.5879011154174805,
          1.8741776943206787,
          2.162729501724243,
          1.2957382202148438,
          2.162729501724243,
          1.081364631652832
         ],
         "y": [
          1.3287723064422607,
          0.9209097623825073,
          0.8870761394500732,
          0.9209097623825073,
          0.5130470991134644,
          0.7160490155220032,
          1.5317742824554443,
          1.3287723064422607,
          1.5336157083511353,
          0.5130470991134644,
          0.7160490155220032,
          1.5336157083511353,
          1.5317742824554443,
          1.5336157083511353,
          0.7668081521987915
         ],
         "z": [
          1.2672715187072754,
          1.2672715187072754,
          1.3777421712875366,
          1.2672715187072754,
          1.2672715187072754,
          0.6044473648071289,
          0.6044473648071289,
          1.2672715187072754,
          1.4037892818450928,
          1.2672715187072754,
          0.6044473648071289,
          1.4037892818450928,
          0.6044473648071289,
          1.4037892818450928,
          0.7018945217132568
         ]
        },
        {
         "marker": {
          "color": "rgba(34, 214, 223, 1.0)",
          "size": 1
         },
         "name": "63",
         "scene": "scene",
         "type": "scatter3d",
         "x": [
          1.0661728382110596,
          1.3346467018127441,
          1.2845722436904907,
          1.3346467018127441,
          1.6031206846237183,
          1.9035677909851074,
          1.3666199445724487,
          1.0661728382110596,
          2.2273054122924805,
          1.6031206846237183,
          1.9035677909851074,
          2.2273054122924805,
          1.3666199445724487,
          2.2273054122924805,
          1.1136527061462402
         ],
         "y": [
          1.271288275718689,
          0.8494805693626404,
          0.8176089525222778,
          0.8494805693626404,
          0.427672803401947,
          0.6189026832580566,
          1.4625182151794434,
          1.271288275718689,
          1.417643427848816,
          0.427672803401947,
          0.6189026832580566,
          1.417643427848816,
          1.4625182151794434,
          1.417643427848816,
          0.7088215351104736
         ],
         "z": [
          1.2797367572784424,
          1.2797367572784424,
          1.3897446393966675,
          1.2797367572784424,
          1.2797367572784424,
          0.6196891665458679,
          0.6196892261505127,
          1.2797367572784424,
          1.4245692491531372,
          1.2797367572784424,
          0.6196891665458679,
          1.4245692491531372,
          0.6196892261505127,
          1.4245692491531372,
          0.7122848033905029
         ]
        },
        {
         "marker": {
          "color": "rgba(36, 215, 223, 1.0)",
          "size": 1
         },
         "name": "64",
         "scene": "scene",
         "type": "scatter3d",
         "x": [
          1.1195977926254272,
          1.366654634475708,
          1.3143001794815063,
          1.366654634475708,
          1.6137113571166992,
          1.9278377294540405,
          1.4337241649627686,
          1.1195977926254272,
          2.285576343536377,
          1.6137113571166992,
          1.9278377294540405,
          2.285576343536377,
          1.4337241649627686,
          2.285576343536377,
          1.1427884101867676
         ],
         "y": [
          1.2114224433898926,
          0.7767238616943359,
          0.746968686580658,
          0.7767238616943359,
          0.3420252799987793,
          0.5205560922622681,
          1.3899532556533813,
          1.2114224433898926,
          1.2989842891693115,
          0.3420252799987793,
          0.5205560922622681,
          1.2989842891693115,
          1.3899532556533813,
          1.2989842891693115,
          0.6494917273521423
         ],
         "z": [
          1.292122483253479,
          1.2921223640441895,
          1.401660680770874,
          1.2921223640441895,
          1.2921222448349,
          0.6348922252655029,
          0.634892463684082,
          1.292122483253479,
          1.445261001586914,
          1.2921222448349,
          0.6348922252655029,
          1.445261001586914,
          0.634892463684082,
          1.445261001586914,
          0.722630500793457
         ]
        },
        {
         "marker": {
          "color": "rgba(38, 217, 222, 1.0)",
          "size": 1
         },
         "name": "65",
         "scene": "scene",
         "type": "scatter3d",
         "x": [
          1.1696388721466064,
          1.3946609497070312,
          1.340118169784546,
          1.3946609497070312,
          1.619683027267456,
          1.946939468383789,
          1.4968953132629395,
          1.1696388721466064,
          2.3374335765838623,
          1.619683027267456,
          1.946939468383789,
          2.3374335765838623,
          1.4968953132629395,
          2.3374335765838623,
          1.1687169075012207
         ],
         "y": [
          1.1493632793426514,
          0.7028602361679077,
          0.6753726005554199,
          0.7028602361679077,
          0.2563571333885193,
          0.42128318548202515,
          1.3142893314361572,
          1.1493632793426514,
          1.1779849529266357,
          0.2563571333885193,
          0.42128318548202515,
          1.1779849529266357,
          1.3142893314361572,
          1.1779849529266357,
          0.5889924168586731
         ],
         "z": [
          1.3044286966323853,
          1.3044285774230957,
          1.4134905338287354,
          1.3044285774230957,
          1.3044284582138062,
          0.6500564813613892,
          0.6500566005706787,
          1.3044286966323853,
          1.4658639430999756,
          1.3044284582138062,
          0.6500564813613892,
          1.4658639430999756,
          0.6500566005706787,
          1.4658639430999756,
          0.7329318523406982
         ]
        },
        {
         "marker": {
          "color": "rgba(40, 219, 221, 1.0)",
          "size": 1
         },
         "name": "66",
         "scene": "scene",
         "type": "scatter3d",
         "x": [
          1.216209888458252,
          1.4186348915100098,
          1.3620049953460693,
          1.4186348915100098,
          1.6210598945617676,
          1.9608389139175415,
          1.5559890270233154,
          1.216209888458252,
          2.382786273956299,
          1.6210598945617676,
          1.9608389139175415,
          2.382786273956299,
          1.5559890270233154,
          2.382786273956299,
          1.191393494606018
         ],
         "y": [
          1.0853022336959839,
          0.6281108260154724,
          0.6030375361442566,
          0.6281108260154724,
          0.17091941833496094,
          0.3213590383529663,
          1.2357419729232788,
          1.0853022336959839,
          1.0549962520599365,
          0.17091941833496094,
          0.3213590383529663,
          1.0549962520599365,
          1.2357419729232788,
          1.0549962520599365,
          0.5274978876113892
         ],
         "z": [
          1.316654086112976,
          1.316654086112976,
          1.425233006477356,
          1.316654086112976,
          1.316654086112976,
          0.6651805639266968,
          0.6651805639266968,
          1.316654086112976,
          1.4863760471343994,
          1.316654086112976,
          0.6651805639266968,
          1.4863760471343994,
          0.6651805639266968,
          1.4863760471343994,
          0.7431879639625549
         ]
        },
        {
         "marker": {
          "color": "rgba(44, 222, 220, 1.0)",
          "size": 1
         },
         "name": "67",
         "scene": "scene",
         "type": "scatter3d",
         "x": [
          1.2592344284057617,
          1.438556432723999,
          1.3799500465393066,
          1.438556432723999,
          1.6178784370422363,
          1.9695172309875488,
          1.6108732223510742,
          1.2592344284057617,
          2.4215638637542725,
          1.6178784370422363,
          1.9695172309875488,
          2.4215638637542725,
          1.6108732223510742,
          2.4215638637542725,
          1.2107819318771362
         ],
         "y": [
          1.0194346904754639,
          0.5526975393295288,
          0.5301807522773743,
          0.5526975393295288,
          0.08596038818359375,
          0.22106122970581055,
          1.1545355319976807,
          1.0194346904754639,
          0.9303723573684692,
          0.08596038818359375,
          0.22106122970581055,
          0.9303723573684692,
          1.1545355319976807,
          0.9303723573684692,
          0.46518582105636597
         ],
         "z": [
          1.328798770904541,
          1.328798770904541,
          1.4368879795074463,
          1.328798770904541,
          1.3287986516952515,
          0.6802635192871094,
          0.6802636384963989,
          1.328798770904541,
          1.5067964792251587,
          1.3287986516952515,
          0.6802635192871094,
          1.5067964792251587,
          0.6802636384963989,
          1.5067964792251587,
          0.7533984780311584
         ]
        },
        {
         "marker": {
          "color": "rgba(46, 223, 219, 1.0)",
          "size": 1
         },
         "name": "68",
         "scene": "scene",
         "type": "scatter3d",
         "x": [
          1.2986493110656738,
          1.4544200897216797,
          1.3939565420150757,
          1.4544200897216797,
          1.6101906299591064,
          1.9729714393615723,
          1.6614301204681396,
          1.2986493110656738,
          2.4537155628204346,
          1.6101906299591064,
          1.9729714393615723,
          2.4537155628204346,
          1.6614301204681396,
          2.4537155628204346,
          1.2268577814102173
         ],
         "y": [
          0.951959490776062,
          0.4768431782722473,
          0.45701974630355835,
          0.4768431782722473,
          0.0017268657684326172,
          0.1206674575805664,
          1.0709000825881958,
          0.951959490776062,
          0.8044701814651489,
          0.0017268657684326172,
          0.1206674575805664,
          0.8044701814651489,
          1.0709000825881958,
          0.8044701814651489,
          0.40223509073257446
         ],
         "z": [
          1.3408609628677368,
          1.3408609628677368,
          1.448453664779663,
          1.3408609628677368,
          1.3408609628677368,
          0.6953045129776001,
          0.6953045129776001,
          1.3408609628677368,
          1.527124047279358,
          1.3408609628677368,
          0.6953045129776001,
          1.527124047279358,
          0.6953045129776001,
          1.527124047279358,
          0.7635620832443237
         ]
        },
        {
         "marker": {
          "color": "rgba(48, 225, 218, 1.0)",
          "size": 1
         },
         "name": "69",
         "scene": "scene",
         "type": "scatter3d",
         "x": [
          1.3344006538391113,
          1.4662306308746338,
          1.4040387868881226,
          1.4662306308746338,
          1.5980607271194458,
          1.9712120294570923,
          1.7075519561767578,
          1.3344006538391113,
          2.4792094230651855,
          1.5980607271194458,
          1.9712120294570923,
          2.4792094230651855,
          1.7075519561767578,
          2.4792094230651855,
          1.2396048307418823
         ],
         "y": [
          0.8830754160881042,
          0.40076759457588196,
          0.38376858830451965,
          0.40076759457588196,
          -0.08154022693634033,
          0.020453810691833496,
          0.9850695133209229,
          0.8830754160881042,
          0.6776469349861145,
          -0.08154022693634033,
          0.020453810691833496,
          0.6776469349861145,
          0.9850695133209229,
          0.6776469349861145,
          0.33882346749305725
         ],
         "z": [
          1.3528410196304321,
          1.3528410196304321,
          1.4599307775497437,
          1.3528410196304321,
          1.3528411388397217,
          0.7103029489517212,
          0.7103028893470764,
          1.3528410196304321,
          1.5473577976226807,
          1.3528411388397217,
          0.7103029489517212,
          1.5473577976226807,
          0.7103028893470764,
          1.5473577976226807,
          0.7736790776252747
         ]
        },
        {
         "marker": {
          "color": "rgba(52, 228, 216, 1.0)",
          "size": 1
         },
         "name": "70",
         "scene": "scene",
         "type": "scatter3d",
         "x": [
          1.3664461374282837,
          1.474006175994873,
          1.4102230072021484,
          1.474006175994873,
          1.5815662145614624,
          1.9642653465270996,
          1.749145269393921,
          1.3664461374282837,
          2.4980335235595703,
          1.5815662145614624,
          1.9642653465270996,
          2.4980335235595703,
          1.749145269393921,
          2.4980335235595703,
          1.2490168809890747
         ],
         "y": [
          0.8129836320877075,
          0.3246898353099823,
          0.3106398582458496,
          0.3246898353099823,
          -0.16360396146774292,
          -0.07930397987365723,
          0.8972836136817932,
          0.8129836320877075,
          0.5502598881721497,
          -0.16360396146774292,
          -0.07930397987365723,
          0.5502598881721497,
          0.8972836136817932,
          0.5502598881721497,
          0.2751297950744629
         ],
         "z": [
          1.3647372722625732,
          1.3647371530532837,
          1.471317172050476,
          1.3647371530532837,
          1.3647371530532837,
          0.7252569794654846,
          0.7252570390701294,
          1.3647372722625732,
          1.567495584487915,
          1.3647371530532837,
          0.7252569794654846,
          1.567495584487915,
          0.7252570390701294,
          1.567495584487915,
          0.7837478518486023
         ]
        },
        {
         "marker": {
          "color": "rgba(54, 229, 215, 1.0)",
          "size": 1
         },
         "name": "71",
         "scene": "scene",
         "type": "scatter3d",
         "x": [
          1.3947551250457764,
          1.4777764081954956,
          1.41254723072052,
          1.4777764081954956,
          1.5607975721359253,
          1.9521722793579102,
          1.7861299514770508,
          1.3947551250457764,
          2.51019549369812,
          1.5607975721359253,
          1.9521722793579102,
          2.51019549369812,
          1.7861299514770508,
          2.51019549369812,
          1.2550978660583496
         ],
         "y": [
          0.7418860793113708,
          0.248826801776886,
          0.23784352838993073,
          0.248826801776886,
          -0.24423250555992126,
          -0.17833295464515686,
          0.8077856302261353,
          0.7418860793113708,
          0.4226653277873993,
          -0.24423250555992126,
          -0.17833295464515686,
          0.4226653277873993,
          0.8077856302261353,
          0.4226653277873993,
          0.21133220195770264
         ],
         "z": [
          1.3765496015548706,
          1.3765496015548706,
          1.482613444328308,
          1.3765496015548706,
          1.3765496015548706,
          0.7401670217514038,
          0.7401670217514038,
          1.3765496015548706,
          1.587537169456482,
          1.3765496015548706,
          0.7401670217514038,
          1.587537169456482,
          0.7401670217514038,
          1.587537169456482,
          0.7937688827514648
         ]
        },
        {
         "marker": {
          "color": "rgba(56, 230, 215, 1.0)",
          "size": 1
         },
         "name": "72",
         "scene": "scene",
         "type": "scatter3d",
         "x": [
          1.4193072319030762,
          1.4775819778442383,
          1.411060094833374,
          1.4775819778442383,
          1.5358567237854004,
          1.9349879026412964,
          1.8184384107589722,
          1.4193072319030762,
          2.515721321105957,
          1.5358567237854004,
          1.9349879026412964,
          2.515721321105957,
          1.8184384107589722,
          2.515721321105957,
          1.2578606605529785
         ],
         "y": [
          0.6699848771095276,
          0.17339244484901428,
          0.16558612883090973,
          0.17339244484901428,
          -0.3232000172138214,
          -0.2763620913028717,
          0.7168227434158325,
          0.6699848771095276,
          0.29521724581718445,
          -0.3232000172138214,
          -0.2763620913028717,
          0.29521724581718445,
          0.7168227434158325,
          0.29521724581718445,
          0.1476084440946579
         ],
         "z": [
          1.3882770538330078,
          1.3882769346237183,
          1.493817925453186,
          1.3882769346237183,
          1.3882768154144287,
          0.7550307512283325,
          0.7550310492515564,
          1.3882770538330078,
          1.6074806451797485,
          1.3882768154144287,
          0.7550307512283325,
          1.6074806451797485,
          0.7550310492515564,
          1.6074806451797485,
          0.8037405014038086
         ]
        },
        {
         "marker": {
          "color": "rgba(58, 232, 214, 1.0)",
          "size": 1
         },
         "name": "73",
         "scene": "scene",
         "type": "scatter3d",
         "x": [
          1.440093755722046,
          1.4734762907028198,
          1.405822515487671,
          1.4734762907028198,
          1.5068589448928833,
          1.9127821922302246,
          1.8460170030593872,
          1.440093755722046,
          2.5146570205688477,
          1.5068589448928833,
          1.9127821922302246,
          2.5146570205688477,
          1.8460170030593872,
          2.5146570205688477,
          1.2573285102844238
         ],
         "y": [
          0.5974807143211365,
          0.09859637916088104,
          0.09406933933496475,
          0.09859637916088104,
          -0.400287926197052,
          -0.37312567234039307,
          0.6246429085731506,
          0.5974807143211365,
          0.16826651990413666,
          -0.400287926197052,
          -0.37312567234039307,
          0.16826651990413666,
          0.6246429085731506,
          0.16826651990413666,
          0.08413297683000565
         ],
         "z": [
          1.3999181985855103,
          1.3999180793762207,
          1.504929780960083,
          1.3999180793762207,
          1.3999179601669312,
          0.7698478698730469,
          0.769848108291626,
          1.3999181985855103,
          1.6273245811462402,
          1.3999179601669312,
          0.7698478698730469,
          1.6273245811462402,
          0.769848108291626,
          1.6273245811462402,
          0.8136622905731201
         ]
        },
        {
         "marker": {
          "color": "rgba(62, 234, 212, 1.0)",
          "size": 1
         },
         "name": "74",
         "scene": "scene",
         "type": "scatter3d",
         "x": [
          1.4571168422698975,
          1.4655239582061768,
          1.396905779838562,
          1.4655239582061768,
          1.4739309549331665,
          1.8856396675109863,
          1.8688254356384277,
          1.4571168422698975,
          2.5070674419403076,
          1.4739309549331665,
          1.8856396675109863,
          2.5070674419403076,
          1.8688254356384277,
          2.5070674419403076,
          1.2535336017608643
         ],
         "y": [
          0.5245735049247742,
          0.0246442724019289,
          0.02349035255610943,
          0.0246442724019289,
          -0.47528499364852905,
          -0.46836143732070923,
          0.531497061252594,
          0.5245735049247742,
          0.0421595461666584,
          -0.47528499364852905,
          -0.46836143732070923,
          0.0421595461666584,
          0.531497061252594,
          0.0421595461666584,
          0.021079277619719505
         ],
         "z": [
          1.4114735126495361,
          1.4114735126495361,
          1.5159493684768677,
          1.4114735126495361,
          1.4114733934402466,
          0.7846179008483887,
          0.7846180200576782,
          1.4114735126495361,
          1.6470683813095093,
          1.4114733934402466,
          0.7846179008483887,
          1.6470683813095093,
          0.7846180200576782,
          1.6470683813095093,
          0.823534369468689
         ]
        },
        {
         "marker": {
          "color": "rgba(64, 236, 211, 1.0)",
          "size": 1
         },
         "name": "75",
         "scene": "scene",
         "type": "scatter3d",
         "x": [
          1.4703891277313232,
          1.4537996053695679,
          1.3843915462493896,
          1.4537996053695679,
          1.4372100830078125,
          1.8536581993103027,
          1.8868372440338135,
          1.4703891277313232,
          2.4930355548858643,
          1.4372100830078125,
          1.8536581993103027,
          2.4930355548858643,
          1.8868372440338135,
          2.4930355548858643,
          1.2465176582336426
         ],
         "y": [
          0.4514620006084442,
          -0.04826267063617706,
          -0.04595852270722389,
          -0.04826267063617706,
          -0.5479873418807983,
          -0.5618122220039368,
          0.4376371204853058,
          0.4514620006084442,
          -0.08276251703500748,
          -0.5479873418807983,
          -0.5618122220039368,
          -0.08276251703500748,
          0.4376371204853058,
          -0.08276251703500748,
          -0.04138141870498657
         ],
         "z": [
          1.42294180393219,
          1.4229416847229004,
          1.526875376701355,
          1.4229416847229004,
          1.4229415655136108,
          0.7993392944335938,
          0.7993395328521729,
          1.42294180393219,
          1.666710615158081,
          1.4229415655136108,
          0.7993392944335938,
          1.666710615158081,
          0.7993395328521729,
          1.666710615158081,
          0.8333555459976196
         ]
        },
        {
         "marker": {
          "color": "rgba(66, 237, 210, 1.0)",
          "size": 1
         },
         "name": "76",
         "scene": "scene",
         "type": "scatter3d",
         "x": [
          1.479933261871338,
          1.438388705253601,
          1.3683712482452393,
          1.438388705253601,
          1.3968441486358643,
          1.8169488906860352,
          1.9000380039215088,
          1.479933261871338,
          2.4726617336273193,
          1.3968441486358643,
          1.8169488906860352,
          2.4726617336273193,
          1.9000380039215088,
          2.4726617336273193,
          1.2363307476043701
         ],
         "y": [
          0.37834131717681885,
          -0.1199297159910202,
          -0.11409185081720352,
          -0.1199297159910202,
          -0.6182007193565369,
          -0.6532279253005981,
          0.34331411123275757,
          0.37834131717681885,
          -0.2061649113893509,
          -0.6182007193565369,
          -0.6532279253005981,
          -0.2061649113893509,
          0.34331411123275757,
          -0.2061649113893509,
          -0.10308250784873962
         ],
         "z": [
          1.4343223571777344,
          1.4343223571777344,
          1.5377073287963867,
          1.4343223571777344,
          1.4343222379684448,
          0.814011812210083,
          0.8140119314193726,
          1.4343223571777344,
          1.6862504482269287,
          1.4343222379684448,
          0.814011812210083,
          1.6862504482269287,
          0.8140119314193726,
          1.6862504482269287,
          0.8431254029273987
         ]
        },
        {
         "marker": {
          "color": "rgba(70, 239, 209, 1.0)",
          "size": 1
         },
         "name": "77",
         "scene": "scene",
         "type": "scatter3d",
         "x": [
          1.485783576965332,
          1.419387698173523,
          1.3489468097686768,
          1.419387698173523,
          1.3529918193817139,
          1.7756367921829224,
          1.9084285497665405,
          1.485783576965332,
          2.4460654258728027,
          1.3529918193817139,
          1.7756367921829224,
          2.4460654258728027,
          1.9084285497665405,
          2.4460654258728027,
          1.2230325937271118
         ],
         "y": [
          0.30540451407432556,
          -0.19016747176647186,
          -0.1807299256324768,
          -0.19016747176647186,
          -0.6857393980026245,
          -0.7423646450042725,
          0.2487792670726776,
          0.30540451407432556,
          -0.3277200162410736,
          -0.6857393980026245,
          -0.7423646450042725,
          -0.3277200162410736,
          0.2487792670726776,
          -0.3277200162410736,
          -0.16386011242866516
         ],
         "z": [
          1.4456138610839844,
          1.4456138610839844,
          1.5484439134597778,
          1.4456138610839844,
          1.4456138610839844,
          0.8286334276199341,
          0.8286334276199341,
          1.4456138610839844,
          1.7056854963302612,
          1.4456138610839844,
          0.8286334276199341,
          1.7056854963302612,
          0.8286334276199341,
          1.7056854963302612,
          0.8528426885604858
         ]
        },
        {
         "marker": {
          "color": "rgba(72, 240, 208, 1.0)",
          "size": 1
         },
         "name": "78",
         "scene": "scene",
         "type": "scatter3d",
         "x": [
          1.4879837036132812,
          1.396902322769165,
          1.3262293338775635,
          1.396902322769165,
          1.305821180343628,
          1.7298595905303955,
          1.9120219945907593,
          1.4879837036132812,
          2.4133822917938232,
          1.305821180343628,
          1.7298595905303955,
          2.4133822917938232,
          1.9120219945907593,
          2.4133822917938232,
          1.2066912651062012
         ],
         "y": [
          0.23284092545509338,
          -0.25879326462745667,
          -0.24570021033287048,
          -0.25879326462745667,
          -0.7504274845123291,
          -0.8289859294891357,
          0.15428254008293152,
          0.23284092545509338,
          -0.44710853695869446,
          -0.7504274845123291,
          -0.8289859294891357,
          -0.44710853695869446,
          0.15428254008293152,
          -0.44710853695869446,
          -0.22355443239212036
         ],
         "z": [
          1.4568166732788086,
          1.4568166732788086,
          1.5590853691101074,
          1.4568166732788086,
          1.4568167924880981,
          0.8432044982910156,
          0.8432043790817261,
          1.4568166732788086,
          1.7250159978866577,
          1.4568167924880981,
          0.8432044982910156,
          1.7250159978866577,
          0.8432043790817261,
          1.7250159978866577,
          0.8625078797340393
         ]
        },
        {
         "marker": {
          "color": "rgba(74, 241, 207, 1.0)",
          "size": 1
         },
         "name": "79",
         "scene": "scene",
         "type": "scatter3d",
         "x": [
          1.4865866899490356,
          1.3710477352142334,
          1.3003381490707397,
          1.3710477352142334,
          1.2555088996887207,
          1.6797667741775513,
          1.9108445644378662,
          1.4865866899490356,
          2.374765157699585,
          1.2555088996887207,
          1.6797667741775513,
          2.374765157699585,
          1.9108445644378662,
          2.374765157699585,
          1.187382459640503
         ],
         "y": [
          0.16083568334579468,
          -0.32563188672065735,
          -0.3088379502296448,
          -0.32563188672065735,
          -0.8120994567871094,
          -0.9128630757331848,
          0.060072124004364014,
          0.16083568334579468,
          -0.564020574092865,
          -0.8120994567871094,
          -0.9128630757331848,
          -0.564020574092865,
          0.060072124004364014,
          -0.564020574092865,
          -0.2820102572441101
         ],
         "z": [
          1.4679298400878906,
          1.467929720878601,
          1.569630742073059,
          1.467929720878601,
          1.4679296016693115,
          0.8577232360839844,
          0.8577234745025635,
          1.4679298400878906,
          1.7442395687103271,
          1.4679296016693115,
          0.8577232360839844,
          1.7442395687103271,
          0.8577234745025635,
          1.7442395687103271,
          0.8721200227737427
         ]
        },
        {
         "marker": {
          "color": "rgba(76, 242, 206, 1.0)",
          "size": 1
         },
         "name": "80",
         "scene": "scene",
         "type": "scatter3d",
         "x": [
          1.4816557168960571,
          1.3419480323791504,
          1.271401286125183,
          1.3419480323791504,
          1.2022403478622437,
          1.6255208253860474,
          1.9049361944198608,
          1.4816557168960571,
          2.3303823471069336,
          1.2022403478622437,
          1.6255208253860474,
          2.3303823471069336,
          1.9049361944198608,
          2.3303823471069336,
          1.1651911735534668
         ],
         "y": [
          0.08956986665725708,
          -0.3905152380466461,
          -0.3699857294559479,
          -0.3905152380466461,
          -0.8706004023551941,
          -0.9937775135040283,
          -0.03360724449157715,
          0.08956986665725708,
          -0.6781556010246277,
          -0.8706004023551941,
          -0.9937775135040283,
          -0.6781556010246277,
          -0.03360724449157715,
          -0.6781556010246277,
          -0.3390779495239258
         ],
         "z": [
          1.4789519309997559,
          1.4789519309997559,
          1.5800790786743164,
          1.4789519309997559,
          1.4789519309997559,
          0.8721891641616821,
          0.8721891641616821,
          1.4789519309997559,
          1.7633557319641113,
          1.4789519309997559,
          0.8721891641616821,
          1.7633557319641113,
          0.8721891641616821,
          1.7633557319641113,
          0.8816779851913452
         ]
        },
        {
         "marker": {
          "color": "rgba(80, 244, 204, 1.0)",
          "size": 1
         },
         "name": "81",
         "scene": "scene",
         "type": "scatter3d",
         "x": [
          1.4732632637023926,
          1.309735894203186,
          1.23955500125885,
          1.309735894203186,
          1.1462085247039795,
          1.5672941207885742,
          1.8943486213684082,
          1.4732632637023926,
          2.2804181575775146,
          1.1462085247039795,
          1.5672941207885742,
          2.2804181575775146,
          1.8943486213684082,
          2.2804181575775146,
          1.1402088403701782
         ],
         "y": [
          0.019218921661376953,
          -0.45328381657600403,
          -0.4289950728416443,
          -0.45328381657600403,
          -0.925786554813385,
          -1.071518898010254,
          -0.12651342153549194,
          0.019218921661376953,
          -0.7892248630523682,
          -0.925786554813385,
          -1.071518898010254,
          -0.7892248630523682,
          -0.12651342153549194,
          -0.7892248630523682,
          -0.39461255073547363
         ],
         "z": [
          1.489883303642273,
          1.4898831844329834,
          1.5904301404953003,
          1.4898831844329834,
          1.4898830652236938,
          0.8866012096405029,
          0.886601448059082,
          1.489883303642273,
          1.7823630571365356,
          1.4898830652236938,
          0.8866012096405029,
          1.7823630571365356,
          0.886601448059082,
          1.7823630571365356,
          0.8911818265914917
         ]
        },
        {
         "marker": {
          "color": "rgba(82, 245, 203, 1.0)",
          "size": 1
         },
         "name": "82",
         "scene": "scene",
         "type": "scatter3d",
         "x": [
          1.4614896774291992,
          1.2745513916015625,
          1.204941749572754,
          1.2745513916015625,
          1.0876131057739258,
          1.5052708387374878,
          1.8791472911834717,
          1.4614896774291992,
          2.2250704765319824,
          1.0876131057739258,
          1.5052708387374878,
          2.2250704765319824,
          1.8791472911834717,
          2.2250704765319824,
          1.1125351190567017
         ],
         "y": [
          -0.05004650354385376,
          -0.5137856602668762,
          -0.4857253134250641,
          -0.5137856602668762,
          -0.9775248765945435,
          -1.145887017250061,
          -0.21840864419937134,
          -0.05004650354385376,
          -0.8969501852989197,
          -0.9775248765945435,
          -1.145887017250061,
          -0.8969501852989197,
          -0.21840864419937134,
          -0.8969501852989197,
          -0.44847506284713745
         ],
         "z": [
          1.5007222890853882,
          1.5007221698760986,
          1.6006828546524048,
          1.5007221698760986,
          1.5007221698760986,
          0.9009586572647095,
          0.900958776473999,
          1.5007222890853882,
          1.8012605905532837,
          1.5007221698760986,
          0.9009586572647095,
          1.8012605905532837,
          0.900958776473999,
          1.8012605905532837,
          0.9006304144859314
         ]
        },
        {
         "marker": {
          "color": "rgba(84, 246, 202, 1.0)",
          "size": 1
         },
         "name": "83",
         "scene": "scene",
         "type": "scatter3d",
         "x": [
          1.4464261531829834,
          1.236544132232666,
          1.1677135229110718,
          1.236544132232666,
          1.0266622304916382,
          1.4396460056304932,
          1.8594099283218384,
          1.4464261531829834,
          2.1645541191101074,
          1.0266622304916382,
          1.4396460056304932,
          2.1645541191101074,
          1.8594099283218384,
          2.1645541191101074,
          1.0822770595550537
         ],
         "y": [
          -0.11806285381317139,
          -0.571879506111145,
          -0.5400465726852417,
          -0.571879506111145,
          -1.0256961584091187,
          -1.216693639755249,
          -0.309060275554657,
          -0.11806285381317139,
          -1.0010671615600586,
          -1.0256961584091187,
          -1.216693639755249,
          -1.0010671615600586,
          -0.309060275554657,
          -1.0010671615600586,
          -0.5005337595939636
         ],
         "z": [
          1.5114691257476807,
          1.5114690065383911,
          1.6108371019363403,
          1.5114690065383911,
          1.5114690065383911,
          0.9152607321739197,
          0.9152607917785645,
          1.5114691257476807,
          1.82004714012146,
          1.5114690065383911,
          0.9152607321739197,
          1.82004714012146,
          0.9152607917785645,
          1.82004714012146,
          0.9100238084793091
         ]
        },
        {
         "marker": {
          "color": "rgba(88, 247, 200, 1.0)",
          "size": 1
         },
         "name": "84",
         "scene": "scene",
         "type": "scatter3d",
         "x": [
          1.4281682968139648,
          1.1958673000335693,
          1.1280245780944824,
          1.1958673000335693,
          0.9635663032531738,
          1.370622158050537,
          1.8352241516113281,
          1.4281682968139648,
          2.099092960357666,
          0.9635663032531738,
          1.370622158050537,
          2.099092960357666,
          1.8352241516113281,
          2.099092960357666,
          1.0495463609695435
         ],
         "y": [
          -0.18467175960540771,
          -0.6274315714836121,
          -0.5918368697166443,
          -0.6274315714836121,
          -1.0701913833618164,
          -1.2837598323822021,
          -0.39824020862579346,
          -0.18467175960540771,
          -1.1013234853744507,
          -1.0701913833618164,
          -1.2837598323822021,
          -1.1013234853744507,
          -0.39824020862579346,
          -1.1013234853744507,
          -0.5506619215011597
         ],
         "z": [
          1.5221222639083862,
          1.5221222639083862,
          1.6208915710449219,
          1.5221222639083862,
          1.5221222639083862,
          0.9295059442520142,
          0.9295059442520142,
          1.5221222639083862,
          1.8387211561203003,
          1.5221222639083862,
          0.9295059442520142,
          1.8387211561203003,
          0.9295059442520142,
          1.8387211561203003,
          0.9193605780601501
         ]
        },
        {
         "marker": {
          "color": "rgba(90, 248, 199, 1.0)",
          "size": 1
         },
         "name": "85",
         "scene": "scene",
         "type": "scatter3d",
         "x": [
          1.4068219661712646,
          1.1526825428009033,
          1.0860376358032227,
          1.1526825428009033,
          0.898543119430542,
          1.2984124422073364,
          1.806691288948059,
          1.4068219661712646,
          2.028926372528076,
          0.898543119430542,
          1.2984124422073364,
          2.028926372528076,
          1.806691288948059,
          2.028926372528076,
          1.0144625902175903
         ],
         "y": [
          -0.24972188472747803,
          -0.6803182363510132,
          -0.6409841775894165,
          -0.6803182363510132,
          -1.1109144687652588,
          -1.3469187021255493,
          -0.48572611808776855,
          -0.24972188472747803,
          -1.197480320930481,
          -1.1109144687652588,
          -1.3469187021255493,
          -1.197480320930481,
          -0.48572611808776855,
          -1.197480320930481,
          -0.5987403392791748
         ],
         "z": [
          1.532681941986084,
          1.532681941986084,
          1.630846619606018,
          1.532681941986084,
          1.532681941986084,
          0.9436941742897034,
          0.9436941742897034,
          1.532681941986084,
          1.8572819232940674,
          1.532681941986084,
          0.9436941742897034,
          1.8572819232940674,
          0.9436941742897034,
          1.8572819232940674,
          0.9286412000656128
         ]
        },
        {
         "marker": {
          "color": "rgba(92, 249, 198, 1.0)",
          "size": 1
         },
         "name": "86",
         "scene": "scene",
         "type": "scatter3d",
         "x": [
          1.3825017213821411,
          1.107158899307251,
          1.0419217348098755,
          1.107158899307251,
          0.8318161964416504,
          1.2232396602630615,
          1.7739251852035522,
          1.3825017213821411,
          1.9543061256408691,
          0.8318161964416504,
          1.2232396602630615,
          1.9543061256408691,
          1.7739251852035522,
          1.9543061256408691,
          0.977152943611145
         ],
         "y": [
          -0.31307005882263184,
          -0.730426549911499,
          -0.6873875260353088,
          -0.730426549911499,
          -1.1477829217910767,
          -1.4060169458389282,
          -0.5713040828704834,
          -0.31307005882263184,
          -1.2893153429031372,
          -1.1477829217910767,
          -1.4060169458389282,
          -1.2893153429031372,
          -0.5713040828704834,
          -1.2893153429031372,
          -0.6446576118469238
         ],
         "z": [
          1.5431468486785889,
          1.5431468486785889,
          1.6407006978988647,
          1.5431468486785889,
          1.5431468486785889,
          0.9578239917755127,
          0.9578239917755127,
          1.5431468486785889,
          1.8757280111312866,
          1.5431468486785889,
          0.9578239917755127,
          1.8757280111312866,
          0.9578239917755127,
          1.8757280111312866,
          0.9378641247749329
         ]
        },
        {
         "marker": {
          "color": "rgba(94, 249, 197, 1.0)",
          "size": 1
         },
         "name": "87",
         "scene": "scene",
         "type": "scatter3d",
         "x": [
          1.3553234338760376,
          1.0594656467437744,
          0.9958451986312866,
          1.0594656467437744,
          0.7636078596115112,
          1.1453300714492798,
          1.7370457649230957,
          1.3553234338760376,
          1.8754900693893433,
          0.7636078596115112,
          1.1453300714492798,
          1.8754900693893433,
          1.7370457649230957,
          1.8754900693893433,
          0.9377450942993164
         ],
         "y": [
          -0.37457942962646484,
          -0.7776528596878052,
          -0.730955183506012,
          -0.7776528596878052,
          -1.1807262897491455,
          -1.4609122276306152,
          -0.6547653675079346,
          -0.37457942962646484,
          -1.3766188621520996,
          -1.1807262897491455,
          -1.4609122276306152,
          -1.3766188621520996,
          -0.6547653675079346,
          -1.3766188621520996,
          -0.6883092522621155
         ],
         "z": [
          1.5535166263580322,
          1.5535166263580322,
          1.6504535675048828,
          1.5535166263580322,
          1.5535166263580322,
          0.9718947410583496,
          0.9718948006629944,
          1.5535166263580322,
          1.8940584659576416,
          1.5535166263580322,
          0.9718947410583496,
          1.8940584659576416,
          0.9718948006629944,
          1.8940584659576416,
          0.9470292925834656
         ]
        },
        {
         "marker": {
          "color": "rgba(98, 250, 195, 1.0)",
          "size": 1
         },
         "name": "88",
         "scene": "scene",
         "type": "scatter3d",
         "x": [
          1.3254140615463257,
          1.009780764579773,
          0.9479851722717285,
          1.009780764579773,
          0.6941473484039307,
          1.0649206638336182,
          1.6961872577667236,
          1.3254140615463257,
          1.7927510738372803,
          0.6941473484039307,
          1.0649206638336182,
          1.7927510738372803,
          1.6961872577667236,
          1.7927510738372803,
          0.8963755369186401
         ],
         "y": [
          -0.4341214895248413,
          -0.8219043612480164,
          -0.7716063261032104,
          -0.8219043612480164,
          -1.209687352180481,
          -1.5114758014678955,
          -0.7359098792076111,
          -0.4341214895248413,
          -1.4591978788375854,
          -1.209687352180481,
          -1.5114758014678955,
          -1.4591978788375854,
          -0.7359098792076111,
          -1.4591978788375854,
          -0.7295989394187927
         ],
         "z": [
          1.5637906789779663,
          1.5637906789779663,
          1.660104751586914,
          1.5637906789779663,
          1.5637906789779663,
          0.985905647277832,
          0.985905647277832,
          1.5637906789779663,
          1.9122722148895264,
          1.5637906789779663,
          0.985905647277832,
          1.9122722148895264,
          0.985905647277832,
          1.9122722148895264,
          0.9561361074447632
         ]
        },
        {
         "marker": {
          "color": "rgba(100, 251, 194, 1.0)",
          "size": 1
         },
         "name": "89",
         "scene": "scene",
         "type": "scatter3d",
         "x": [
          1.2929049730300903,
          0.9582850337028503,
          0.8985203504562378,
          0.9582850337028503,
          0.6236650943756104,
          0.9822533130645752,
          1.6514930725097656,
          1.2929049730300903,
          1.7063686847686768,
          0.6236650943756104,
          0.9822533130645752,
          1.7063686847686768,
          1.6514930725097656,
          1.7063686847686768,
          0.8531843423843384
         ],
         "y": [
          -0.4915754795074463,
          -0.8630988001823425,
          -0.8092705011367798,
          -0.8630988001823425,
          -1.2346220016479492,
          -1.5575916767120361,
          -0.8145452737808228,
          -0.4915754795074463,
          -1.5368754863739014,
          -1.2346220016479492,
          -1.5575916767120361,
          -1.5368754863739014,
          -0.8145452737808228,
          -1.5368754863739014,
          -0.7684377431869507
         ],
         "z": [
          1.5739679336547852,
          1.5739679336547852,
          1.669653296470642,
          1.5739679336547852,
          1.5739679336547852,
          0.9998555183410645,
          0.9998555183410645,
          1.5739679336547852,
          1.9303675889968872,
          1.5739679336547852,
          0.9998555183410645,
          1.9303675889968872,
          0.9998555183410645,
          1.9303675889968872,
          0.9651837944984436
         ]
        },
        {
         "marker": {
          "color": "rgba(102, 251, 193, 1.0)",
          "size": 1
         },
         "name": "90",
         "scene": "scene",
         "type": "scatter3d",
         "x": [
          1.2579317092895508,
          0.9051615595817566,
          0.84763103723526,
          0.9051615595817566,
          0.552391529083252,
          0.8975746035575867,
          1.6031148433685303,
          1.2579317092895508,
          1.6166300773620605,
          0.552391529083252,
          0.8975746035575867,
          1.6166300773620605,
          1.6031148433685303,
          1.6166300773620605,
          0.8083146810531616
         ],
         "y": [
          -0.5468298196792603,
          -0.9011648893356323,
          -0.8438884615898132,
          -0.9011648893356323,
          -1.2554998397827148,
          -1.599158525466919,
          -0.8904885053634644,
          -0.5468298196792603,
          -1.609491229057312,
          -1.2554998397827148,
          -1.599158525466919,
          -1.609491229057312,
          -0.8904885053634644,
          -1.609491229057312,
          -0.8047456741333008
         ],
         "z": [
          1.5840485095977783,
          1.5840485095977783,
          1.6790993213653564,
          1.5840485095977783,
          1.5840485095977783,
          1.0137438774108887,
          1.0137438774108887,
          1.5840485095977783,
          1.9483439922332764,
          1.5840485095977783,
          1.0137438774108887,
          1.9483439922332764,
          1.0137438774108887,
          1.9483439922332764,
          0.9741722941398621
         ]
        },
        {
         "marker": {
          "color": "rgba(106, 252, 191, 1.0)",
          "size": 1
         },
         "name": "91",
         "scene": "scene",
         "type": "scatter3d",
         "x": [
          1.2206363677978516,
          0.8505977392196655,
          0.7955014109611511,
          0.8505977392196655,
          0.4805591106414795,
          0.811137318611145,
          1.5512144565582275,
          1.2206363677978516,
          1.5238304138183594,
          0.4805591106414795,
          0.811137318611145,
          1.5238304138183594,
          1.5512144565582275,
          1.5238304138183594,
          0.7619150876998901
         ],
         "y": [
          -0.5997804403305054,
          -0.9360413551330566,
          -0.8754104971885681,
          -0.9360413551330566,
          -1.272302269935608,
          -1.6360872983932495,
          -0.963565468788147,
          -0.5997804403305054,
          -1.676900863647461,
          -1.272302269935608,
          -1.6360872983932495,
          -1.676900863647461,
          -0.963565468788147,
          -1.676900863647461,
          -0.8384503722190857
         ],
         "z": [
          1.5940310955047607,
          1.5940312147140503,
          1.6884413957595825,
          1.5940312147140503,
          1.5940312147140503,
          1.0275697708129883,
          1.0275697708129883,
          1.5940310955047607,
          1.966200590133667,
          1.5940312147140503,
          1.0275697708129883,
          1.966200590133667,
          1.0275697708129883,
          1.966200590133667,
          0.983100414276123
         ]
        },
        {
         "marker": {
          "color": "rgba(108, 253, 190, 1.0)",
          "size": 1
         },
         "name": "92",
         "scene": "scene",
         "type": "scatter3d",
         "x": [
          1.1811637878417969,
          0.7947815656661987,
          0.7423153519630432,
          0.7947815656661987,
          0.4083993434906006,
          0.7231967449188232,
          1.495961308479309,
          1.1811637878417969,
          1.4282704591751099,
          0.4083993434906006,
          0.7231967449188232,
          1.4282704591751099,
          1.495961308479309,
          1.4282704591751099,
          0.7141352295875549
         ],
         "y": [
          -0.6503323316574097,
          -0.9676787853240967,
          -0.9037989377975464,
          -0.9676787853240967,
          -1.2850251197814941,
          -1.6683039665222168,
          -1.0336110591888428,
          -0.6503323316574097,
          -1.738977313041687,
          -1.2850251197814941,
          -1.6683039665222168,
          -1.738977313041687,
          -1.0336110591888428,
          -1.738977313041687,
          -0.8694885969161987
         ],
         "z": [
          1.6039153337478638,
          1.6039153337478638,
          1.6976792812347412,
          1.6039153337478638,
          1.6039153337478638,
          1.0413320064544678,
          1.0413320064544678,
          1.6039153337478638,
          1.9839354753494263,
          1.6039153337478638,
          1.0413320064544678,
          1.9839354753494263,
          1.0413320064544678,
          1.9839354753494263,
          0.9919677972793579
         ]
        },
        {
         "marker": {
          "color": "rgba(110, 253, 189, 1.0)",
          "size": 1
         },
         "name": "93",
         "scene": "scene",
         "type": "scatter3d",
         "x": [
          1.1396629810333252,
          0.737902820110321,
          0.6882579922676086,
          0.737902820110321,
          0.33614277839660645,
          0.6340119242668152,
          1.4375320672988892,
          1.1396629810333252,
          1.3302562236785889,
          0.33614277839660645,
          0.6340119242668152,
          1.3302562236785889,
          1.4375320672988892,
          1.3302562236785889,
          0.6651279926300049
         ],
         "y": [
          -0.6984002590179443,
          -0.9960390329360962,
          -0.9290271997451782,
          -0.9960390329360962,
          -1.293677806854248,
          -1.6957489252090454,
          -1.1004712581634521,
          -0.6984002590179443,
          -1.7956119775772095,
          -1.293677806854248,
          -1.6957489252090454,
          -1.7956119775772095,
          -1.1004712581634521,
          -1.7956119775772095,
          -0.89780592918396
         ],
         "z": [
          1.6137008666992188,
          1.6137008666992188,
          1.7068126201629639,
          1.6137008666992188,
          1.6137008666992188,
          1.055030345916748,
          1.055030345916748,
          1.6137008666992188,
          2.0015482902526855,
          1.6137008666992188,
          1.055030345916748,
          2.0015482902526855,
          1.055030345916748,
          2.0015482902526855,
          1.0007742643356323
         ]
        },
        {
         "marker": {
          "color": "rgba(112, 253, 188, 1.0)",
          "size": 1
         },
         "name": "94",
         "scene": "scene",
         "type": "scatter3d",
         "x": [
          1.0962858200073242,
          0.680152177810669,
          0.6335145831108093,
          0.680152177810669,
          0.2640184760093689,
          0.5438441634178162,
          1.3761115074157715,
          1.0962858200073242,
          1.2300975322723389,
          0.2640184760093689,
          0.5438441634178162,
          1.2300975322723389,
          1.3761115074157715,
          1.2300975322723389,
          0.6150487661361694
         ],
         "y": [
          -0.7439072132110596,
          -1.0210943222045898,
          -0.9510785937309265,
          -1.0210943222045898,
          -1.2982816696166992,
          -1.7183763980865479,
          -1.1640019416809082,
          -0.7439072132110596,
          -1.8467127084732056,
          -1.2982816696166992,
          -1.7183763980865479,
          -1.8467127084732056,
          -1.1640019416809082,
          -1.8467127084732056,
          -0.9233563542366028
         ],
         "z": [
          1.6233866214752197,
          1.6233866214752197,
          1.7158405780792236,
          1.6233866214752197,
          1.6233866214752197,
          1.0686633586883545,
          1.0686633586883545,
          1.6233866214752197,
          2.0190374851226807,
          1.6233866214752197,
          1.0686633586883545,
          2.0190374851226807,
          1.0686633586883545,
          2.0190374851226807,
          1.0095187425613403
         ]
        },
        {
         "marker": {
          "color": "rgba(116, 254, 186, 1.0)",
          "size": 1
         },
         "name": "95",
         "scene": "scene",
         "type": "scatter3d",
         "x": [
          1.051187515258789,
          0.6217202544212341,
          0.5782697796821594,
          0.6217202544212341,
          0.1922529935836792,
          0.452955961227417,
          1.3118904829025269,
          1.051187515258789,
          1.1281075477600098,
          0.1922529935836792,
          0.452955961227417,
          1.1281075477600098,
          1.3118904829025269,
          1.1281075477600098,
          0.5640538334846497
         ],
         "y": [
          -0.7867850065231323,
          -1.0428277254104614,
          -0.9699470400810242,
          -1.0428277254104614,
          -1.2988704442977905,
          -1.736154556274414,
          -1.2240691184997559,
          -0.7867850065231323,
          -1.8922046422958374,
          -1.2988704442977905,
          -1.736154556274414,
          -1.8922046422958374,
          -1.2240691184997559,
          -1.8922046422958374,
          -0.9461023807525635
         ],
         "z": [
          1.632972240447998,
          1.632972240447998,
          1.7247626781463623,
          1.632972240447998,
          1.6329723596572876,
          1.082230567932129,
          1.0822304487228394,
          1.632972240447998,
          2.0364022254943848,
          1.6329723596572876,
          1.082230567932129,
          2.0364022254943848,
          1.0822304487228394,
          2.0364022254943848,
          1.0182009935379028
         ]
        },
        {
         "marker": {
          "color": "rgba(118, 254, 185, 1.0)",
          "size": 1
         },
         "name": "96",
         "scene": "scene",
         "type": "scatter3d",
         "x": [
          1.0045244693756104,
          0.5627971887588501,
          0.5227069854736328,
          0.5627971887588501,
          0.12106978893280029,
          0.3616110682487488,
          1.2450658082962036,
          1.0045244693756104,
          1.024601697921753,
          0.12106978893280029,
          0.3616110682487488,
          1.024601697921753,
          1.2450658082962036,
          1.024601697921753,
          0.5123008489608765
         ],
         "y": [
          -0.8269757032394409,
          -1.0612339973449707,
          -0.9856381416320801,
          -1.0612339973449707,
          -1.295492172241211,
          -1.7490670680999756,
          -1.280550479888916,
          -0.8269757032394409,
          -1.9320319890975952,
          -1.295492172241211,
          -1.7490670680999756,
          -1.9320319890975952,
          -1.280550479888916,
          -1.9320319890975952,
          -0.9660159945487976
         ],
         "z": [
          1.6424574851989746,
          1.6424574851989746,
          1.7335785627365112,
          1.6424574851989746,
          1.6424574851989746,
          1.0957310199737549,
          1.0957310199737549,
          1.6424574851989746,
          2.0536413192749023,
          1.6424574851989746,
          1.0957310199737549,
          2.0536413192749023,
          1.0957310199737549,
          2.0536413192749023,
          1.0268206596374512
         ]
        },
        {
         "marker": {
          "color": "rgba(120, 254, 184, 1.0)",
          "size": 1
         },
         "name": "97",
         "scene": "scene",
         "type": "scatter3d",
         "x": [
          0.9564552903175354,
          0.5035719275474548,
          0.4670078456401825,
          0.5035719275474548,
          0.05068856477737427,
          0.2700729966163635,
          1.1758396625518799,
          0.9564552903175354,
          0.919896125793457,
          0.05068856477737427,
          0.2700729966163635,
          0.919896125793457,
          1.1758396625518799,
          0.919896125793457,
          0.4599481523036957
         ],
         "y": [
          -0.8644297122955322,
          -1.0763180255889893,
          -0.9981672763824463,
          -1.0763180255889893,
          -1.2882065773010254,
          -1.7571115493774414,
          -1.3333346843719482,
          -0.8644297122955322,
          -1.966155767440796,
          -1.2882065773010254,
          -1.7571115493774414,
          -1.966155767440796,
          -1.3333346843719482,
          -1.966155767440796,
          -0.9830780029296875
         ],
         "z": [
          1.651841163635254,
          1.651841163635254,
          1.7422873973846436,
          1.651841163635254,
          1.6518410444259644,
          1.109163761138916,
          1.1091638803482056,
          1.651841163635254,
          2.070753812789917,
          1.6518410444259644,
          1.109163761138916,
          2.070753812789917,
          1.1091638803482056,
          2.070753812789917,
          1.035376787185669
         ]
        },
        {
         "marker": {
          "color": "rgba(124, 254, 181, 1.0)",
          "size": 1
         },
         "name": "98",
         "scene": "scene",
         "type": "scatter3d",
         "x": [
          0.9071388244628906,
          0.4442315101623535,
          0.4113515615463257,
          0.4442315101623535,
          -0.01867586374282837,
          0.17860382795333862,
          1.1044185161590576,
          0.9071388244628906,
          0.8143071532249451,
          -0.01867586374282837,
          0.17860382795333862,
          0.8143071532249451,
          1.1044185161590576,
          0.8143071532249451,
          0.4071534276008606
         ],
         "y": [
          -0.8991074562072754,
          -1.0880963802337646,
          -1.0075606107711792,
          -1.0880963802337646,
          -1.2770851850509644,
          -1.760299801826477,
          -1.382322072982788,
          -0.8991074562072754,
          -1.9945555925369263,
          -1.2770851850509644,
          -1.760299801826477,
          -1.9945555925369263,
          -1.382322072982788,
          -1.9945555925369263,
          -0.9972776174545288
         ],
         "z": [
          1.6611229181289673,
          1.6611229181289673,
          1.750888705253601,
          1.6611229181289673,
          1.6611229181289673,
          1.122528076171875,
          1.122528076171875,
          1.6611229181289673,
          2.087738037109375,
          1.6611229181289673,
          1.122528076171875,
          2.087738037109375,
          1.122528076171875,
          2.087738037109375,
          1.0438692569732666
         ]
        },
        {
         "marker": {
          "color": "rgba(126, 254, 180, 1.0)",
          "size": 1
         },
         "name": "99",
         "scene": "scene",
         "type": "scatter3d",
         "x": [
          0.8567352890968323,
          0.38496094942092896,
          0.35591456294059753,
          0.38496094942092896,
          -0.08681339025497437,
          0.08746486902236938,
          1.0310134887695312,
          0.8567352890968323,
          0.7081502079963684,
          -0.08681339025497437,
          0.08746486902236938,
          0.7081502079963684,
          1.0310134887695312,
          0.7081502079963684,
          0.35407501459121704
         ],
         "y": [
          -0.9309778213500977,
          -1.0965948104858398,
          -1.0138537883758545,
          -1.0965948104858398,
          -1.262211799621582,
          -1.758658528327942,
          -1.4274245500564575,
          -0.9309778213500977,
          -2.0172274112701416,
          -1.262211799621582,
          -1.758658528327942,
          -2.0172274112701416,
          -1.4274245500564575,
          -2.0172274112701416,
          -1.0086135864257812
         ],
         "z": [
          1.670302391052246,
          1.670302391052246,
          1.7593822479248047,
          1.670302391052246,
          1.670302391052246,
          1.1358234882354736,
          1.1358234882354736,
          1.670302391052246,
          2.1045942306518555,
          1.670302391052246,
          1.1358234882354736,
          2.1045942306518555,
          1.1358234882354736,
          2.1045942306518555,
          1.0522973537445068
         ]
        },
        {
         "marker": {
          "color": "rgba(128, 254, 179, 1.0)",
          "size": 1
         },
         "name": "100",
         "scene": "scene",
         "type": "scatter3d",
         "x": [
          0.8054036498069763,
          0.3259415030479431,
          0.3008691072463989,
          0.3259415030479431,
          -0.1535205841064453,
          -0.0030860304832458496,
          0.9558382034301758,
          0.8054036498069763,
          0.6017383933067322,
          -0.1535205841064453,
          -0.0030860304832458496,
          0.6017383933067322,
          0.9558382034301758,
          0.6017383933067322,
          0.30086901783943176
         ],
         "y": [
          -0.960019588470459,
          -1.1018507480621338,
          -1.0170929431915283,
          -1.1018507480621338,
          -1.2436819076538086,
          -1.752227783203125,
          -1.4685654640197754,
          -0.960019588470459,
          -2.0341858863830566,
          -1.2436819076538086,
          -1.752227783203125,
          -2.0341858863830566,
          -1.4685654640197754,
          -2.0341858863830566,
          -1.0170925855636597
         ],
         "z": [
          1.6793791055679321,
          1.6793789863586426,
          1.7677674293518066,
          1.6793789863586426,
          1.6793789863586426,
          1.1490486860275269,
          1.1490488052368164,
          1.6793791055679321,
          2.1213202476501465,
          1.6793789863586426,
          1.1490486860275269,
          2.1213202476501465,
          1.1490488052368164,
          2.1213202476501465,
          1.060660719871521
         ]
        },
        {
         "marker": {
          "color": "rgba(130, 254, 178, 1.0)",
          "size": 1
         },
         "name": "101",
         "scene": "scene",
         "type": "scatter3d",
         "x": [
          0.7533032894134521,
          0.26735177636146545,
          0.24638402462005615,
          0.26735177636146545,
          -0.21859976649284363,
          -0.09279337525367737,
          0.8791097402572632,
          0.7533032894134521,
          0.4953824579715729,
          -0.21859976649284363,
          -0.09279337525367737,
          0.4953824579715729,
          0.8791097402572632,
          0.4953824579715729,
          0.24769124388694763
         ],
         "y": [
          -0.9862196445465088,
          -1.1039103269577026,
          -1.0173333883285522,
          -1.1039103269577026,
          -1.2216010093688965,
          -1.7410626411437988,
          -1.5056812763214111,
          -0.9862196445465088,
          -2.045461654663086,
          -1.2216010093688965,
          -1.7410626411437988,
          -2.045461654663086,
          -1.5056812763214111,
          -2.045461654663086,
          -1.022730827331543
         ],
         "z": [
          1.6883515119552612,
          1.6883515119552612,
          1.7760429382324219,
          1.6883515119552612,
          1.6883515119552612,
          1.1622029542922974,
          1.1622029542922974,
          1.6883515119552612,
          2.137915849685669,
          1.6883515119552612,
          1.1622029542922974,
          2.137915849685669,
          1.1622029542922974,
          2.137915849685669,
          1.0689579248428345
         ]
        },
        {
         "marker": {
          "color": "rgba(134, 254, 176, 1.0)",
          "size": 1
         },
         "name": "102",
         "scene": "scene",
         "type": "scatter3d",
         "x": [
          0.7005916833877563,
          0.20936539769172668,
          0.19262295961380005,
          0.20936539769172668,
          -0.28186094760894775,
          -0.18140631914138794,
          0.8010462522506714,
          0.7005916833877563,
          0.3893890380859375,
          -0.28186094760894775,
          -0.18140631914138794,
          0.3893890380859375,
          0.8010462522506714,
          0.3893890380859375,
          0.19469450414180756
         ],
         "y": [
          -1.0095746517181396,
          -1.1028308868408203,
          -1.014640212059021,
          -1.1028308868408203,
          -1.1960870027542114,
          -1.7252308130264282,
          -1.5387184619903564,
          -1.0095746517181396,
          -2.0511040687561035,
          -1.1960870027542114,
          -1.7252308130264282,
          -2.0511040687561035,
          -1.5387184619903564,
          -2.0511040687561035,
          -1.0255520343780518
         ],
         "z": [
          1.697219729423523,
          1.697219729423523,
          1.7842087745666504,
          1.697219729423523,
          1.697219729423523,
          1.1752851009368896,
          1.1752851009368896,
          1.697219729423523,
          2.154378652572632,
          1.697219729423523,
          1.1752851009368896,
          2.154378652572632,
          1.1752851009368896,
          2.154378652572632,
          1.077189326286316
         ]
        },
        {
         "marker": {
          "color": "rgba(136, 254, 175, 1.0)",
          "size": 1
         },
         "name": "103",
         "scene": "scene",
         "type": "scatter3d",
         "x": [
          0.6474250555038452,
          0.15215183794498444,
          0.13974468410015106,
          0.15215183794498444,
          -0.3431214392185211,
          -0.2686785161495209,
          0.7218680381774902,
          0.6474250555038452,
          0.28405997157096863,
          -0.3431214392185211,
          -0.2686785161495209,
          0.28405997157096863,
          0.7218680381774902,
          0.28405997157096863,
          0.14202997088432312
         ],
         "y": [
          -1.0300898551940918,
          -1.0986783504486084,
          -1.0090872049331665,
          -1.0986783504486084,
          -1.1672669649124146,
          -1.704814076423645,
          -1.5676369667053223,
          -1.0300898551940918,
          -2.051177978515625,
          -1.1672669649124146,
          -1.704814076423645,
          -2.051177978515625,
          -1.5676369667053223,
          -2.051177978515625,
          -1.0255889892578125
         ],
         "z": [
          1.7059836387634277,
          1.7059836387634277,
          1.7922649383544922,
          1.7059836387634277,
          1.7059836387634277,
          1.1882951259613037,
          1.1882951259613037,
          1.7059836387634277,
          2.1707091331481934,
          1.7059836387634277,
          1.1882951259613037,
          2.1707091331481934,
          1.1882951259613037,
          2.1707091331481934,
          1.0853545665740967
         ]
        },
        {
         "marker": {
          "color": "rgba(138, 254, 174, 1.0)",
          "size": 1
         },
         "name": "104",
         "scene": "scene",
         "type": "scatter3d",
         "x": [
          0.5939576029777527,
          0.09587530791759491,
          0.08790230751037598,
          0.09587530791759491,
          -0.40220701694488525,
          -0.35436898469924927,
          0.6417956352233887,
          0.5939576029777527,
          0.17969150841236115,
          -0.40220701694488525,
          -0.35436898469924927,
          0.17969150841236115,
          0.6417956352233887,
          0.17969150841236115,
          0.08984572440385818
         ],
         "y": [
          -1.0477784872055054,
          -1.091528058052063,
          -1.0007565021514893,
          -1.091528058052063,
          -1.135277509689331,
          -1.6799070835113525,
          -1.5924080610275269,
          -1.0477784872055054,
          -2.045764446258545,
          -1.135277509689331,
          -1.6799070835113525,
          -2.045764446258545,
          -1.5924080610275269,
          -2.045764446258545,
          -1.0228819847106934
         ],
         "z": [
          1.7146425247192383,
          1.7146425247192383,
          1.800210952758789,
          1.7146425247192383,
          1.7146425247192383,
          1.2012321949005127,
          1.2012321949005127,
          1.7146425247192383,
          2.186905860900879,
          1.7146425247192383,
          1.2012321949005127,
          2.186905860900879,
          1.2012321949005127,
          2.186905860900879,
          1.0934531688690186
         ]
        },
        {
         "marker": {
          "color": "rgba(142, 253, 171, 1.0)",
          "size": 1
         },
         "name": "105",
         "scene": "scene",
         "type": "scatter3d",
         "x": [
          0.5403406023979187,
          0.04069419205188751,
          0.03724267706274986,
          0.04069419205188751,
          -0.4589521884918213,
          -0.43824315071105957,
          0.5610496997833252,
          0.5403406023979187,
          0.07657312601804733,
          -0.4589521884918213,
          -0.43824315071105957,
          0.07657312601804733,
          0.5610496997833252,
          0.07657312601804733,
          0.03828653693199158
         ],
         "y": [
          -1.0626643896102905,
          -1.081465482711792,
          -0.9897401332855225,
          -1.081465482711792,
          -1.1002665758132935,
          -1.6506187915802002,
          -1.6130166053771973,
          -1.0626643896102905,
          -2.0349624156951904,
          -1.1002665758132935,
          -1.6506187915802002,
          -2.0349624156951904,
          -1.6130166053771973,
          -2.0349624156951904,
          -1.0174812078475952
         ],
         "z": [
          1.7231957912445068,
          1.7231957912445068,
          1.8080458641052246,
          1.7231957912445068,
          1.7231957912445068,
          1.214095115661621,
          1.214095115661621,
          1.7231957912445068,
          2.202967643737793,
          1.7231957912445068,
          1.214095115661621,
          2.202967643737793,
          1.214095115661621,
          2.202967643737793,
          1.1014842987060547
         ]
        },
        {
         "marker": {
          "color": "rgba(144, 253, 170, 1.0)",
          "size": 1
         },
         "name": "106",
         "scene": "scene",
         "type": "scatter3d",
         "x": [
          0.48672232031822205,
          -0.01323931384831667,
          -0.012093933299183846,
          -0.01323931384831667,
          -0.5132009387016296,
          -0.5200732350349426,
          0.47985002398490906,
          0.48672232031822205,
          -0.025013180449604988,
          -0.5132009387016296,
          -0.5200732350349426,
          -0.025013180449604988,
          0.47985002398490906,
          -0.025013180449604988,
          -0.012506591156125069
         ],
         "y": [
          -1.0747759342193604,
          -1.0685815811157227,
          -0.9761347770690918,
          -1.0685815811157227,
          -1.062387228012085,
          -1.6170679330825806,
          -1.629456639289856,
          -1.0747759342193604,
          -2.0188827514648438,
          -1.062387228012085,
          -1.6170679330825806,
          -2.0188827514648438,
          -1.629456639289856,
          -2.0188827514648438,
          -1.0094414949417114
         ],
         "z": [
          1.7316420078277588,
          1.7316420078277588,
          1.8157684803009033,
          1.7316420078277588,
          1.7316420078277588,
          1.2268825769424438,
          1.2268825769424438,
          1.7316420078277588,
          2.218893527984619,
          1.7316420078277588,
          1.2268825769424438,
          2.218893527984619,
          1.2268825769424438,
          2.218893527984619,
          1.10944664478302
         ]
        },
        {
         "marker": {
          "color": "rgba(146, 253, 169, 1.0)",
          "size": 1
         },
         "name": "107",
         "scene": "scene",
         "type": "scatter3d",
         "x": [
          0.4332475960254669,
          -0.06577955186367035,
          -0.059974171221256256,
          -0.06577955186367035,
          -0.5648066997528076,
          -0.5996389985084534,
          0.39841535687446594,
          0.4332475960254669,
          -0.12479355186223984,
          -0.5648066997528076,
          -0.5996389985084534,
          -0.12479355186223984,
          0.39841535687446594,
          -0.12479355186223984,
          -0.062396757304668427
         ],
         "y": [
          -1.0841517448425293,
          -1.052977442741394,
          -0.9600468873977661,
          -1.052977442741394,
          -1.0218031406402588,
          -1.5793867111206055,
          -1.641735315322876,
          -1.0841517448425293,
          -1.9976540803909302,
          -1.0218031406402588,
          -1.5793867111206055,
          -1.9976540803909302,
          -1.641735315322876,
          -1.9976540803909302,
          -0.998826801776886
         ],
         "z": [
          1.739981770515442,
          1.739981770515442,
          1.823379635810852,
          1.739981770515442,
          1.739981770515442,
          1.239594578742981,
          1.239594578742981,
          1.739981770515442,
          2.234682083129883,
          1.739981770515442,
          1.239594578742981,
          2.234682083129883,
          1.239594578742981,
          2.234682083129883,
          1.1173412799835205
         ]
        },
        {
         "marker": {
          "color": "rgba(148, 252, 168, 1.0)",
          "size": 1
         },
         "name": "108",
         "scene": "scene",
         "type": "scatter3d",
         "x": [
          0.3800574541091919,
          -0.11678802967071533,
          -0.10627217590808868,
          -0.11678802967071533,
          -0.6136335134506226,
          -0.6767286062240601,
          0.3169623613357544,
          0.3800574541091919,
          -0.2225034087896347,
          -0.6136335134506226,
          -0.6767286062240601,
          -0.2225034087896347,
          0.3169623613357544,
          -0.2225034087896347,
          -0.11125168204307556
         ],
         "y": [
          -1.0908384323120117,
          -1.0347621440887451,
          -0.9415898323059082,
          -1.0347621440887451,
          -0.9786859154701233,
          -1.5377198457717896,
          -1.6498723030090332,
          -1.0908384323120117,
          -1.971418857574463,
          -0.9786859154701233,
          -1.5377198457717896,
          -1.971418857574463,
          -1.6498723030090332,
          -1.971418857574463,
          -0.9857093095779419
         ],
         "z": [
          1.7482142448425293,
          1.7482142448425293,
          1.8308782577514648,
          1.7482142448425293,
          1.7482142448425293,
          1.2522302865982056,
          1.2522302865982056,
          1.7482142448425293,
          2.250333309173584,
          1.7482142448425293,
          1.2522302865982056,
          2.250333309173584,
          1.2522302865982056,
          2.250333309173584,
          1.1251667737960815
         ]
        },
        {
         "marker": {
          "color": "rgba(152, 251, 165, 1.0)",
          "size": 1
         },
         "name": "109",
         "scene": "scene",
         "type": "scatter3d",
         "x": [
          0.32728826999664307,
          -0.16613362729549408,
          -0.15086974203586578,
          -0.16613362729549408,
          -0.6595555543899536,
          -0.7511389255523682,
          0.2357049584388733,
          0.32728826999664307,
          -0.31788790225982666,
          -0.6595555543899536,
          -0.7511389255523682,
          -0.31788790225982666,
          0.2357049584388733,
          -0.31788790225982666,
          -0.1589439958333969
         ],
         "y": [
          -1.0948888063430786,
          -1.0140507221221924,
          -0.9208825826644897,
          -1.0140507221221924,
          -0.9332126379013062,
          -1.4922215938568115,
          -1.653897762298584,
          -1.0948888063430786,
          -1.9403327703475952,
          -0.9332126379013062,
          -1.4922215938568115,
          -1.9403327703475952,
          -1.653897762298584,
          -1.9403327703475952,
          -0.9701664447784424
         ],
         "z": [
          1.7563384771347046,
          1.7563384771347046,
          1.8382635116577148,
          1.7563384771347046,
          1.7563384771347046,
          1.2647883892059326,
          1.2647883892059326,
          1.7563384771347046,
          2.26584529876709,
          1.7563384771347046,
          1.2647883892059326,
          2.26584529876709,
          1.2647883892059326,
          2.26584529876709,
          1.1329225301742554
         ]
        },
        {
         "marker": {
          "color": "rgba(154, 251, 164, 1.0)",
          "size": 1
         },
         "name": "110",
         "scene": "scene",
         "type": "scatter3d",
         "x": [
          0.2750720679759979,
          -0.21369296312332153,
          -0.19365665316581726,
          -0.21369296312332153,
          -0.7024580240249634,
          -0.8226758241653442,
          0.15485426783561707,
          0.2750720679759979,
          -0.41070279479026794,
          -0.7024580240249634,
          -0.8226758241653442,
          -0.41070279479026794,
          0.15485426783561707,
          -0.41070279479026794,
          -0.20535141229629517
         ],
         "y": [
          -1.0963629484176636,
          -0.9909650683403015,
          -0.89805006980896,
          -0.9909650683403015,
          -0.8855671882629395,
          -1.4430570602416992,
          -1.6538528203964233,
          -1.0963629484176636,
          -1.9045649766921997,
          -0.8855671882629395,
          -1.4430570602416992,
          -1.9045649766921997,
          -1.6538528203964233,
          -1.9045649766921997,
          -0.9522825479507446
         ],
         "z": [
          1.764354944229126,
          1.7643550634384155,
          1.8455359935760498,
          1.7643550634384155,
          1.7643550634384155,
          1.2772690057754517,
          1.2772690057754517,
          1.764354944229126,
          2.2812180519104004,
          1.7643550634384155,
          1.2772690057754517,
          2.2812180519104004,
          1.2772690057754517,
          2.2812180519104004,
          1.1406090259552002
         ]
        },
        {
         "marker": {
          "color": "rgba(156, 250, 163, 1.0)",
          "size": 1
         },
         "name": "111",
         "scene": "scene",
         "type": "scatter3d",
         "x": [
          0.2235354781150818,
          -0.25935104489326477,
          -0.23453134298324585,
          -0.25935104489326477,
          -0.7422375679016113,
          -0.8911557793617249,
          0.07461726665496826,
          0.2235354781150818,
          -0.5007152557373047,
          -0.7422375679016113,
          -0.8911557793617249,
          -0.5007152557373047,
          0.07461726665496826,
          -0.5007152557373047,
          -0.25035756826400757
         ],
         "y": [
          -1.0953280925750732,
          -0.965633749961853,
          -0.8732234239578247,
          -0.965633749961853,
          -0.8359395265579224,
          -1.3904016017913818,
          -1.6497902870178223,
          -1.0953280925750732,
          -1.8642972707748413,
          -0.8359395265579224,
          -1.3904016017913818,
          -1.8642972707748413,
          -1.6497902870178223,
          -1.8642972707748413,
          -0.9321486353874207
         ],
         "z": [
          1.772262454032898,
          1.772262454032898,
          1.8526945114135742,
          1.772262454032898,
          1.772262454032898,
          1.289670467376709,
          1.289670467376709,
          1.772262454032898,
          2.296449661254883,
          1.772262454032898,
          1.289670467376709,
          2.296449661254883,
          1.289670467376709,
          2.296449661254883,
          1.1482248306274414
         ]
        },
        {
         "marker": {
          "color": "rgba(160, 249, 161, 1.0)",
          "size": 1
         },
         "name": "112",
         "scene": "scene",
         "type": "scatter3d",
         "x": [
          0.1727999448776245,
          -0.3030011057853699,
          -0.27340057492256165,
          -0.3030011057853699,
          -0.7788020968437195,
          -0.9564051628112793,
          -0.004803121089935303,
          0.1727999448776245,
          -0.587704062461853,
          -0.7788020968437195,
          -0.9564051628112793,
          -0.587704062461853,
          -0.004803121089935303,
          -0.587704062461853,
          -0.29385191202163696
         ],
         "y": [
          -1.0918562412261963,
          -0.938189685344696,
          -0.8465369343757629,
          -0.938189685344696,
          -0.7845231294631958,
          -1.3344395160675049,
          -1.6417725086212158,
          -1.0918562412261963,
          -1.819722056388855,
          -0.7845231294631958,
          -1.3344395160675049,
          -1.819722056388855,
          -1.6417725086212158,
          -1.819722056388855,
          -0.9098607897758484
         ],
         "z": [
          1.7800607681274414,
          1.7800607681274414,
          1.859738826751709,
          1.7800607681274414,
          1.7800607681274414,
          1.3019927740097046,
          1.301992654800415,
          1.7800607681274414,
          2.311539888381958,
          1.7800607681274414,
          1.3019927740097046,
          2.311539888381958,
          1.301992654800415,
          2.311539888381958,
          1.155770182609558
         ]
        },
        {
         "marker": {
          "color": "rgba(162, 249, 159, 1.0)",
          "size": 1
         },
         "name": "113",
         "scene": "scene",
         "type": "scatter3d",
         "x": [
          0.12298083305358887,
          -0.34454545378685,
          -0.3101804256439209,
          -0.34454545378685,
          -0.812071681022644,
          -1.0182619094848633,
          -0.08320939540863037,
          0.12298083305358887,
          -0.6714608669281006,
          -0.812071681022644,
          -1.0182619094848633,
          -0.6714608669281006,
          -0.08320939540863037,
          -0.6714608669281006,
          -0.3357303738594055
         ],
         "y": [
          -1.0860271453857422,
          -0.9087725877761841,
          -0.8181314468383789,
          -0.9087725877761841,
          -0.7315181493759155,
          -1.2753649950027466,
          -1.6298739910125732,
          -1.0860271453857422,
          -1.771044135093689,
          -0.7315181493759155,
          -1.2753649950027466,
          -1.771044135093689,
          -1.6298739910125732,
          -1.771044135093689,
          -0.8855220079421997
         ],
         "z": [
          1.7877490520477295,
          1.7877490520477295,
          1.8666682243347168,
          1.7877490520477295,
          1.7877490520477295,
          1.3142344951629639,
          1.3142344951629639,
          1.7877490520477295,
          2.3264875411987305,
          1.7877490520477295,
          1.3142344951629639,
          2.3264875411987305,
          1.3142344951629639,
          2.3264875411987305,
          1.1632438898086548
         ]
        },
        {
         "marker": {
          "color": "rgba(164, 248, 158, 1.0)",
          "size": 1
         },
         "name": "114",
         "scene": "scene",
         "type": "scatter3d",
         "x": [
          0.07418787479400635,
          -0.38389506936073303,
          -0.3447955846786499,
          -0.38389506936073303,
          -0.8419779539108276,
          -1.0765748023986816,
          -0.16040897369384766,
          0.07418787479400635,
          -0.7517902851104736,
          -0.8419779539108276,
          -1.0765748023986816,
          -0.7517902851104736,
          -0.16040897369384766,
          -0.7517902851104736,
          -0.37589508295059204
         ],
         "y": [
          -1.077925205230713,
          -0.8775256276130676,
          -0.7881501913070679,
          -0.8775256276130676,
          -0.6771260499954224,
          -1.2133787870407104,
          -1.614177942276001,
          -1.077925205230713,
          -1.7184780836105347,
          -0.6771260499954224,
          -1.2133787870407104,
          -1.7184780836105347,
          -1.614177942276001,
          -1.7184780836105347,
          -0.8592389822006226
         ],
         "z": [
          1.795327067375183,
          1.795327067375183,
          1.8734824657440186,
          1.795327067375183,
          1.795327067375183,
          1.326395034790039,
          1.326395034790039,
          1.795327067375183,
          2.3412914276123047,
          1.795327067375183,
          1.326395034790039,
          2.3412914276123047,
          1.326395034790039,
          2.3412914276123047,
          1.170645833015442
         ]
        },
        {
         "marker": {
          "color": "rgba(166, 247, 157, 1.0)",
          "size": 1
         },
         "name": "115",
         "scene": "scene",
         "type": "scatter3d",
         "x": [
          0.026524662971496582,
          -0.42097002267837524,
          -0.3771800100803375,
          -0.42097002267837524,
          -0.8684647083282471,
          -1.1312047243118286,
          -0.2362154722213745,
          0.026524662971496582,
          -0.8285101652145386,
          -0.8684647083282471,
          -1.1312047243118286,
          -0.8285101652145386,
          -0.2362154722213745,
          -0.8285101652145386,
          -0.4142550230026245
         ],
         "y": [
          -1.0676398277282715,
          -0.8445960879325867,
          -0.7567397952079773,
          -0.8445960879325867,
          -0.6215522289276123,
          -1.1486899852752686,
          -1.5947775840759277,
          -1.0676398277282715,
          -1.6622474193572998,
          -0.6215522289276123,
          -1.1486899852752686,
          -1.6622474193572998,
          -1.5947775840759277,
          -1.6622474193572998,
          -0.8311236500740051
         ],
         "z": [
          1.802794337272644,
          1.802794337272644,
          1.880181074142456,
          1.802794337272644,
          1.802794337272644,
          1.338473916053772,
          1.338473916053772,
          1.802794337272644,
          2.3559510707855225,
          1.802794337272644,
          1.338473916053772,
          2.3559510707855225,
          1.338473916053772,
          2.3559510707855225,
          1.1779756546020508
         ]
        },
        {
         "marker": {
          "color": "rgba(170, 246, 154, 1.0)",
          "size": 1
         },
         "name": "116",
         "scene": "scene",
         "type": "scatter3d",
         "x": [
          -0.0199124813079834,
          -0.4557002782821655,
          -0.40727752447128296,
          -0.4557002782821655,
          -0.8914880752563477,
          -1.1820247173309326,
          -0.31044912338256836,
          -0.0199124813079834,
          -0.9014529585838318,
          -0.8914880752563477,
          -1.1820247173309326,
          -0.9014529585838318,
          -0.31044912338256836,
          -0.9014529585838318,
          -0.4507264196872711
         ],
         "y": [
          -1.0552654266357422,
          -0.810135006904602,
          -0.7240500450134277,
          -0.810135006904602,
          -0.5650044679641724,
          -1.0815143585205078,
          -1.5717754364013672,
          -1.0552654266357422,
          -1.602584958076477,
          -0.5650044679641724,
          -1.0815143585205078,
          -1.602584958076477,
          -1.5717754364013672,
          -1.602584958076477,
          -0.8012924194335938
         ],
         "z": [
          1.8101502656936646,
          1.8101502656936646,
          1.8867636919021606,
          1.8101502656936646,
          1.810150384902954,
          1.350469946861267,
          1.3504698276519775,
          1.8101502656936646,
          2.370465040206909,
          1.810150384902954,
          1.350469946861267,
          2.370465040206909,
          1.3504698276519775,
          2.370465040206909,
          1.1852326393127441
         ]
        },
        {
         "marker": {
          "color": "rgba(172, 245, 153, 1.0)",
          "size": 1
         },
         "name": "117",
         "scene": "scene",
         "type": "scatter3d",
         "x": [
          -0.06503307819366455,
          -0.48802492022514343,
          -0.43504101037979126,
          -0.48802492022514343,
          -0.9110167026519775,
          -1.2289201021194458,
          -0.3829364776611328,
          -0.06503307819366455,
          -0.9704650640487671,
          -0.9110167026519775,
          -1.2289201021194458,
          -0.9704650640487671,
          -0.3829364776611328,
          -0.9704650640487671,
          -0.485232412815094
         ],
         "y": [
          -1.0408999919891357,
          -0.7742955684661865,
          -0.6902319192886353,
          -0.7742955684661865,
          -0.5076912641525269,
          -1.0120735168457031,
          -1.545282244682312,
          -1.0408999919891357,
          -1.5397303104400635,
          -0.5076912641525269,
          -1.0120735168457031,
          -1.5397303104400635,
          -1.545282244682312,
          -1.5397303104400635,
          -0.7698649764060974
         ],
         "z": [
          1.8173948526382446,
          1.8173948526382446,
          1.8932301998138428,
          1.8173948526382446,
          1.8173949718475342,
          1.3623830080032349,
          1.3623828887939453,
          1.8173948526382446,
          2.3848330974578857,
          1.8173949718475342,
          1.3623830080032349,
          2.3848330974578857,
          1.3623828887939453,
          2.3848330974578857,
          1.1924169063568115
         ]
        },
        {
         "marker": {
          "color": "rgba(174, 244, 152, 1.0)",
          "size": 1
         },
         "name": "118",
         "scene": "scene",
         "type": "scatter3d",
         "x": [
          -0.10875415802001953,
          -0.5178927183151245,
          -0.4604329466819763,
          -0.5178927183151245,
          -0.9270312786102295,
          -1.2717896699905396,
          -0.4535125494003296,
          -0.10875415802001953,
          -1.0354076623916626,
          -0.9270312786102295,
          -1.2717896699905396,
          -1.0354076623916626,
          -0.4535125494003296,
          -1.0354076623916626,
          -0.5177040100097656
         ],
         "y": [
          -1.0246455669403076,
          -0.7372336983680725,
          -0.655438244342804,
          -0.7372336983680725,
          -0.44982171058654785,
          -0.9405946135520935,
          -1.515418529510498,
          -1.0246455669403076,
          -1.4739301204681396,
          -0.44982171058654785,
          -0.9405946135520935,
          -1.4739301204681396,
          -1.515418529510498,
          -1.4739301204681396,
          -0.7369651198387146
         ],
         "z": [
          1.8245265483856201,
          1.8245266675949097,
          1.8995791673660278,
          1.8245266675949097,
          1.8245266675949097,
          1.3742115497589111,
          1.3742115497589111,
          1.8245265483856201,
          2.3990538120269775,
          1.8245266675949097,
          1.3742115497589111,
          2.3990538120269775,
          1.3742115497589111,
          2.3990538120269775,
          1.1995267868041992
         ]
        },
        {
         "marker": {
          "color": "rgba(178, 242, 149, 1.0)",
          "size": 1
         },
         "name": "119",
         "scene": "scene",
         "type": "scatter3d",
         "x": [
          -0.1509993076324463,
          -0.5452619194984436,
          -0.4834253191947937,
          -0.5452619194984436,
          -0.9395245909690857,
          -1.3105442523956299,
          -0.5220189094543457,
          -0.1509993076324463,
          -1.0961575508117676,
          -0.9395245909690857,
          -1.3105442523956299,
          -1.0961575508117676,
          -0.5220189094543457,
          -1.0961575508117676,
          -0.5480788350105286
         ],
         "y": [
          -1.0066086053848267,
          -0.6991074681282043,
          -0.6198236346244812,
          -0.6991074681282043,
          -0.39160633087158203,
          -0.8673092126846313,
          -1.482311487197876,
          -1.0066086053848267,
          -1.4054384231567383,
          -0.39160633087158203,
          -0.8673092126846313,
          -1.4054384231567383,
          -1.482311487197876,
          -1.4054384231567383,
          -0.7027191519737244
         ],
         "z": [
          1.8315469026565552,
          1.8315469026565552,
          1.9058120250701904,
          1.8315469026565552,
          1.8315467834472656,
          1.385956048965454,
          1.385956048965454,
          1.8315469026565552,
          2.4131271839141846,
          1.8315467834472656,
          1.385956048965454,
          2.4131271839141846,
          1.385956048965454,
          2.4131271839141846,
          1.2065635919570923
         ]
        },
        {
         "marker": {
          "color": "rgba(180, 241, 148, 1.0)",
          "size": 1
         },
         "name": "120",
         "scene": "scene",
         "type": "scatter3d",
         "x": [
          -0.19169950485229492,
          -0.5701007843017578,
          -0.503999650478363,
          -0.5701007843017578,
          -0.9485019445419312,
          -1.3451085090637207,
          -0.5883060693740845,
          -0.19169950485229492,
          -1.1526061296463013,
          -0.9485019445419312,
          -1.3451085090637207,
          -1.1526061296463013,
          -0.5883060693740845,
          -1.1526061296463013,
          -0.5763030052185059
         ],
         "y": [
          -0.9868966341018677,
          -0.6600748300552368,
          -0.5835416316986084,
          -0.6600748300552368,
          -0.33325302600860596,
          -0.7924524545669556,
          -1.4460960626602173,
          -0.9868966341018677,
          -1.3345118761062622,
          -0.33325302600860596,
          -0.7924524545669556,
          -1.3345118761062622,
          -1.4460960626602173,
          -1.3345118761062622,
          -0.6672558784484863
         ],
         "z": [
          1.8384532928466797,
          1.8384534120559692,
          1.911926507949829,
          1.8384534120559692,
          1.8384535312652588,
          1.3976144790649414,
          1.3976144790649414,
          1.8384532928466797,
          2.427050828933716,
          1.8384535312652588,
          1.3976144790649414,
          2.427050828933716,
          1.3976144790649414,
          2.427050828933716,
          1.2135255336761475
         ]
        },
        {
         "marker": {
          "color": "rgba(182, 240, 147, 1.0)",
          "size": 1
         },
         "name": "121",
         "scene": "scene",
         "type": "scatter3d",
         "x": [
          -0.23079347610473633,
          -0.5923875570297241,
          -0.522147536277771,
          -0.5923875570297241,
          -0.9539816379547119,
          -1.3754212856292725,
          -0.6522331237792969,
          -0.23079347610473633,
          -1.2046610116958618,
          -0.9539816379547119,
          -1.3754212856292725,
          -1.2046610116958618,
          -0.6522331237792969,
          -1.2046610116958618,
          -0.6023305654525757
         ],
         "y": [
          -0.965620756149292,
          -0.6202951669692993,
          -0.5467461347579956,
          -0.6202951669692993,
          -0.27496957778930664,
          -0.7162635326385498,
          -1.4069147109985352,
          -0.965620756149292,
          -1.2614132165908813,
          -0.27496957778930664,
          -0.7162635326385498,
          -1.2614132165908813,
          -1.4069147109985352,
          -1.2614132165908813,
          -0.6307066082954407
         ],
         "z": [
          1.8452467918395996,
          1.8452467918395996,
          1.9179234504699707,
          1.8452467918395996,
          1.8452467918395996,
          1.4091869592666626,
          1.4091869592666626,
          1.8452467918395996,
          2.4408254623413086,
          1.8452467918395996,
          1.4091869592666626,
          2.4408254623413086,
          1.4091869592666626,
          2.4408254623413086,
          1.2204127311706543
         ]
        },
        {
         "marker": {
          "color": "rgba(184, 239, 146, 1.0)",
          "size": 1
         },
         "name": "122",
         "scene": "scene",
         "type": "scatter3d",
         "x": [
          -0.26822614669799805,
          -0.6121093034744263,
          -0.5378690958023071,
          -0.6121093034744263,
          -0.9559924006462097,
          -1.4014333486557007,
          -0.713667094707489,
          -0.26822614669799805,
          -1.252244472503662,
          -0.9559924006462097,
          -1.4014333486557007,
          -1.252244472503662,
          -0.713667094707489,
          -1.252244472503662,
          -0.6261223554611206
         ],
         "y": [
          -0.942893385887146,
          -0.5799272656440735,
          -0.5095902681350708,
          -0.5799272656440735,
          -0.21696114540100098,
          -0.6389830112457275,
          -1.364915132522583,
          -0.942893385887146,
          -1.1864073276519775,
          -0.21696114540100098,
          -0.6389830112457275,
          -1.1864073276519775,
          -1.364915132522583,
          -1.1864073276519775,
          -0.593203604221344
         ],
         "z": [
          1.8519264459609985,
          1.8519264459609985,
          1.923802137374878,
          1.8519264459609985,
          1.8519264459609985,
          1.4206725358963013,
          1.4206725358963013,
          1.8519264459609985,
          2.45444917678833,
          1.8519264459609985,
          1.4206725358963013,
          2.45444917678833,
          1.4206725358963013,
          2.45444917678833,
          1.227224588394165
         ]
        },
        {
         "marker": {
          "color": "rgba(188, 237, 143, 1.0)",
          "size": 1
         },
         "name": "123",
         "scene": "scene",
         "type": "scatter3d",
         "x": [
          -0.30395084619522095,
          -0.6292632818222046,
          -0.5511742830276489,
          -0.6292632818222046,
          -0.954575777053833,
          -1.4231102466583252,
          -0.7724852561950684,
          -0.30395084619522095,
          -1.2952959537506104,
          -0.954575777053833,
          -1.4231102466583252,
          -1.2952959537506104,
          -0.7724852561950684,
          -1.2952959537506104,
          -0.6476477980613708
         ],
         "y": [
          -0.9188294410705566,
          -0.5391298532485962,
          -0.472226083278656,
          -0.5391298532485962,
          -0.15943026542663574,
          -0.560853123664856,
          -1.3202522993087769,
          -0.9188294410705566,
          -1.1097619533538818,
          -0.15943026542663574,
          -0.560853123664856,
          -1.1097619533538818,
          -1.3202522993087769,
          -1.1097619533538818,
          -0.5548809766769409
         ],
         "z": [
          1.8584915399551392,
          1.8584916591644287,
          1.9295618534088135,
          1.8584916591644287,
          1.8584916591644287,
          1.432070255279541,
          1.4320701360702515,
          1.8584915399551392,
          2.467921257019043,
          1.8584916591644287,
          1.432070255279541,
          2.467921257019043,
          1.4320701360702515,
          2.467921257019043,
          1.233960747718811
         ]
        },
        {
         "marker": {
          "color": "rgba(190, 236, 142, 1.0)",
          "size": 1
         },
         "name": "124",
         "scene": "scene",
         "type": "scatter3d",
         "x": [
          -0.3379279375076294,
          -0.6438567638397217,
          -0.5620825290679932,
          -0.6438567638397217,
          -0.9497857093811035,
          -1.4404312372207642,
          -0.8285734057426453,
          -0.3379279375076294,
          -1.33376944065094,
          -0.9497857093811035,
          -1.4404312372207642,
          -1.33376944065094,
          -0.8285734057426453,
          -1.33376944065094,
          -0.6668846011161804
         ],
         "y": [
          -0.8935431838035583,
          -0.49805933237075806,
          -0.4348023533821106,
          -0.49805933237075806,
          -0.10257542133331299,
          -0.482117235660553,
          -1.2730849981307983,
          -0.8935431838035583,
          -1.0317453145980835,
          -0.10257542133331299,
          -0.482117235660553,
          -1.0317453145980835,
          -1.2730849981307983,
          -1.0317453145980835,
          -0.5158726572990417
         ],
         "z": [
          1.8649424314498901,
          1.8649424314498901,
          1.9352028369903564,
          1.8649424314498901,
          1.8649424314498901,
          1.4433798789978027,
          1.4433798789978027,
          1.8649424314498901,
          2.4812417030334473,
          1.8649424314498901,
          1.4433798789978027,
          2.4812417030334473,
          1.4433798789978027,
          2.4812417030334473,
          1.2406208515167236
         ]
        },
        {
         "marker": {
          "color": "rgba(192, 234, 140, 1.0)",
          "size": 1
         },
         "name": "125",
         "scene": "scene",
         "type": "scatter3d",
         "x": [
          -0.3701245188713074,
          -0.6559052467346191,
          -0.5706214904785156,
          -0.6559052467346191,
          -0.9416860342025757,
          -1.4533886909484863,
          -0.8818271160125732,
          -0.3701245188713074,
          -1.3676347732543945,
          -0.9416860342025757,
          -1.4533886909484863,
          -1.3676347732543945,
          -0.8818271160125732,
          -1.3676347732543945,
          -0.6838175058364868
         ],
         "y": [
          -0.8671510219573975,
          -0.4568713307380676,
          -0.39746683835983276,
          -0.4568713307380676,
          -0.04659169912338257,
          -0.40301865339279175,
          -1.2235779762268066,
          -0.8671510219573975,
          -0.9526273608207703,
          -0.04659169912338257,
          -0.40301865339279175,
          -0.9526273608207703,
          -1.2235779762268066,
          -0.9526273608207703,
          -0.47631359100341797
         ],
         "z": [
          1.8712780475616455,
          1.8712780475616455,
          1.9407243728637695,
          1.8712780475616455,
          1.8712780475616455,
          1.45460045337677,
          1.4546003341674805,
          1.8712780475616455,
          2.4944088459014893,
          1.8712780475616455,
          1.45460045337677,
          2.4944088459014893,
          1.4546003341674805,
          2.4944088459014893,
          1.2472044229507446
         ]
        },
        {
         "marker": {
          "color": "rgba(196, 232, 138, 1.0)",
          "size": 1
         },
         "name": "126",
         "scene": "scene",
         "type": "scatter3d",
         "x": [
          -0.4005162715911865,
          -0.6654344201087952,
          -0.5768283605575562,
          -0.6654344201087952,
          -0.930352509021759,
          -1.4619886875152588,
          -0.932152509689331,
          -0.4005162715911865,
          -1.3968788385391235,
          -0.930352509021759,
          -1.4619886875152588,
          -1.3968788385391235,
          -0.932152509689331,
          -1.3968788385391235,
          -0.698439359664917
         ],
         "y": [
          -0.8397690057754517,
          -0.4157189726829529,
          -0.36036384105682373,
          -0.4157189726829529,
          0.008331060409545898,
          -0.323799729347229,
          -1.171899676322937,
          -0.8397690057754517,
          -0.8726764917373657,
          0.008331060409545898,
          -0.323799729347229,
          -0.8726764917373657,
          -1.171899676322937,
          -0.8726764917373657,
          -0.43633824586868286
         ],
         "z": [
          1.8774982690811157,
          1.8774981498718262,
          1.946126103401184,
          1.8774981498718262,
          1.8774981498718262,
          1.4657310247421265,
          1.465731143951416,
          1.8774982690811157,
          2.5074219703674316,
          1.8774981498718262,
          1.4657310247421265,
          2.5074219703674316,
          1.465731143951416,
          2.5074219703674316,
          1.2537109851837158
         ]
        },
        {
         "marker": {
          "color": "rgba(198, 230, 136, 1.0)",
          "size": 1
         },
         "name": "127",
         "scene": "scene",
         "type": "scatter3d",
         "x": [
          -0.4290851354598999,
          -0.672478437423706,
          -0.5807484984397888,
          -0.672478437423706,
          -0.9158716797828674,
          -1.466251015663147,
          -0.9794645309448242,
          -0.4290851354598999,
          -1.4215022325515747,
          -0.9158716797828674,
          -1.466251015663147,
          -1.4215022325515747,
          -0.9794645309448242,
          -1.4215022325515747,
          -0.7107510566711426
         ],
         "y": [
          -0.8115123510360718,
          -0.3747518062591553,
          -0.3236335515975952,
          -0.3747518062591553,
          0.062008678913116455,
          -0.2447008490562439,
          -1.1182218790054321,
          -0.8115123510360718,
          -0.7921599745750427,
          0.062008678913116455,
          -0.2447008490562439,
          -0.7921599745750427,
          -1.1182218790054321,
          -0.7921599745750427,
          -0.3960798978805542
         ],
         "z": [
          1.8836028575897217,
          1.8836029767990112,
          1.9514081478118896,
          1.8836029767990112,
          1.8836030960083008,
          1.4767718315124512,
          1.476771593093872,
          1.8836028575897217,
          2.5202808380126953,
          1.8836030960083008,
          1.4767718315124512,
          2.5202808380126953,
          1.476771593093872,
          2.5202808380126953,
          1.2601406574249268
         ]
        },
        {
         "marker": {
          "color": "rgba(200, 229, 135, 1.0)",
          "size": 1
         },
         "name": "128",
         "scene": "scene",
         "type": "scatter3d",
         "x": [
          -0.4558197855949402,
          -0.6770798563957214,
          -0.582435131072998,
          -0.6770798563957214,
          -0.8983399271965027,
          -1.4662084579467773,
          -1.0236883163452148,
          -0.4558197855949402,
          -1.4415215253829956,
          -0.8983399271965027,
          -1.4662084579467773,
          -1.4415215253829956,
          -1.0236883163452148,
          -1.4415215253829956,
          -0.7207604646682739
         ],
         "y": [
          -0.78249591588974,
          -0.3341166377067566,
          -0.2874126434326172,
          -0.3341166377067566,
          0.11426258087158203,
          -0.16596144437789917,
          -1.0627199411392212,
          -0.78249591588974,
          -0.7113428711891174,
          0.11426258087158203,
          -0.16596144437789917,
          -0.7113428711891174,
          -1.0627199411392212,
          -0.7113428711891174,
          -0.35567155480384827
         ],
         "z": [
          1.8895907402038574,
          1.889590859413147,
          1.9565691947937012,
          1.889590859413147,
          1.889590859413147,
          1.4877207279205322,
          1.4877206087112427,
          1.8895907402038574,
          2.5329835414886475,
          1.889590859413147,
          1.4877207279205322,
          2.5329835414886475,
          1.4877206087112427,
          2.5329835414886475,
          1.2664918899536133
         ]
        },
        {
         "marker": {
          "color": "rgba(202, 228, 134, 1.0)",
          "size": 1
         },
         "name": "129",
         "scene": "scene",
         "type": "scatter3d",
         "x": [
          -0.48071718215942383,
          -0.6792912483215332,
          -0.5819507241249084,
          -0.6792912483215332,
          -0.877865195274353,
          -1.461908221244812,
          -1.0647602081298828,
          -0.48071718215942383,
          -1.4569692611694336,
          -0.877865195274353,
          -1.461908221244812,
          -1.4569692611694336,
          -1.0647602081298828,
          -1.4569692611694336,
          -0.7284844517707825
         ],
         "y": [
          -0.7528331875801086,
          -0.29395589232444763,
          -0.25183290243148804,
          -0.29395589232444763,
          0.16492140293121338,
          -0.08781665563583374,
          -1.0055712461471558,
          -0.7528331875801086,
          -0.6304873824119568,
          0.16492140293121338,
          -0.08781665563583374,
          -0.6304873824119568,
          -1.0055712461471558,
          -0.6304873824119568,
          -0.3152436912059784
         ],
         "z": [
          1.8954625129699707,
          1.8954625129699707,
          1.961609959602356,
          1.8954625129699707,
          1.8954626321792603,
          1.4985783100128174,
          1.4985781908035278,
          1.8954625129699707,
          2.5455305576324463,
          1.8954626321792603,
          1.4985783100128174,
          2.5455305576324463,
          1.4985781908035278,
          2.5455305576324463,
          1.2727653980255127
         ]
        },
        {
         "marker": {
          "color": "rgba(206, 225, 131, 1.0)",
          "size": 1
         },
         "name": "130",
         "scene": "scene",
         "type": "scatter3d",
         "x": [
          -0.5037802457809448,
          -0.6791718602180481,
          -0.5793642997741699,
          -0.6791718602180481,
          -0.8545634746551514,
          -1.45340895652771,
          -1.1026257276535034,
          -0.5037802457809448,
          -1.4678919315338135,
          -0.8545634746551514,
          -1.45340895652771,
          -1.4678919315338135,
          -1.1026257276535034,
          -1.4678919315338135,
          -0.7339459657669067
         ],
         "y": [
          -0.7226364016532898,
          -0.25440800189971924,
          -0.21702152490615845,
          -0.25440800189971924,
          0.21382039785385132,
          -0.010498523712158203,
          -0.9469552636146545,
          -0.7226364016532898,
          -0.5498511791229248,
          0.21382039785385132,
          -0.010498523712158203,
          -0.5498511791229248,
          -0.9469552636146545,
          -0.5498511791229248,
          -0.2749255895614624
         ],
         "z": [
          1.9012172222137451,
          1.9012172222137451,
          1.9665296077728271,
          1.9012172222137451,
          1.9012172222137451,
          1.5093433856964111,
          1.5093433856964111,
          1.9012172222137451,
          2.557920455932617,
          1.9012172222137451,
          1.5093433856964111,
          2.557920455932617,
          1.5093433856964111,
          2.557920455932617,
          1.2789602279663086
         ]
        },
        {
         "marker": {
          "color": "rgba(208, 223, 130, 1.0)",
          "size": 1
         },
         "name": "131",
         "scene": "scene",
         "type": "scatter3d",
         "x": [
          -0.5250186920166016,
          -0.6767895817756653,
          -0.5747525691986084,
          -0.6767895817756653,
          -0.828560471534729,
          -1.4407824277877808,
          -1.1372406482696533,
          -0.5250186920166016,
          -1.4743506908416748,
          -0.828560471534729,
          -1.4407824277877808,
          -1.4743506908416748,
          -1.1372406482696533,
          -1.4743506908416748,
          -0.737175464630127
         ],
         "y": [
          -0.6920153498649597,
          -0.21560627222061157,
          -0.18310007452964783,
          -0.21560627222061157,
          0.2608028054237366,
          0.0657656192779541,
          -0.8870525360107422,
          -0.6920153498649597,
          -0.469687283039093,
          0.2608028054237366,
          0.0657656192779541,
          -0.469687283039093,
          -0.8870525360107422,
          -0.469687283039093,
          -0.2348436564207077
         ],
         "z": [
          1.906854510307312,
          1.9068543910980225,
          1.9713276624679565,
          1.9068543910980225,
          1.9068543910980225,
          1.520015001296997,
          1.5200151205062866,
          1.906854510307312,
          2.5701522827148438,
          1.9068543910980225,
          1.520015001296997,
          2.5701522827148438,
          1.5200151205062866,
          2.5701522827148438,
          1.2850760221481323
         ]
        },
        {
         "marker": {
          "color": "rgba(210, 222, 128, 1.0)",
          "size": 1
         },
         "name": "132",
         "scene": "scene",
         "type": "scatter3d",
         "x": [
          -0.5444486141204834,
          -0.6722190380096436,
          -0.568198561668396,
          -0.6722190380096436,
          -0.7999894618988037,
          -1.4241122007369995,
          -1.1685713529586792,
          -0.5444486141204834,
          -1.4764208793640137,
          -0.7999894618988037,
          -1.4241122007369995,
          -1.4764208793640137,
          -1.1685713529586792,
          -1.4764208793640137,
          -0.7382102012634277
         ],
         "y": [
          -0.661078155040741,
          -0.17767904698848724,
          -0.15018470585346222,
          -0.17767904698848724,
          0.3057200312614441,
          0.14075404405593872,
          -0.8260441422462463,
          -0.661078155040741,
          -0.3902429938316345,
          0.3057200312614441,
          0.14075404405593872,
          -0.3902429938316345,
          -0.8260441422462463,
          -0.3902429938316345,
          -0.19512158632278442
         ],
         "z": [
          1.91237473487854,
          1.91237473487854,
          1.9760048389434814,
          1.91237473487854,
          1.91237473487854,
          1.5305936336517334,
          1.5305935144424438,
          1.91237473487854,
          2.582226037979126,
          1.91237473487854,
          1.5305936336517334,
          2.582226037979126,
          1.5305935144424438,
          2.582226037979126,
          1.2911131381988525
         ]
        },
        {
         "marker": {
          "color": "rgba(214, 219, 126, 1.0)",
          "size": 1
         },
         "name": "133",
         "scene": "scene",
         "type": "scatter3d",
         "x": [
          -0.562092661857605,
          -0.6655436158180237,
          -0.5597932934761047,
          -0.6655436158180237,
          -0.7689945697784424,
          -1.403496503829956,
          -1.196594476699829,
          -0.562092661857605,
          -1.4741919040679932,
          -0.7689945697784424,
          -1.403496503829956,
          -1.4741919040679932,
          -1.196594476699829,
          -1.4741919040679932,
          -0.7370958924293518
         ],
         "y": [
          -0.629928708076477,
          -0.14074790477752686,
          -0.11838403344154358,
          -0.14074790477752686,
          0.34843289852142334,
          0.21424978971481323,
          -0.7641118764877319,
          -0.629928708076477,
          -0.31175917387008667,
          0.34843289852142334,
          0.21424978971481323,
          -0.31175917387008667,
          -0.7641118764877319,
          -0.31175917387008667,
          -0.15587963163852692
         ],
         "z": [
          1.917776346206665,
          1.917776346206665,
          1.9805595874786377,
          1.917776346206665,
          1.917776346206665,
          1.5410772562026978,
          1.5410772562026978,
          1.917776346206665,
          2.5941402912139893,
          1.917776346206665,
          1.5410772562026978,
          2.5941402912139893,
          1.5410772562026978,
          2.5941402912139893,
          1.297070026397705
         ]
        },
        {
         "marker": {
          "color": "rgba(216, 217, 124, 1.0)",
          "size": 1
         },
         "name": "134",
         "scene": "scene",
         "type": "scatter3d",
         "x": [
          -0.577979326248169,
          -0.656852126121521,
          -0.5496325492858887,
          -0.656852126121521,
          -0.7357248067855835,
          -1.3790417909622192,
          -1.2212963104248047,
          -0.577979326248169,
          -1.4677660465240479,
          -0.7357248067855835,
          -1.3790417909622192,
          -1.4677660465240479,
          -1.2212963104248047,
          -1.4677660465240479,
          -0.7338828444480896
         ],
         "y": [
          -0.5986692905426025,
          -0.10492943227291107,
          -0.08780159056186676,
          -0.10492943227291107,
          0.3888104557991028,
          0.2860434651374817,
          -0.7014362215995789,
          -0.5986692905426025,
          -0.23446936905384064,
          0.3888104557991028,
          0.2860434651374817,
          -0.23446936905384064,
          -0.7014362215995789,
          -0.23446936905384064,
          -0.11723468452692032
         ],
         "z": [
          1.9230601787567139,
          1.9230601787567139,
          1.984992504119873,
          1.9230601787567139,
          1.9230601787567139,
          1.5514662265777588,
          1.5514659881591797,
          1.9230601787567139,
          2.6058945655822754,
          1.9230601787567139,
          1.5514662265777588,
          2.6058945655822754,
          1.5514659881591797,
          2.6058945655822754,
          1.3029474020004272
         ]
        },
        {
         "marker": {
          "color": "rgba(218, 215, 123, 1.0)",
          "size": 1
         },
         "name": "135",
         "scene": "scene",
         "type": "scatter3d",
         "x": [
          -0.5921431183815002,
          -0.6462405920028687,
          -0.5378187894821167,
          -0.6462405920028687,
          -0.7003380060195923,
          -1.350868582725525,
          -1.242673635482788,
          -0.5921431183815002,
          -1.4572588205337524,
          -0.7003380060195923,
          -1.350868582725525,
          -1.4572588205337524,
          -1.242673635482788,
          -1.4572588205337524,
          -0.7286293506622314
         ],
         "y": [
          -0.567397952079773,
          -0.0703330934047699,
          -0.05853314697742462,
          -0.0703330934047699,
          0.42673173546791077,
          0.3559320867061615,
          -0.6381975412368774,
          -0.567397952079773,
          -0.1585993468761444,
          0.42673173546791077,
          0.3559320867061615,
          -0.1585993468761444,
          -0.6381975412368774,
          -0.1585993468761444,
          -0.07929970324039459
         ],
         "z": [
          1.928225040435791,
          1.928225040435791,
          1.9893027544021606,
          1.928225040435791,
          1.9282251596450806,
          1.561759114265442,
          1.5617589950561523,
          1.928225040435791,
          2.617488145828247,
          1.9282251596450806,
          1.561759114265442,
          2.617488145828247,
          1.5617589950561523,
          2.617488145828247,
          1.3087440729141235
         ]
        },
        {
         "marker": {
          "color": "rgba(220, 214, 122, 1.0)",
          "size": 1
         },
         "name": "136",
         "scene": "scene",
         "type": "scatter3d",
         "x": [
          -0.6046225428581238,
          -0.6338095664978027,
          -0.5244580507278442,
          -0.6338095664978027,
          -0.6629966497421265,
          -1.319105863571167,
          -1.260731816291809,
          -0.6046225428581238,
          -1.4427963495254517,
          -0.6629966497421265,
          -1.319105863571167,
          -1.4427963495254517,
          -1.260731816291809,
          -1.4427963495254517,
          -0.7213981747627258
         ],
         "y": [
          -0.5362086296081543,
          -0.03706129640340805,
          -0.030667100101709366,
          -0.03706129640340805,
          0.46208611130714417,
          0.42372092604637146,
          -0.5745738744735718,
          -0.5362086296081543,
          -0.08436587452888489,
          0.46208611130714417,
          0.42372092604637146,
          -0.08436587452888489,
          -0.5745738744735718,
          -0.08436587452888489,
          -0.04218288138508797
         ],
         "z": [
          1.9332709312438965,
          1.9332709312438965,
          1.993490219116211,
          1.9332709312438965,
          1.933271050453186,
          1.5719558000564575,
          1.571955680847168,
          1.9332709312438965,
          2.628920078277588,
          1.933271050453186,
          1.5719558000564575,
          2.628920078277588,
          1.571955680847168,
          2.628920078277588,
          1.314460039138794
         ]
        },
        {
         "marker": {
          "color": "rgba(224, 210, 119, 1.0)",
          "size": 1
         },
         "name": "137",
         "scene": "scene",
         "type": "scatter3d",
         "x": [
          -0.6154636144638062,
          -0.6196671724319458,
          -0.5096632242202759,
          -0.6196671724319458,
          -0.6238707304000854,
          -1.2838947772979736,
          -1.2754876613616943,
          -0.6154636144638062,
          -1.4245188236236572,
          -0.6238707304000854,
          -1.2838947772979736,
          -1.4245188236236572,
          -1.2754876613616943,
          -1.4245188236236572,
          -0.7122594118118286
         ],
         "y": [
          -0.5051922798156738,
          -0.005209990777075291,
          -0.004285145550966263,
          -0.005209990777075291,
          0.4947723150253296,
          0.4892232418060303,
          -0.5107413530349731,
          -0.5051922798156738,
          -0.011976705864071846,
          0.4947723150253296,
          0.4892232418060303,
          -0.011976705864071846,
          -0.5107413530349731,
          -0.011976705864071846,
          -0.0059884353540837765
         ],
         "z": [
          1.9381978511810303,
          1.9381978511810303,
          1.9975550174713135,
          1.9381978511810303,
          1.9381979703903198,
          1.582055687904358,
          1.5820555686950684,
          1.9381978511810303,
          2.6401901245117188,
          1.9381979703903198,
          1.582055687904358,
          2.6401901245117188,
          1.5820555686950684,
          2.6401901245117188,
          1.3200950622558594
         ]
        },
        {
         "marker": {
          "color": "rgba(226, 209, 117, 1.0)",
          "size": 1
         },
         "name": "138",
         "scene": "scene",
         "type": "scatter3d",
         "x": [
          -0.6247149705886841,
          -0.6039246916770935,
          -0.4935495853424072,
          -0.6039246916770935,
          -0.5831344127655029,
          -1.2453852891921997,
          -1.2869658470153809,
          -0.6247149705886841,
          -1.4025752544403076,
          -0.5831344127655029,
          -1.2453852891921997,
          -1.4025752544403076,
          -1.2869658470153809,
          -1.4025752544403076,
          -0.701287567615509
         ],
         "y": [
          -0.4744342267513275,
          0.025133363902568817,
          0.02053993195295334,
          0.025133363902568817,
          0.5247008800506592,
          0.5522615313529968,
          -0.44687357544898987,
          -0.4744342267513275,
          0.058370497077703476,
          0.5247008800506592,
          0.5522615313529968,
          0.058370497077703476,
          -0.44687357544898987,
          0.058370497077703476,
          0.02918524667620659
         ],
         "z": [
          1.943004846572876,
          1.943004846572876,
          2.0014960765838623,
          1.943004846572876,
          1.943004846572876,
          1.592057466506958,
          1.592057466506958,
          1.943004846572876,
          2.651296854019165,
          1.943004846572876,
          1.592057466506958,
          2.651296854019165,
          1.592057466506958,
          2.651296854019165,
          1.3256484270095825
         ]
        },
        {
         "marker": {
          "color": "rgba(228, 207, 116, 1.0)",
          "size": 1
         },
         "name": "139",
         "scene": "scene",
         "type": "scatter3d",
         "x": [
          -0.6324313879013062,
          -0.5866991281509399,
          -0.476237416267395,
          -0.5866991281509399,
          -0.5409668684005737,
          -1.2037372589111328,
          -1.2952016592025757,
          -0.6324313879013062,
          -1.3771263360977173,
          -0.5409668684005737,
          -1.2037372589111328,
          -1.3771263360977173,
          -1.2952016592025757,
          -1.3771263360977173,
          -0.6885632872581482
         ],
         "y": [
          -0.4440159797668457,
          0.053888216614723206,
          0.04374237358570099,
          0.053888216614723206,
          0.5517923831939697,
          0.612667441368103,
          -0.3831409215927124,
          -0.4440159797668457,
          0.1264885663986206,
          0.5517923831939697,
          0.612667441368103,
          0.1264885663986206,
          -0.3831409215927124,
          0.1264885663986206,
          0.06324434280395508
         ],
         "z": [
          1.9476923942565918,
          1.9476923942565918,
          2.0053141117095947,
          1.9476923942565918,
          1.9476923942565918,
          1.601961612701416,
          1.601961612701416,
          1.9476923942565918,
          2.662240505218506,
          1.9476923942565918,
          1.601961612701416,
          2.662240505218506,
          1.601961612701416,
          2.662240505218506,
          1.331120252609253
         ]
        },
        {
         "marker": {
          "color": "rgba(232, 203, 113, 1.0)",
          "size": 1
         },
         "name": "140",
         "scene": "scene",
         "type": "scatter3d",
         "x": [
          -0.638670802116394,
          -0.5681107640266418,
          -0.45784956216812134,
          -0.5681107640266418,
          -0.49755072593688965,
          -1.1591179370880127,
          -1.3002381324768066,
          -0.638670802116394,
          -1.3483415842056274,
          -0.49755072593688965,
          -1.1591179370880127,
          -1.3483415842056274,
          -1.3002381324768066,
          -1.3483415842056274,
          -0.6741707921028137
         ],
         "y": [
          -0.4140140414237976,
          0.08098214864730835,
          0.06526477634906769,
          0.08098214864730835,
          0.5759783387184143,
          0.6702825427055359,
          -0.319709837436676,
          -0.4140140414237976,
          0.1922013908624649,
          0.5759783387184143,
          0.6702825427055359,
          0.1922013908624649,
          -0.319709837436676,
          0.1922013908624649,
          0.09610068798065186
         ],
         "z": [
          1.9522595405578613,
          1.9522595405578613,
          2.0090084075927734,
          1.9522595405578613,
          1.9522595405578613,
          1.6117666959762573,
          1.6117665767669678,
          1.9522595405578613,
          2.6730196475982666,
          1.9522595405578613,
          1.6117666959762573,
          2.6730196475982666,
          1.6117665767669678,
          2.6730196475982666,
          1.3365098237991333
         ]
        },
        {
         "marker": {
          "color": "rgba(234, 201, 112, 1.0)",
          "size": 1
         },
         "name": "141",
         "scene": "scene",
         "type": "scatter3d",
         "x": [
          -0.6434950828552246,
          -0.5482837557792664,
          -0.4385117292404175,
          -0.5482837557792664,
          -0.4530724287033081,
          -1.111704707145691,
          -1.302127480506897,
          -0.6434950828552246,
          -1.3163998126983643,
          -0.4530724287033081,
          -1.111704707145691,
          -1.3163998126983643,
          -1.302127480506897,
          -1.3163998126983643,
          -0.6581999659538269
         ],
         "y": [
          -0.3844994306564331,
          0.10635170340538025,
          0.08505898714065552,
          0.10635170340538025,
          0.5972027778625488,
          0.7249590158462524,
          -0.2567431926727295,
          -0.3844994306564331,
          0.2553446292877197,
          0.5972027778625488,
          0.7249590158462524,
          0.2553446292877197,
          -0.2567431926727295,
          0.2553446292877197,
          0.12767237424850464
         ],
         "z": [
          1.956706166267395,
          1.956706166267395,
          2.0125784873962402,
          1.956706166267395,
          1.9567062854766846,
          1.6214722394943237,
          1.6214722394943237,
          1.956706166267395,
          2.683633804321289,
          1.9567062854766846,
          1.6214722394943237,
          2.683633804321289,
          1.6214722394943237,
          2.683633804321289,
          1.3418169021606445
         ]
        },
        {
         "marker": {
          "color": "rgba(236, 199, 110, 1.0)",
          "size": 1
         },
         "name": "142",
         "scene": "scene",
         "type": "scatter3d",
         "x": [
          -0.6469697952270508,
          -0.5273450613021851,
          -0.4183516502380371,
          -0.5273450613021851,
          -0.4077202081680298,
          -1.061680555343628,
          -1.300930142402649,
          -0.6469697952270508,
          -1.2814877033233643,
          -0.4077202081680298,
          -1.061680555343628,
          -1.2814877033233643,
          -1.300930142402649,
          -1.2814877033233643,
          -0.6407439112663269
         ],
         "y": [
          -0.35553863644599915,
          0.12994042038917542,
          0.10308381915092468,
          0.12994042038917542,
          0.6154193878173828,
          0.7765589952468872,
          -0.19439902901649475,
          -0.35553863644599915,
          0.31576547026634216,
          0.6154193878173828,
          0.7765589952468872,
          0.31576547026634216,
          -0.19439902901649475,
          0.31576547026634216,
          0.15788255631923676
         ],
         "z": [
          1.9610323905944824,
          1.9610323905944824,
          2.0160248279571533,
          1.9610323905944824,
          1.9610323905944824,
          1.6310780048370361,
          1.6310780048370361,
          1.9610323905944824,
          2.694082736968994,
          1.9610323905944824,
          1.6310780048370361,
          2.694082736968994,
          1.6310780048370361,
          2.694082736968994,
          1.347041368484497
         ]
        },
        {
         "marker": {
          "color": "rgba(238, 197, 109, 1.0)",
          "size": 1
         },
         "name": "143",
         "scene": "scene",
         "type": "scatter3d",
         "x": [
          -0.6491628885269165,
          -0.5054236650466919,
          -0.3974984884262085,
          -0.5054236650466919,
          -0.36168450117111206,
          -1.0092359781265259,
          -1.2967143058776855,
          -0.6491628885269165,
          -1.2437993288040161,
          -0.36168450117111206,
          -1.0092359781265259,
          -1.2437993288040161,
          -1.2967143058776855,
          -1.2437993288040161,
          -0.6218994855880737
         ],
         "y": [
          -0.32719171047210693,
          0.15170180797576904,
          0.11930820345878601,
          0.15170180797576904,
          0.630595326423645,
          0.824957013130188,
          -0.13283002376556396,
          -0.32719171047210693,
          0.37332403659820557,
          0.630595326423645,
          0.824957013130188,
          0.37332403659820557,
          -0.13283002376556396,
          0.37332403659820557,
          0.18666192889213562
         ],
         "z": [
          1.9652371406555176,
          1.9652371406555176,
          2.019346237182617,
          1.9652371406555176,
          1.9652373790740967,
          1.640582799911499,
          1.64058256149292,
          1.9652371406555176,
          2.7043650150299072,
          1.9652373790740967,
          1.640582799911499,
          2.7043650150299072,
          1.64058256149292,
          2.7043650150299072,
          1.352182388305664
         ]
        },
        {
         "marker": {
          "color": "rgba(242, 193, 106, 1.0)",
          "size": 1
         },
         "name": "144",
         "scene": "scene",
         "type": "scatter3d",
         "x": [
          -0.6501460075378418,
          -0.48265182971954346,
          -0.37608325481414795,
          -0.48265182971954346,
          -0.3151576519012451,
          -0.9545687437057495,
          -1.2895570993423462,
          -0.6501460075378418,
          -1.2035361528396606,
          -0.3151576519012451,
          -0.9545687437057495,
          -1.2035361528396606,
          -1.2895570993423462,
          -1.2035361528396606,
          -0.6017679572105408
         ],
         "y": [
          -0.29951414465904236,
          0.1715969443321228,
          0.1337086260318756,
          0.1715969443321228,
          0.6427080035209656,
          0.8700379133224487,
          -0.0721842348575592,
          -0.29951414465904236,
          0.4278930127620697,
          0.6427080035209656,
          0.8700379133224487,
          0.4278930127620697,
          -0.0721842348575592,
          0.4278930127620697,
          0.21394631266593933
         ],
         "z": [
          1.9693210124969482,
          1.9693210124969482,
          2.022543430328369,
          1.9693210124969482,
          1.9693211317062378,
          1.6499865055084229,
          1.6499865055084229,
          1.9693210124969482,
          2.7144808769226074,
          1.9693211317062378,
          1.6499865055084229,
          2.7144808769226074,
          1.6499865055084229,
          2.7144808769226074,
          1.3572403192520142
         ]
        },
        {
         "marker": {
          "color": "rgba(244, 191, 105, 1.0)",
          "size": 1
         },
         "name": "145",
         "scene": "scene",
         "type": "scatter3d",
         "x": [
          -0.6499921083450317,
          -0.45916152000427246,
          -0.3542367219924927,
          -0.45916152000427246,
          -0.26833099126815796,
          -0.8978800773620605,
          -1.279541254043579,
          -0.6499921083450317,
          -1.1609044075012207,
          -0.26833099126815796,
          -0.8978800773620605,
          -1.1609044075012207,
          -1.279541254043579,
          -1.1609044075012207,
          -0.5804519653320312
         ],
         "y": [
          -0.27255499362945557,
          0.18959611654281616,
          0.146270751953125,
          0.18959611654281616,
          0.6517472267150879,
          0.9116994142532349,
          -0.01260286569595337,
          -0.27255499362945557,
          0.4793582558631897,
          0.6517472267150879,
          0.9116994142532349,
          0.4793582558631897,
          -0.01260286569595337,
          0.4793582558631897,
          0.23967915773391724
         ],
         "z": [
          1.9732838869094849,
          1.9732840061187744,
          2.025616407394409,
          1.9732840061187744,
          1.9732840061187744,
          1.6592891216278076,
          1.659289002418518,
          1.9732838869094849,
          2.7244296073913574,
          1.9732840061187744,
          1.6592891216278076,
          2.7244296073913574,
          1.659289002418518,
          2.7244296073913574,
          1.3622149229049683
         ]
        },
        {
         "marker": {
          "color": "rgba(246, 189, 103, 1.0)",
          "size": 1
         },
         "name": "146",
         "scene": "scene",
         "type": "scatter3d",
         "x": [
          -0.6487773060798645,
          -0.4350872039794922,
          -0.33209049701690674,
          -0.4350872039794922,
          -0.22139716148376465,
          -0.8393776416778564,
          -1.2667577266693115,
          -0.6487773060798645,
          -1.1161161661148071,
          -0.22139716148376465,
          -0.8393776416778564,
          -1.1161161661148071,
          -1.2667577266693115,
          -1.1161161661148071,
          -0.5580581426620483
         ],
         "y": [
          -0.24635851383209229,
          0.20567741990089417,
          0.1569879651069641,
          0.20567741990089417,
          0.6577133536338806,
          0.9498500823974609,
          0.04577821493148804,
          -0.24635851383209229,
          0.527618944644928,
          0.6577133536338806,
          0.9498500823974609,
          0.527618944644928,
          0.04577821493148804,
          0.527618944644928,
          0.2638091742992401
         ],
         "z": [
          1.9771244525909424,
          1.9771244525909424,
          2.0285637378692627,
          1.9771244525909424,
          1.9771244525909424,
          1.668488621711731,
          1.668488621711731,
          1.9771244525909424,
          2.7342097759246826,
          1.9771244525909424,
          1.668488621711731,
          2.7342097759246826,
          1.668488621711731,
          2.7342097759246826,
          1.3671048879623413
         ]
        },
        {
         "marker": {
          "color": "rgba(250, 185, 100, 1.0)",
          "size": 1
         },
         "name": "147",
         "scene": "scene",
         "type": "scatter3d",
         "x": [
          -0.6465765237808228,
          -0.4105612635612488,
          -0.3097735643386841,
          -0.4105612635612488,
          -0.1745460033416748,
          -0.7792720198631287,
          -1.2513025999069214,
          -0.6465765237808228,
          -1.06938636302948,
          -0.1745460033416748,
          -0.7792720198631287,
          -1.06938636302948,
          -1.2513025999069214,
          -1.06938636302948,
          -0.5346932411193848
         ],
         "y": [
          -0.2209620475769043,
          0.2198290228843689,
          0.16586369276046753,
          0.2198290228843689,
          0.6606200933456421,
          0.9844119548797607,
          0.10282975435256958,
          -0.2209620475769043,
          0.5725875496864319,
          0.6606200933456421,
          0.9844119548797607,
          0.5725875496864319,
          0.10282975435256958,
          0.5725875496864319,
          0.286293625831604
         ],
         "z": [
          1.9808430671691895,
          1.9808430671691895,
          2.031385898590088,
          1.9808430671691895,
          1.9808430671691895,
          1.6775853633880615,
          1.6775853633880615,
          1.9808430671691895,
          2.743821382522583,
          1.9808430671691895,
          1.6775853633880615,
          2.743821382522583,
          1.6775853633880615,
          2.743821382522583,
          1.371910572052002
         ]
        },
        {
         "marker": {
          "color": "rgba(252, 183, 99, 1.0)",
          "size": 1
         },
         "name": "148",
         "scene": "scene",
         "type": "scatter3d",
         "x": [
          -0.6434687376022339,
          -0.3857179880142212,
          -0.2874162793159485,
          -0.3857179880142212,
          -0.1279672384262085,
          -0.7177776098251343,
          -1.2332791090011597,
          -0.6434687376022339,
          -1.020934820175171,
          -0.1279672384262085,
          -0.7177776098251343,
          -1.020934820175171,
          -1.2332791090011597,
          -1.020934820175171,
          -0.5104673504829407
         ],
         "y": [
          -0.196397602558136,
          0.23204678297042847,
          0.17290878295898438,
          0.23204678297042847,
          0.6604911684989929,
          1.0153191089630127,
          0.158430278301239,
          -0.196397602558136,
          0.614190936088562,
          0.6604911684989929,
          1.0153191089630127,
          0.614190936088562,
          0.158430278301239,
          0.614190936088562,
          0.30709561705589294
         ],
         "z": [
          1.9844398498535156,
          1.9844398498535156,
          2.034083366394043,
          1.9844398498535156,
          1.9844398498535156,
          1.6865788698196411,
          1.6865788698196411,
          1.9844398498535156,
          2.7532639503479004,
          1.9844398498535156,
          1.6865788698196411,
          2.7532639503479004,
          1.6865788698196411,
          2.7532639503479004,
          1.3766320943832397
         ]
        },
        {
         "marker": {
          "color": "rgba(254, 180, 97, 1.0)",
          "size": 1
         },
         "name": "149",
         "scene": "scene",
         "type": "scatter3d",
         "x": [
          -0.6395317316055298,
          -0.3606898784637451,
          -0.26514601707458496,
          -0.3606898784637451,
          -0.0818479061126709,
          -0.6551112532615662,
          -1.2127950191497803,
          -0.6395317316055298,
          -0.9709823131561279,
          -0.0818479061126709,
          -0.6551112532615662,
          -0.9709823131561279,
          -1.2127950191497803,
          -0.9709823131561279,
          -0.4854910969734192
         ],
         "y": [
          -0.17269176244735718,
          0.24233496189117432,
          0.17814236879348755,
          0.24233496189117432,
          0.6573616862297058,
          1.0425171852111816,
          0.21246367692947388,
          -0.17269176244735718,
          0.6523689031600952,
          0.6573616862297058,
          1.0425171852111816,
          0.6523689031600952,
          0.21246367692947388,
          0.6523689031600952,
          0.32618454098701477
         ],
         "z": [
          1.9879134893417358,
          1.9879134893417358,
          2.036654472351074,
          1.9879134893417358,
          1.9879136085510254,
          1.6954678297042847,
          1.6954677104949951,
          1.9879134893417358,
          2.76253604888916,
          1.9879136085510254,
          1.6954678297042847,
          2.76253604888916,
          1.6954677104949951,
          2.76253604888916,
          1.38126802444458
         ]
        },
        {
         "marker": {
          "color": "rgba(255, 178, 96, 1.0)",
          "size": 1
         },
         "name": "150",
         "scene": "scene",
         "type": "scatter3d",
         "x": [
          -0.6348451375961304,
          -0.33560895919799805,
          -0.24308902025222778,
          -0.33560895919799805,
          -0.03637272119522095,
          -0.5914925336837769,
          -1.189965009689331,
          -0.6348451375961304,
          -0.9197532534599304,
          -0.03637272119522095,
          -0.5914925336837769,
          -0.9197532534599304,
          -1.189965009689331,
          -0.9197532534599304,
          -0.4598766565322876
         ],
         "y": [
          -0.14986461400985718,
          0.2507070302963257,
          0.18159246444702148,
          0.2507070302963257,
          0.6512786746025085,
          1.0659658908843994,
          0.26482266187667847,
          -0.14986461400985718,
          0.6870761513710022,
          0.6512786746025085,
          1.0659658908843994,
          0.6870761513710022,
          0.26482266187667847,
          0.6870761513710022,
          0.3435378968715668
         ],
         "z": [
          1.9912651777267456,
          1.9912652969360352,
          2.0391006469726562,
          1.9912652969360352,
          1.9912652969360352,
          1.7042527198791504,
          1.7042526006698608,
          1.9912651777267456,
          2.7716383934020996,
          1.9912652969360352,
          1.7042527198791504,
          2.7716383934020996,
          1.7042526006698608,
          2.7716383934020996,
          1.3858191967010498
         ]
        },
        {
         "marker": {
          "color": "rgba(255, 174, 93, 1.0)",
          "size": 1
         },
         "name": "151",
         "scene": "scene",
         "type": "scatter3d",
         "x": [
          -0.629486083984375,
          -0.31060361862182617,
          -0.22136688232421875,
          -0.31060361862182617,
          0.008278846740722656,
          -0.5271415710449219,
          -1.1649065017700195,
          -0.629486083984375,
          -0.8674705624580383,
          0.008278846740722656,
          -0.5271415710449219,
          -0.8674705624580383,
          -1.1649065017700195,
          -0.8674705624580383,
          -0.4337354600429535
         ],
         "y": [
          -0.12793093919754028,
          0.2571847140789032,
          0.1832951307296753,
          0.2571847140789032,
          0.6423003077507019,
          1.0856378078460693,
          0.31540656089782715,
          -0.12793093919754028,
          0.7182803750038147,
          0.6423003077507019,
          1.0856378078460693,
          0.7182803750038147,
          0.31540656089782715,
          0.7182803750038147,
          0.35913997888565063
         ],
         "z": [
          1.9944943189620972,
          1.9944941997528076,
          2.0414211750030518,
          1.9944941997528076,
          1.9944941997528076,
          1.7129324674606323,
          1.7129325866699219,
          1.9944943189620972,
          2.7805700302124023,
          1.9944941997528076,
          1.7129324674606323,
          2.7805700302124023,
          1.7129325866699219,
          2.7805700302124023,
          1.3902850151062012
         ]
        },
        {
         "marker": {
          "color": "rgba(255, 171, 92, 1.0)",
          "size": 1
         },
         "name": "152",
         "scene": "scene",
         "type": "scatter3d",
         "x": [
          -0.6235330104827881,
          -0.2858014702796936,
          -0.20010006427764893,
          -0.2858014702796936,
          0.051930129528045654,
          -0.46227818727493286,
          -1.1377413272857666,
          -0.6235330104827881,
          -0.8143582940101624,
          0.051930129528045654,
          -0.46227818727493286,
          -0.8143582940101624,
          -1.1377413272857666,
          -0.8143582940101624,
          -0.40717923641204834
         ],
         "y": [
          -0.10689884424209595,
          0.2617979049682617,
          0.1832941770553589,
          0.2617979049682617,
          0.6304945945739746,
          1.1015169620513916,
          0.36412349343299866,
          -0.10689884424209595,
          0.7459636330604553,
          0.6304945945739746,
          1.1015169620513916,
          0.7459636330604553,
          0.36412349343299866,
          0.7459636330604553,
          0.3729817867279053
         ],
         "z": [
          1.997599720954895,
          1.997599720954895,
          2.0436153411865234,
          1.997599720954895,
          1.997599720954895,
          1.7215063571929932,
          1.7215063571929932,
          1.997599720954895,
          2.7893295288085938,
          1.997599720954895,
          1.7215063571929932,
          2.7893295288085938,
          1.7215063571929932,
          2.7893295288085938,
          1.3946647644042969
         ]
        },
        {
         "marker": {
          "color": "rgba(255, 169, 90, 1.0)",
          "size": 1
         },
         "name": "153",
         "scene": "scene",
         "type": "scatter3d",
         "x": [
          -0.617063045501709,
          -0.26132631301879883,
          -0.17940407991409302,
          -0.26132631301879883,
          0.0944104790687561,
          -0.39712268114089966,
          -1.1085962057113647,
          -0.617063045501709,
          -0.7606393694877625,
          0.0944104790687561,
          -0.39712268114089966,
          -0.7606393694877625,
          -1.1085962057113647,
          -0.7606393694877625,
          -0.38031959533691406
         ],
         "y": [
          -0.08677244186401367,
          0.26458412408828735,
          0.18164056539535522,
          0.26458412408828735,
          0.6159405708312988,
          1.1136016845703125,
          0.4108886420726776,
          -0.08677244186401367,
          0.7701218724250793,
          0.6159405708312988,
          1.1136016845703125,
          0.7701218724250793,
          0.4108886420726776,
          0.7701218724250793,
          0.38506099581718445
         ],
         "z": [
          2.000581741333008,
          2.000581741333008,
          2.0456833839416504,
          2.000581741333008,
          2.000581979751587,
          1.7299737930297852,
          1.7299736738204956,
          2.000581741333008,
          2.797916889190674,
          2.000581979751587,
          1.7299737930297852,
          2.797916889190674,
          1.7299736738204956,
          2.797916889190674,
          1.3989583253860474
         ]
        },
        {
         "marker": {
          "color": "rgba(255, 164, 87, 1.0)",
          "size": 1
         },
         "name": "154",
         "scene": "scene",
         "type": "scatter3d",
         "x": [
          -0.610152542591095,
          -0.23729979991912842,
          -0.15939182043075562,
          -0.23729979991912842,
          0.13555294275283813,
          -0.3318948745727539,
          -1.0776004791259766,
          -0.610152542591095,
          -0.7065355181694031,
          0.13555294275283813,
          -0.3318948745727539,
          -0.7065355181694031,
          -1.0776004791259766,
          -0.7065355181694031,
          -0.3532678186893463
         ],
         "y": [
          -0.06754928827285767,
          0.2655887007713318,
          0.17839306592941284,
          0.2655887007713318,
          0.5987266898155212,
          1.121901035308838,
          0.455625057220459,
          -0.06754928827285767,
          0.7907640337944031,
          0.5987266898155212,
          1.121901035308838,
          0.7907640337944031,
          0.455625057220459,
          0.7907640337944031,
          0.3953818082809448
         ],
         "z": [
          2.003441333770752,
          2.003441333770752,
          2.0476255416870117,
          2.003441333770752,
          2.003441333770752,
          1.7383350133895874,
          1.7383350133895874,
          2.003441333770752,
          2.8063321113586426,
          2.003441333770752,
          1.7383350133895874,
          2.8063321113586426,
          1.7383350133895874,
          2.8063321113586426,
          1.4031660556793213
         ]
        },
        {
         "marker": {
          "color": "rgba(255, 162, 86, 1.0)",
          "size": 1
         },
         "name": "155",
         "scene": "scene",
         "type": "scatter3d",
         "x": [
          -0.6028749346733093,
          -0.21383818984031677,
          -0.14016985893249512,
          -0.21383818984031677,
          0.17519855499267578,
          -0.2668116092681885,
          -1.0448851585388184,
          -0.6028749346733093,
          -0.6522649526596069,
          0.17519855499267578,
          -0.2668116092681885,
          -0.6522649526596069,
          -1.0448851585388184,
          -0.6522649526596069,
          -0.3261324167251587
         ],
         "y": [
          -0.049221158027648926,
          0.264865517616272,
          0.17361783981323242,
          0.264865517616272,
          0.5789523124694824,
          1.1264386177062988,
          0.4982651174068451,
          -0.049221158027648926,
          0.8079131841659546,
          0.5789523124694824,
          1.1264386177062988,
          0.8079131841659546,
          0.4982651174068451,
          0.8079131841659546,
          0.40395647287368774
         ],
         "z": [
          2.006176471710205,
          2.006176471710205,
          2.049441337585449,
          2.006176471710205,
          2.006176471710205,
          1.7465887069702148,
          1.7465887069702148,
          2.006176471710205,
          2.8145740032196045,
          2.006176471710205,
          1.7465887069702148,
          2.8145740032196045,
          1.7465887069702148,
          2.8145740032196045,
          1.4072870016098022
         ]
        },
        {
         "marker": {
          "color": "rgba(255, 159, 84, 1.0)",
          "size": 1
         },
         "name": "156",
         "scene": "scene",
         "type": "scatter3d",
         "x": [
          -0.5953026413917542,
          -0.19105437397956848,
          -0.1218407154083252,
          -0.19105437397956848,
          0.2131938934326172,
          -0.2020881474018097,
          -1.0105847120285034,
          -0.5953026413917542,
          -0.5980429649353027,
          0.2131938934326172,
          -0.2020881474018097,
          -0.5980429649353027,
          -1.0105847120285034,
          -0.5980429649353027,
          -0.2990216016769409
         ],
         "y": [
          -0.031775832176208496,
          0.2624747157096863,
          0.16738736629486084,
          0.2624747157096863,
          0.556725263595581,
          1.1272493600845337,
          0.5387482643127441,
          -0.031775832176208496,
          0.8216051459312439,
          0.556725263595581,
          1.1272493600845337,
          0.8216051459312439,
          0.5387482643127441,
          0.8216051459312439,
          0.41080257296562195
         ],
         "z": [
          2.0087883472442627,
          2.0087881088256836,
          2.051130533218384,
          2.0087881088256836,
          2.0087881088256836,
          1.7547348737716675,
          1.7547348737716675,
          2.0087883472442627,
          2.8226423263549805,
          2.0087881088256836,
          1.7547348737716675,
          2.8226423263549805,
          1.7547348737716675,
          2.8226423263549805,
          1.4113211631774902
         ]
        },
        {
         "marker": {
          "color": "rgba(255, 157, 83, 1.0)",
          "size": 1
         },
         "name": "157",
         "scene": "scene",
         "type": "scatter3d",
         "x": [
          -0.5875056385993958,
          -0.169056236743927,
          -0.10450148582458496,
          -0.169056236743927,
          0.24939316511154175,
          -0.1379355788230896,
          -0.9748343825340271,
          -0.5875056385993958,
          -0.544080913066864,
          0.24939316511154175,
          -0.1379355788230896,
          -0.544080913066864,
          -0.9748343825340271,
          -0.544080913066864,
          -0.2720404863357544
         ],
         "y": [
          -0.015195310115814209,
          0.258483350276947,
          0.1597803235054016,
          0.258483350276947,
          0.532162070274353,
          1.124380111694336,
          0.5770227313041687,
          -0.015195310115814209,
          0.8318888545036316,
          0.532162070274353,
          1.124380111694336,
          0.8318888545036316,
          0.5770227313041687,
          0.8318888545036316,
          0.4159441590309143
         ],
         "z": [
          2.0112762451171875,
          2.0112762451171875,
          2.0526933670043945,
          2.0112762451171875,
          2.0112762451171875,
          1.7627726793289185,
          1.7627726793289185,
          2.0112762451171875,
          2.8305366039276123,
          2.0112762451171875,
          1.7627726793289185,
          2.8305366039276123,
          1.7627726793289185,
          2.8305366039276123,
          1.4152684211730957
         ]
        },
        {
         "marker": {
          "color": "rgba(255, 152, 80, 1.0)",
          "size": 1
         },
         "name": "158",
         "scene": "scene",
         "type": "scatter3d",
         "x": [
          -0.5795516967773438,
          -0.14794683456420898,
          -0.08824345469474792,
          -0.14794683456420898,
          0.283657968044281,
          -0.07456237077713013,
          -0.9377720952033997,
          -0.5795516967773438,
          -0.4905853867530823,
          0.283657968044281,
          -0.07456237077713013,
          -0.4905853867530823,
          -0.9377720952033997,
          -0.4905853867530823,
          -0.24529287219047546
         ],
         "y": [
          0.000542759895324707,
          0.25296562910079956,
          0.15088188648223877,
          0.25296562910079956,
          0.5053884983062744,
          1.1178910732269287,
          0.613045334815979,
          0.000542759895324707,
          0.8388256430625916,
          0.5053884983062744,
          1.1178910732269287,
          0.8388256430625916,
          0.613045334815979,
          0.8388256430625916,
          0.4194125533103943
         ],
         "z": [
          2.0136396884918213,
          2.0136396884918213,
          2.0541293621063232,
          2.0136396884918213,
          2.0136396884918213,
          1.77070152759552,
          1.77070152759552,
          2.0136396884918213,
          2.8382558822631836,
          2.0136396884918213,
          1.77070152759552,
          2.8382558822631836,
          1.77070152759552,
          2.8382558822631836,
          1.4191279411315918
         ]
        },
        {
         "marker": {
          "color": "rgba(255, 149, 78, 1.0)",
          "size": 1
         },
         "name": "159",
         "scene": "scene",
         "type": "scatter3d",
         "x": [
          -0.5715039968490601,
          -0.12782269716262817,
          -0.07315105199813843,
          -0.12782269716262817,
          0.31585854291915894,
          -0.012171506881713867,
          -0.8995340466499329,
          -0.5715039968490601,
          -0.4377567172050476,
          0.31585854291915894,
          -0.012171506881713867,
          -0.4377567172050476,
          -0.8995340466499329,
          -0.4377567172050476,
          -0.21887826919555664
         ],
         "y": [
          0.015466034412384033,
          0.24600237607955933,
          0.14078330993652344,
          0.24600237607955933,
          0.47653859853744507,
          1.107852816581726,
          0.646780252456665,
          0.015466034412384033,
          0.8424893021583557,
          0.47653859853744507,
          1.107852816581726,
          0.8424893021583557,
          0.646780252456665,
          0.8424893021583557,
          0.4212445020675659
         ],
         "z": [
          2.0158796310424805,
          2.0158796310424805,
          2.0554392337799072,
          2.0158796310424805,
          2.0158796310424805,
          1.7785217761993408,
          1.7785217761993408,
          2.0158796310424805,
          2.8458008766174316,
          2.0158796310424805,
          1.7785217761993408,
          2.8458008766174316,
          1.7785217761993408,
          2.8458008766174316,
          1.422900676727295
         ]
        },
        {
         "marker": {
          "color": "rgba(255, 147, 77, 1.0)",
          "size": 1
         },
         "name": "160",
         "scene": "scene",
         "type": "scatter3d",
         "x": [
          -0.563424825668335,
          -0.10877606272697449,
          -0.05930376052856445,
          -0.10877606272697449,
          0.3458726704120636,
          0.04903873801231384,
          -0.8602588176727295,
          -0.563424825668335,
          -0.38578930497169495,
          0.3458726704120636,
          0.04903873801231384,
          -0.38578930497169495,
          -0.8602588176727295,
          -0.38578930497169495,
          -0.19289490580558777
         ],
         "y": [
          0.0296059250831604,
          0.23767900466918945,
          0.1295798420906067,
          0.23767900466918945,
          0.4457521140575409,
          1.0943470001220703,
          0.6782008409500122,
          0.0296059250831604,
          0.8429650664329529,
          0.4457521140575409,
          1.0943470001220703,
          0.8429650664329529,
          0.6782008409500122,
          0.8429650664329529,
          0.4214821457862854
         ],
         "z": [
          2.0179946422576904,
          2.0179946422576904,
          2.056621789932251,
          2.0179946422576904,
          2.0179946422576904,
          1.7862317562103271,
          1.7862317562103271,
          2.0179946422576904,
          2.8531696796417236,
          2.0179946422576904,
          1.7862317562103271,
          2.8531696796417236,
          1.7862317562103271,
          2.8531696796417236,
          1.4265849590301514
         ]
        },
        {
         "marker": {
          "color": "rgba(255, 142, 74, 1.0)",
          "size": 1
         },
         "name": "161",
         "scene": "scene",
         "type": "scatter3d",
         "x": [
          -0.5553706884384155,
          -0.0908907949924469,
          -0.046772003173828125,
          -0.0908907949924469,
          0.37358906865119934,
          0.10887625813484192,
          -0.820083498954773,
          -0.5553706884384155,
          -0.33487072587013245,
          0.37358906865119934,
          0.10887625813484192,
          -0.33487072587013245,
          -0.820083498954773,
          -0.33487072587013245,
          -0.1674354523420334
         ],
         "y": [
          0.04299759864807129,
          0.22808796167373657,
          0.11737293004989624,
          0.22808796167373657,
          0.41317838430404663,
          1.077468752861023,
          0.7072879672050476,
          0.04299759864807129,
          0.8403499722480774,
          0.41317838430404663,
          1.077468752861023,
          0.8403499722480774,
          0.7072879672050476,
          0.8403499722480774,
          0.420174777507782
         ],
         "z": [
          2.0199854373931885,
          2.0199854373931885,
          2.057677745819092,
          2.0199854373931885,
          2.0199851989746094,
          1.793831706047058,
          1.7938318252563477,
          2.0199854373931885,
          2.8603627681732178,
          2.0199851989746094,
          1.793831706047058,
          2.8603627681732178,
          1.7938318252563477,
          2.8603627681732178,
          1.4301815032958984
         ]
        },
        {
         "marker": {
          "color": "rgba(255, 139, 72, 1.0)",
          "size": 1
         },
         "name": "162",
         "scene": "scene",
         "type": "scatter3d",
         "x": [
          -0.5473963618278503,
          -0.074246346950531,
          -0.03562164306640625,
          -0.074246346950531,
          0.39890366792678833,
          0.16715550422668457,
          -0.7791445255279541,
          -0.5473963618278503,
          -0.2851805090904236,
          0.39890366792678833,
          0.16715550422668457,
          -0.2851805090904236,
          -0.7791445255279541,
          -0.2851805090904236,
          -0.14259037375450134
         ],
         "y": [
          0.05568087100982666,
          0.21732544898986816,
          0.10426706075668335,
          0.21732544898986816,
          0.37897002696990967,
          1.057320237159729,
          0.7340310215950012,
          0.05568087100982666,
          0.8347511291503906,
          0.37897002696990967,
          1.057320237159729,
          0.8347511291503906,
          0.7340310215950012,
          0.8347511291503906,
          0.41737520694732666
         ],
         "z": [
          2.0218513011932373,
          2.0218513011932373,
          2.0586061477661133,
          2.0218513011932373,
          2.0218513011932373,
          1.8013207912445068,
          1.8013209104537964,
          2.0218513011932373,
          2.8673789501190186,
          2.0218513011932373,
          1.8013207912445068,
          2.8673789501190186,
          1.8013209104537964,
          2.8673789501190186,
          1.4336895942687988
         ]
        },
        {
         "marker": {
          "color": "rgba(255, 136, 71, 1.0)",
          "size": 1
         },
         "name": "163",
         "scene": "scene",
         "type": "scatter3d",
         "x": [
          -0.5395513772964478,
          -0.05891382694244385,
          -0.025909453630447388,
          -0.05891382694244385,
          0.42172369360923767,
          0.2236974537372589,
          -0.7375776767730713,
          -0.5395513772964478,
          -0.23689010739326477,
          0.42172369360923767,
          0.2236974537372589,
          -0.23689010739326477,
          -0.7375776767730713,
          -0.23689010739326477,
          -0.11844541132450104
         ],
         "y": [
          0.06769859790802002,
          0.20549345016479492,
          0.09037196636199951,
          0.20549345016479492,
          0.3432883024215698,
          1.0340170860290527,
          0.7584273815155029,
          0.06769859790802002,
          0.826286792755127,
          0.3432883024215698,
          1.0340170860290527,
          0.826286792755127,
          0.7584273815155029,
          0.826286792755127,
          0.4131433665752411
         ],
         "z": [
          2.023592710494995,
          2.023592710494995,
          2.059408187866211,
          2.023592710494995,
          2.023592472076416,
          1.8086992502212524,
          1.808699369430542,
          2.023592710494995,
          2.8742189407348633,
          2.023592472076416,
          1.8086992502212524,
          2.8742189407348633,
          1.808699369430542,
          2.8742189407348633,
          1.4371094703674316
         ]
        },
        {
         "marker": {
          "color": "rgba(255, 134, 69, 1.0)",
          "size": 1
         },
         "name": "164",
         "scene": "scene",
         "type": "scatter3d",
         "x": [
          -0.5318811535835266,
          -0.044957250356674194,
          -0.017684713006019592,
          -0.044957250356674194,
          0.4419666826725006,
          0.278331458568573,
          -0.6955163478851318,
          -0.5318811535835266,
          -0.19016209244728088,
          0.4419666826725006,
          0.278331458568573,
          -0.19016209244728088,
          -0.6955163478851318,
          -0.19016209244728088,
          -0.09508121013641357
         ],
         "y": [
          0.07909619808197021,
          0.19269704818725586,
          0.07579958438873291,
          0.19269704818725586,
          0.30629783868789673,
          1.0076828002929688,
          0.780481219291687,
          0.07909619808197021,
          0.8150844573974609,
          0.30629783868789673,
          1.0076828002929688,
          0.8150844573974609,
          0.780481219291687,
          0.8150844573974609,
          0.40754204988479614
         ],
         "z": [
          2.0252089500427246,
          2.0252089500427246,
          2.0600829124450684,
          2.0252089500427246,
          2.0252089500427246,
          1.8159656524658203,
          1.8159656524658203,
          2.0252089500427246,
          2.8808810710906982,
          2.0252089500427246,
          1.8159656524658203,
          2.8808810710906982,
          1.8159656524658203,
          2.8808810710906982,
          1.4404405355453491
         ]
        },
        {
         "marker": {
          "color": "rgba(255, 128, 66, 1.0)",
          "size": 1
         },
         "name": "165",
         "scene": "scene",
         "type": "scatter3d",
         "x": [
          -0.5244271159172058,
          -0.0324341356754303,
          -0.010989904403686523,
          -0.0324341356754303,
          0.4595588445663452,
          0.33089345693588257,
          -0.6530925035476685,
          -0.5244271159172058,
          -0.1451495885848999,
          0.4595588445663452,
          0.33089345693588257,
          -0.1451495885848999,
          -0.6530925035476685,
          -0.1451495885848999,
          -0.07257543504238129
         ],
         "y": [
          0.08992332220077515,
          0.17904633283615112,
          0.060666024684906006,
          0.17904633283615112,
          0.2681693434715271,
          0.978451132774353,
          0.8002051115036011,
          0.08992332220077515,
          0.8012807965278625,
          0.2681693434715271,
          0.978451132774353,
          0.8012807965278625,
          0.8002051115036011,
          0.8012807965278625,
          0.40064042806625366
         ],
         "z": [
          2.026700973510742,
          2.026700973510742,
          2.060631036758423,
          2.026700973510742,
          2.026700735092163,
          1.8231204748153687,
          1.8231208324432373,
          2.026700973510742,
          2.8873660564422607,
          2.026700735092163,
          1.8231204748153687,
          2.8873660564422607,
          1.8231208324432373,
          2.8873660564422607,
          1.44368314743042
         ]
        },
        {
         "marker": {
          "color": "rgba(255, 126, 65, 1.0)",
          "size": 1
         },
         "name": "166",
         "scene": "scene",
         "type": "scatter3d",
         "x": [
          -0.5172263383865356,
          -0.021393872797489166,
          -0.005859255790710449,
          -0.021393872797489166,
          0.4744386076927185,
          0.381230890750885,
          -0.6104339957237244,
          -0.5172263383865356,
          -0.10199576616287231,
          0.4744386076927185,
          0.381230890750885,
          -0.10199576616287231,
          -0.6104339957237244,
          -0.10199576616287231,
          -0.050998687744140625
         ],
         "y": [
          0.10023128986358643,
          0.1646530032157898,
          0.04508829116821289,
          0.1646530032157898,
          0.22907471656799316,
          0.9464631080627441,
          0.8176196813583374,
          0.10023128986358643,
          0.7850208282470703,
          0.22907471656799316,
          0.9464631080627441,
          0.7850208282470703,
          0.8176196813583374,
          0.7850208282470703,
          0.39251038432121277
         ],
         "z": [
          2.0280673503875732,
          2.028067111968994,
          2.061051368713379,
          2.028067111968994,
          2.028067111968994,
          1.8301622867584229,
          1.830162525177002,
          2.0280673503875732,
          2.893672227859497,
          2.028067111968994,
          1.8301622867584229,
          2.893672227859497,
          1.830162525177002,
          2.893672227859497,
          1.446835994720459
         ]
        },
        {
         "marker": {
          "color": "rgba(255, 123, 63, 1.0)",
          "size": 1
         },
         "name": "167",
         "scene": "scene",
         "type": "scatter3d",
         "x": [
          -0.510308563709259,
          -0.011876069009304047,
          -0.0023162513971328735,
          -0.011876069009304047,
          0.48655641078948975,
          0.4291975498199463,
          -0.5676674842834473,
          -0.510308563709259,
          -0.06083352863788605,
          0.48655641078948975,
          0.4291975498199463,
          -0.06083352863788605,
          -0.5676674842834473,
          -0.06083352863788605,
          -0.030416522175073624
         ],
         "y": [
          0.11007267236709595,
          0.1496332287788391,
          0.029187023639678955,
          0.1496332287788391,
          0.18919390439987183,
          0.9118711948394775,
          0.8327499628067017,
          0.11007267236709595,
          0.7664578557014465,
          0.18919390439987183,
          0.9118711948394775,
          0.7664578557014465,
          0.8327499628067017,
          0.7664578557014465,
          0.38322895765304565
         ],
         "z": [
          2.029308795928955,
          2.029308795928955,
          2.061344861984253,
          2.029308795928955,
          2.029308795928955,
          1.8370916843414307,
          1.8370916843414307,
          2.029308795928955,
          2.8998003005981445,
          2.029308795928955,
          1.8370916843414307,
          2.8998003005981445,
          1.8370916843414307,
          2.8998003005981445,
          1.4499001502990723
         ]
        },
        {
         "marker": {
          "color": "rgba(255, 117, 60, 1.0)",
          "size": 1
         },
         "name": "168",
         "scene": "scene",
         "type": "scatter3d",
         "x": [
          -0.5037069916725159,
          -0.003920277580618858,
          -0.00038542598485946655,
          -0.003920277580618858,
          0.49586644768714905,
          0.4746573567390442,
          -0.5249161720275879,
          -0.5037069916725159,
          -0.02178487554192543,
          0.49586644768714905,
          0.4746573567390442,
          -0.02178487554192543,
          -0.5249161720275879,
          -0.02178487554192543,
          -0.010894812643527985
         ],
         "y": [
          0.11950600147247314,
          0.1341039538383484,
          0.013082742691040039,
          0.1341039538383484,
          0.14870190620422363,
          0.8748293519020081,
          0.8456334471702576,
          0.11950600147247314,
          0.7457515597343445,
          0.14870190620422363,
          0.8748293519020081,
          0.7457515597343445,
          0.8456334471702576,
          0.7457515597343445,
          0.37287575006484985
         ],
         "z": [
          2.030425548553467,
          2.0304250717163086,
          2.061511278152466,
          2.0304250717163086,
          2.0304245948791504,
          1.843907356262207,
          1.8439080715179443,
          2.030425548553467,
          2.905749559402466,
          2.0304245948791504,
          1.843907356262207,
          2.905749559402466,
          1.8439080715179443,
          2.905749559402466,
          1.452874779701233
         ]
        },
        {
         "marker": {
          "color": "rgba(255, 115, 59, 1.0)",
          "size": 1
         },
         "name": "169",
         "scene": "scene",
         "type": "scatter3d",
         "x": [
          -0.4974324405193329,
          0.002459273673593998,
          -0.00006319116801023483,
          0.002459273673593998,
          0.5023509860038757,
          0.5174857378005981,
          -0.4822975993156433,
          -0.4974324405193329,
          0.01503934245556593,
          0.5023509860038757,
          0.5174857378005981,
          0.01503934245556593,
          -0.4822975993156433,
          0.01503934245556593,
          0.007520332932472229
         ],
         "y": [
          0.12858128547668457,
          0.11818480491638184,
          -0.003102242946624756,
          0.11818480491638184,
          0.1077883243560791,
          0.8355106711387634,
          0.8563036322593689,
          0.12858128547668457,
          0.7230687141418457,
          0.1077883243560791,
          0.8355106711387634,
          0.7230687141418457,
          0.8563036322593689,
          0.7230687141418457,
          0.36153459548950195
         ],
         "z": [
          2.0314159393310547,
          2.0314159393310547,
          2.0615501403808594,
          2.0314159393310547,
          2.0314159393310547,
          1.8506097793579102,
          1.8506097793579102,
          2.0314159393310547,
          2.9115192890167236,
          2.0314159393310547,
          1.8506097793579102,
          2.9115192890167236,
          1.8506097793579102,
          2.9115192890167236,
          1.4557595252990723
         ]
        },
        {
         "marker": {
          "color": "rgba(255, 112, 57, 1.0)",
          "size": 1
         },
         "name": "170",
         "scene": "scene",
         "type": "scatter3d",
         "x": [
          -0.4915127158164978,
          0.007234778255224228,
          -0.0013628453016281128,
          0.007234778255224228,
          0.5059822797775269,
          0.5575680136680603,
          -0.43992698192596436,
          -0.4915127158164978,
          0.04953981190919876,
          0.5059822797775269,
          0.5575680136680603,
          0.04953981190919876,
          -0.43992698192596436,
          0.04953981190919876,
          0.024771561846137047
         ],
         "y": [
          0.1373634934425354,
          0.10199582576751709,
          -0.019245922565460205,
          0.10199582576751709,
          0.06662815809249878,
          0.7940788269042969,
          0.864814043045044,
          0.1373634934425354,
          0.6985817551612854,
          0.06662815809249878,
          0.7940788269042969,
          0.6985817551612854,
          0.864814043045044,
          0.6985817551612854,
          0.3492908179759979
         ],
         "z": [
          2.0322813987731934,
          2.0322818756103516,
          2.06146240234375,
          2.0322818756103516,
          2.0322821140289307,
          1.8571981191635132,
          1.8571975231170654,
          2.0322813987731934,
          2.917109727859497,
          2.0322821140289307,
          1.8571981191635132,
          2.917109727859497,
          1.8571975231170654,
          2.917109727859497,
          1.4585548639297485
         ]
        },
        {
         "marker": {
          "color": "rgba(255, 109, 56, 1.0)",
          "size": 1
         },
         "name": "171",
         "scene": "scene",
         "type": "scatter3d",
         "x": [
          -0.4859578013420105,
          0.010398618876934052,
          -0.004275143146514893,
          0.010398618876934052,
          0.5067550539970398,
          0.594797670841217,
          -0.397915244102478,
          -0.4859578013420105,
          0.08162902295589447,
          0.5067550539970398,
          0.594797670841217,
          0.08162902295589447,
          -0.397915244102478,
          0.08162902295589447,
          0.04081534966826439
         ],
         "y": [
          0.14590984582901,
          0.0856587290763855,
          -0.03522557020187378,
          0.0856587290763855,
          0.02540767192840576,
          0.7507135272026062,
          0.8712157011032104,
          0.14590984582901,
          0.6724674701690674,
          0.02540767192840576,
          0.7507135272026062,
          0.6724674701690674,
          0.8712157011032104,
          0.6724674701690674,
          0.3362337648868561
         ],
         "z": [
          2.033021926879883,
          2.033022165298462,
          2.0612473487854004,
          2.033022165298462,
          2.033022403717041,
          1.8636715412139893,
          1.8636711835861206,
          2.033021926879883,
          2.922520160675049,
          2.033022403717041,
          1.8636715412139893,
          2.922520160675049,
          1.8636711835861206,
          2.922520160675049,
          1.4612600803375244
         ]
        },
        {
         "marker": {
          "color": "rgba(255, 103, 53, 1.0)",
          "size": 1
         },
         "name": "172",
         "scene": "scene",
         "type": "scatter3d",
         "x": [
          -0.48077285289764404,
          0.011951982975006104,
          -0.008782193064689636,
          0.011951982975006104,
          0.5046768188476562,
          0.6290818452835083,
          -0.3563677668571472,
          -0.48077285289764404,
          0.11123156547546387,
          0.5046768188476562,
          0.6290818452835083,
          0.11123156547546387,
          -0.3563677668571472,
          0.11123156547546387,
          0.05561600625514984
         ],
         "y": [
          0.15427783131599426,
          0.06929445266723633,
          -0.05092012882232666,
          0.06929445266723633,
          -0.01568901538848877,
          0.7055985927581787,
          0.8755654096603394,
          0.15427783131599426,
          0.6449075937271118,
          -0.01568901538848877,
          0.7055985927581787,
          0.6449075937271118,
          0.8755654096603394,
          0.6449075937271118,
          0.3224535584449768
         ],
         "z": [
          2.033637523651123,
          2.033637523651123,
          2.0609054565429688,
          2.033637523651123,
          2.033637523651123,
          1.8700299263000488,
          1.8700298070907593,
          2.033637523651123,
          2.9277503490448,
          2.033637523651123,
          1.8700299263000488,
          2.9277503490448,
          1.8700298070907593,
          2.9277503490448,
          1.4638752937316895
         ]
        },
        {
         "marker": {
          "color": "rgba(255, 100, 51, 1.0)",
          "size": 1
         },
         "name": "173",
         "scene": "scene",
         "type": "scatter3d",
         "x": [
          -0.4759598970413208,
          0.011901646852493286,
          -0.014860942959785461,
          0.011901646852493286,
          0.4997631907463074,
          0.6603387594223022,
          -0.3153843879699707,
          -0.4759598970413208,
          0.1382841318845749,
          0.4997631907463074,
          0.6603387594223022,
          0.1382841318845749,
          -0.3153843879699707,
          0.1382841318845749,
          0.06914207339286804
         ],
         "y": [
          0.16252762079238892,
          0.053024351596832275,
          -0.06620901823043823,
          0.053024351596832275,
          -0.056478917598724365,
          0.6589212417602539,
          0.8779277205467224,
          0.16252762079238892,
          0.6160865426063538,
          -0.056478917598724365,
          0.6589212417602539,
          0.6160865426063538,
          0.8779277205467224,
          0.6160865426063538,
          0.30804336071014404
         ],
         "z": [
          2.0341265201568604,
          2.0341265201568604,
          2.0604355335235596,
          2.0341265201568604,
          2.0341265201568604,
          1.8762727975845337,
          1.8762727975845337,
          2.0341265201568604,
          2.9327995777130127,
          2.0341265201568604,
          1.8762727975845337,
          2.9327995777130127,
          1.8762727975845337,
          2.9327995777130127,
          1.4663996696472168
         ]
        },
        {
         "marker": {
          "color": "rgba(255, 97, 49, 1.0)",
          "size": 1
         },
         "name": "174",
         "scene": "scene",
         "type": "scatter3d",
         "x": [
          -0.4715162515640259,
          0.010262787342071533,
          -0.02247980237007141,
          0.010262787342071533,
          0.49204182624816895,
          0.6884973049163818,
          -0.275060772895813,
          -0.4715162515640259,
          0.16273605823516846,
          0.49204182624816895,
          0.6884973049163818,
          0.16273605823516846,
          -0.275060772895813,
          0.16273605823516846,
          0.08136776089668274
         ],
         "y": [
          0.17071709036827087,
          0.03696775436401367,
          -0.08097445964813232,
          0.03696775436401367,
          -0.09678149223327637,
          0.6108720302581787,
          0.8783706426620483,
          0.17071709036827087,
          0.5861920118331909,
          -0.09678149223327637,
          0.6108720302581787,
          0.5861920118331909,
          0.8783706426620483,
          0.5861920118331909,
          0.2930958569049835
         ],
         "z": [
          2.0344910621643066,
          2.0344908237457275,
          2.0598392486572266,
          2.0344908237457275,
          2.0344908237457275,
          1.8824001550674438,
          1.882400393486023,
          2.0344910621643066,
          2.9376683235168457,
          2.0344908237457275,
          1.8824001550674438,
          2.9376683235168457,
          1.882400393486023,
          2.9376683235168457,
          1.4688341617584229
         ]
        },
        {
         "marker": {
          "color": "rgba(255, 92, 46, 1.0)",
          "size": 1
         },
         "name": "175",
         "scene": "scene",
         "type": "scatter3d",
         "x": [
          -0.46743327379226685,
          0.007059082388877869,
          -0.03159879148006439,
          0.007059082388877869,
          0.48155146837234497,
          0.7134986519813538,
          -0.23548607528209686,
          -0.46743327379226685,
          0.184549018740654,
          0.48155146837234497,
          0.7134986519813538,
          0.184549018740654,
          -0.23548607528209686,
          0.184549018740654,
          0.09227453172206879
         ],
         "y": [
          0.17890489101409912,
          0.02124398946762085,
          -0.0950998067855835,
          0.02124398946762085,
          -0.13641691207885742,
          0.5616457462310791,
          0.8769675493240356,
          0.17890489101409912,
          0.5554131269454956,
          -0.13641691207885742,
          0.5616457462310791,
          0.5554131269454956,
          0.8769675493240356,
          0.5554131269454956,
          0.27770641446113586
         ],
         "z": [
          2.034729242324829,
          2.034729242324829,
          2.0591156482696533,
          2.034729242324829,
          2.034729242324829,
          1.8884114027023315,
          1.888411521911621,
          2.034729242324829,
          2.9423556327819824,
          2.034729242324829,
          1.8884114027023315,
          2.9423556327819824,
          1.888411521911621,
          2.9423556327819824,
          1.4711778163909912
         ]
        },
        {
         "marker": {
          "color": "rgba(255, 89, 45, 1.0)",
          "size": 1
         },
         "name": "176",
         "scene": "scene",
         "type": "scatter3d",
         "x": [
          -0.4636985957622528,
          0.0023210346698760986,
          -0.04217138886451721,
          0.0023210346698760986,
          0.4683406352996826,
          0.7352950572967529,
          -0.19674408435821533,
          -0.4636985957622528,
          0.20369723439216614,
          0.4683406352996826,
          0.7352950572967529,
          0.20369723439216614,
          -0.19674408435821533,
          0.20369723439216614,
          0.1018487811088562
         ],
         "y": [
          0.18714851140975952,
          0.005969703197479248,
          -0.1084715723991394,
          0.005969703197479248,
          -0.17520910501480103,
          0.5114385485649109,
          0.8737961649894714,
          0.18714851140975952,
          0.5239401459693909,
          -0.17520910501480103,
          0.5114385485649109,
          0.5239401459693909,
          0.8737961649894714,
          0.5239401459693909,
          0.261970192193985
         ],
         "z": [
          2.0348424911499023,
          2.0348424911499023,
          2.058265209197998,
          2.0348424911499023,
          2.0348424911499023,
          1.8943065404891968,
          1.8943065404891968,
          2.0348424911499023,
          2.946861743927002,
          2.0348424911499023,
          1.8943065404891968,
          2.946861743927002,
          1.8943065404891968,
          2.946861743927002,
          1.473430871963501
         ]
        },
        {
         "marker": {
          "color": "rgba(255, 86, 43, 1.0)",
          "size": 1
         },
         "name": "177",
         "scene": "scene",
         "type": "scatter3d",
         "x": [
          -0.4602939188480377,
          -0.003911823034286499,
          -0.054141879081726074,
          -0.003911823034286499,
          0.4524702727794647,
          0.7538505792617798,
          -0.15891358256340027,
          -0.4602939188480377,
          0.22016748785972595,
          0.4524702727794647,
          0.7538505792617798,
          0.22016748785972595,
          -0.15891358256340027,
          0.22016748785972595,
          0.11008375883102417
         ],
         "y": [
          0.19550198316574097,
          -0.008741557598114014,
          -0.12098062038421631,
          -0.008741557598114014,
          -0.212985098361969,
          0.4604490399360657,
          0.8689361214637756,
          0.19550198316574097,
          0.4919635057449341,
          -0.212985098361969,
          0.4604490399360657,
          0.4919635057449341,
          0.8689361214637756,
          0.4919635057449341,
          0.24598151445388794
         ],
         "z": [
          2.034830093383789,
          2.034830093383789,
          2.0572876930236816,
          2.034830093383789,
          2.034830093383789,
          1.9000842571258545,
          1.9000842571258545,
          2.034830093383789,
          2.951185703277588,
          2.034830093383789,
          1.9000842571258545,
          2.951185703277588,
          1.9000842571258545,
          2.951185703277588,
          1.475592851638794
         ]
        },
        {
         "marker": {
          "color": "rgba(255, 83, 42, 1.0)",
          "size": 1
         },
         "name": "178",
         "scene": "scene",
         "type": "scatter3d",
         "x": [
          -0.4571961760520935,
          -0.011592507362365723,
          -0.06744767725467682,
          -0.011592507362365723,
          0.43401116132736206,
          0.769142210483551,
          -0.12206511199474335,
          -0.4571961760520935,
          0.2339591234922409,
          0.43401116132736206,
          0.769142210483551,
          0.2339591234922409,
          -0.12206511199474335,
          0.2339591234922409,
          0.11697998642921448
         ],
         "y": [
          0.20402073860168457,
          -0.02277711033821106,
          -0.13251924514770508,
          -0.02277711033821106,
          -0.24957501888275146,
          0.40887755155563354,
          0.8624732494354248,
          0.20402073860168457,
          0.4596734046936035,
          -0.24957501888275146,
          0.40887755155563354,
          0.4596734046936035,
          0.8624732494354248,
          0.4596734046936035,
          0.22983701527118683
         ],
         "z": [
          2.03469181060791,
          2.03469181060791,
          2.056182861328125,
          2.03469181060791,
          2.03469181060791,
          1.9057451486587524,
          1.905745029449463,
          2.03469181060791,
          2.9553277492523193,
          2.03469181060791,
          1.9057451486587524,
          2.9553277492523193,
          1.905745029449463,
          2.9553277492523193,
          1.4776637554168701
         ]
        },
        {
         "marker": {
          "color": "rgba(255, 77, 39, 1.0)",
          "size": 1
         },
         "name": "179",
         "scene": "scene",
         "type": "scatter3d",
         "x": [
          -0.4543793797492981,
          -0.02066756784915924,
          -0.0820198506116867,
          -0.02066756784915924,
          0.4130442142486572,
          0.781157910823822,
          -0.0862656682729721,
          -0.4543793797492981,
          0.24508385360240936,
          0.4130442142486572,
          0.781157910823822,
          0.24508385360240936,
          -0.0862656682729721,
          0.24508385360240936,
          0.12254199385643005
         ],
         "y": [
          0.21275463700294495,
          -0.036030709743499756,
          -0.1429872214794159,
          -0.036030709743499756,
          -0.28481605648994446,
          0.3569229543209076,
          0.8544936180114746,
          0.21275463700294495,
          0.4272584617137909,
          -0.28481605648994446,
          0.3569229543209076,
          0.4272584617137909,
          0.8544936180114746,
          0.4272584617137909,
          0.21362896263599396
         ],
         "z": [
          2.034428596496582,
          2.034428596496582,
          2.0549519062042236,
          2.034428596496582,
          2.034428596496582,
          1.9112883806228638,
          1.9112882614135742,
          2.034428596496582,
          2.959287643432617,
          2.034428596496582,
          1.9112883806228638,
          2.959287643432617,
          1.9112882614135742,
          2.959287643432617,
          1.4796438217163086
         ]
        },
        {
         "marker": {
          "color": "rgba(255, 74, 37, 1.0)",
          "size": 1
         },
         "name": "180",
         "scene": "scene",
         "type": "scatter3d",
         "x": [
          -0.45181041955947876,
          -0.031075000762939453,
          -0.097781240940094,
          -0.031075000762939453,
          0.38966041803359985,
          0.7898979783058167,
          -0.05157288908958435,
          -0.45181041955947876,
          0.2535657286643982,
          0.38966041803359985,
          0.7898979783058167,
          0.2535657286643982,
          -0.05157288908958435,
          0.2535657286643982,
          0.12678278982639313
         ],
         "y": [
          0.22175443172454834,
          -0.04839658737182617,
          -0.15228542685508728,
          -0.04839658737182617,
          -0.3185475766658783,
          0.30478566884994507,
          0.8450876474380493,
          0.22175443172454834,
          0.3949052393436432,
          -0.3185475766658783,
          0.30478566884994507,
          0.3949052393436432,
          0.8450876474380493,
          0.3949052393436432,
          0.19745245575904846
         ],
         "z": [
          2.0340394973754883,
          2.0340394973754883,
          2.053593873977661,
          2.0340394973754883,
          2.0340394973754883,
          1.9167135953903198,
          1.9167135953903198,
          2.0340394973754883,
          2.9630649089813232,
          2.0340394973754883,
          1.9167135953903198,
          2.9630649089813232,
          1.9167135953903198,
          2.9630649089813232,
          1.481532335281372
         ]
        },
        {
         "marker": {
          "color": "rgba(255, 71, 36, 1.0)",
          "size": 1
         },
         "name": "181",
         "scene": "scene",
         "type": "scatter3d",
         "x": [
          -0.4494536221027374,
          -0.0427459180355072,
          -0.11464822292327881,
          -0.0427459180355072,
          0.363961786031723,
          0.7953757047653198,
          -0.018039733171463013,
          -0.4494536221027374,
          0.25944069027900696,
          0.363961786031723,
          0.7953757047653198,
          0.25944069027900696,
          -0.018039733171463013,
          0.25944069027900696,
          0.12972119450569153
         ],
         "y": [
          0.2310657501220703,
          -0.059775739908218384,
          -0.16032269597053528,
          -0.059775739908218384,
          -0.35061725974082947,
          0.25266438722610474,
          0.8343473672866821,
          0.2310657501220703,
          0.362797349691391,
          -0.35061725974082947,
          0.25266438722610474,
          0.362797349691391,
          0.8343473672866821,
          0.362797349691391,
          0.1813989132642746
         ],
         "z": [
          2.033524513244629,
          2.033524751663208,
          2.0521087646484375,
          2.033524751663208,
          2.033524990081787,
          1.9220209121704102,
          1.9220205545425415,
          2.033524513244629,
          2.9666593074798584,
          2.033524990081787,
          1.9220209121704102,
          2.9666593074798584,
          1.9220205545425415,
          2.9666593074798584,
          1.4833295345306396
         ]
        },
        {
         "marker": {
          "color": "rgba(255, 65, 32, 1.0)",
          "size": 1
         },
         "name": "182",
         "scene": "scene",
         "type": "scatter3d",
         "x": [
          -0.4472702443599701,
          -0.0556066632270813,
          -0.13253271579742432,
          -0.0556066632270813,
          0.3360568881034851,
          0.797613263130188,
          0.014286160469055176,
          -0.4472702443599701,
          0.2627567946910858,
          0.3360568881034851,
          0.797613263130188,
          0.2627567946910858,
          0.014286160469055176,
          0.2627567946910858,
          0.1313789039850235
         ],
         "y": [
          0.24073126912117004,
          -0.07007366418838501,
          -0.16701269149780273,
          -0.07007366418838501,
          -0.38087865710258484,
          0.20075568556785583,
          0.8223655819892883,
          0.24073126912117004,
          0.33111515641212463,
          -0.38087865710258484,
          0.20075568556785583,
          0.33111515641212463,
          0.8223655819892883,
          0.33111515641212463,
          0.1655576229095459
         ],
         "z": [
          2.0328850746154785,
          2.0328853130340576,
          2.0504980087280273,
          2.0328853130340576,
          2.0328853130340576,
          1.9272096157073975,
          1.9272093772888184,
          2.0328850746154785,
          2.9700710773468018,
          2.0328853130340576,
          1.9272096157073975,
          2.9700710773468018,
          1.9272093772888184,
          2.9700710773468018,
          1.4850355386734009
         ]
        },
        {
         "marker": {
          "color": "rgba(255, 62, 31, 1.0)",
          "size": 1
         },
         "name": "183",
         "scene": "scene",
         "type": "scatter3d",
         "x": [
          -0.44521546363830566,
          -0.0695752501487732,
          -0.1513388454914093,
          -0.0695752501487732,
          0.30606502294540405,
          0.7966465950012207,
          0.04536604881286621,
          -0.44521546363830566,
          0.2635735273361206,
          0.30606502294540405,
          0.7966465950012207,
          0.2635735273361206,
          0.04536604881286621,
          0.2635735273361206,
          0.1317865550518036
         ],
         "y": [
          0.25079146027565,
          -0.07919993996620178,
          -0.17227420210838318,
          -0.07919993996620178,
          -0.4091913104057312,
          0.14925411343574524,
          0.8092369437217712,
          0.25079146027565,
          0.3000343441963196,
          -0.4091913104057312,
          0.14925411343574524,
          0.3000343441963196,
          0.8092369437217712,
          0.3000343441963196,
          0.15001702308654785
         ],
         "z": [
          2.0321202278137207,
          2.0321199893951416,
          2.048760175704956,
          2.0321199893951416,
          2.0321199893951416,
          1.9322788715362549,
          1.9322789907455444,
          2.0321202278137207,
          2.973299264907837,
          2.0321199893951416,
          1.9322788715362549,
          2.973299264907837,
          1.9322789907455444,
          2.973299264907837,
          1.4866496324539185
         ]
        },
        {
         "marker": {
          "color": "rgba(255, 59, 29, 1.0)",
          "size": 1
         },
         "name": "184",
         "scene": "scene",
         "type": "scatter3d",
         "x": [
          -0.4432421624660492,
          -0.08456403017044067,
          -0.17096564173698425,
          -0.08456403017044067,
          0.27411410212516785,
          0.7925237417221069,
          0.0751674473285675,
          -0.4432421624660492,
          0.2619614899158478,
          0.27411410212516785,
          0.7925237417221069,
          0.2619614899158478,
          0.0751674473285675,
          0.2619614899158478,
          0.13098043203353882
         ],
         "y": [
          0.26128309965133667,
          -0.08707022666931152,
          -0.17603269219398499,
          -0.08707022666931152,
          -0.43542352318763733,
          0.09835124015808105,
          0.7950578927993774,
          0.26128309965133667,
          0.2697257101535797,
          -0.43542352318763733,
          0.09835124015808105,
          0.2697257101535797,
          0.7950578927993774,
          0.2697257101535797,
          0.13486288487911224
         ],
         "z": [
          2.0312294960021973,
          2.0312294960021973,
          2.046895980834961,
          2.0312294960021973,
          2.031229257583618,
          1.9372292757034302,
          1.9372295141220093,
          2.0312294960021973,
          2.976344108581543,
          2.031229257583618,
          1.9372292757034302,
          2.976344108581543,
          1.9372295141220093,
          2.976344108581543,
          1.4881720542907715
         ]
        },
        {
         "marker": {
          "color": "rgba(255, 56, 28, 1.0)",
          "size": 1
         },
         "name": "185",
         "scene": "scene",
         "type": "scatter3d",
         "x": [
          -0.441299170255661,
          -0.10047978162765503,
          -0.1913069188594818,
          -0.10047978162765503,
          0.24033960700035095,
          0.7853024005889893,
          0.10366365313529968,
          -0.441299170255661,
          0.2580024302005768,
          0.24033960700035095,
          0.7853024005889893,
          0.2580024302005768,
          0.10366365313529968,
          0.2580024302005768,
          0.1290012151002884
         ],
         "y": [
          0.2722378075122833,
          -0.09360663592815399,
          -0.17822091281414032,
          -0.09360663592815399,
          -0.4594511389732361,
          0.048234373331069946,
          0.7799232602119446,
          0.2722378075122833,
          0.24035413563251495,
          -0.4594511389732361,
          0.048234373331069946,
          0.24035413563251495,
          0.7799232602119446,
          0.24035413563251495,
          0.12017706781625748
         ],
         "z": [
          2.0302133560180664,
          2.0302133560180664,
          2.044905662536621,
          2.0302133560180664,
          2.0302133560180664,
          1.9420603513717651,
          1.9420603513717651,
          2.0302133560180664,
          2.979205369949341,
          2.0302133560180664,
          1.9420603513717651,
          2.979205369949341,
          1.9420603513717651,
          2.979205369949341,
          1.4896026849746704
         ]
        },
        {
         "marker": {
          "color": "rgba(255, 49, 25, 1.0)",
          "size": 1
         },
         "name": "186",
         "scene": "scene",
         "type": "scatter3d",
         "x": [
          -0.4393334984779358,
          -0.11722457408905029,
          -0.21225249767303467,
          -0.11722457408905029,
          0.2048843950033188,
          0.7750518918037415,
          0.1308339685201645,
          -0.4393334984779358,
          0.25178825855255127,
          0.2048843950033188,
          0.7750518918037415,
          0.25178825855255127,
          0.1308339685201645,
          0.25178825855255127,
          0.12589463591575623
         ],
         "y": [
          0.2836836874485016,
          -0.09873740375041962,
          -0.17877833545207977,
          -0.09873740375041962,
          -0.4811584949493408,
          -0.0009128600358963013,
          0.7639293670654297,
          0.2836836874485016,
          0.21207831799983978,
          -0.4811584949493408,
          -0.0009128600358963013,
          0.21207831799983978,
          0.7639293670654297,
          0.21207831799983978,
          0.10603895783424377
         ],
         "z": [
          2.0290720462799072,
          2.0290720462799072,
          2.0427889823913574,
          2.0290720462799072,
          2.0290722846984863,
          1.9467717409133911,
          1.9467713832855225,
          2.0290720462799072,
          2.9818828105926514,
          2.0290722846984863,
          1.9467717409133911,
          2.9818828105926514,
          1.9467713832855225,
          2.9818828105926514,
          1.4909412860870361
         ]
        },
        {
         "marker": {
          "color": "rgba(255, 46, 23, 1.0)",
          "size": 1
         },
         "name": "187",
         "scene": "scene",
         "type": "scatter3d",
         "x": [
          -0.43728941679000854,
          -0.1346960812807083,
          -0.23368830978870392,
          -0.1346960812807083,
          0.16789723932743073,
          0.7618506550788879,
          0.15666396915912628,
          -0.43728941679000854,
          0.24342124164104462,
          0.16789723932743073,
          0.7618506550788879,
          0.24342124164104462,
          0.15666396915912628,
          0.24342124164104462,
          0.12171028554439545
         ],
         "y": [
          0.29564547538757324,
          -0.10239645838737488,
          -0.1776508092880249,
          -0.10239645838737488,
          -0.5004383325576782,
          -0.048912182450294495,
          0.7471716403961182,
          0.29564547538757324,
          0.1850498914718628,
          -0.5004383325576782,
          -0.048912182450294495,
          0.1850498914718628,
          0.7471716403961182,
          0.1850498914718628,
          0.09252500534057617
         ],
         "z": [
          2.027806043624878,
          2.027806043624878,
          2.0405466556549072,
          2.027806043624878,
          2.027805805206299,
          1.9513624906539917,
          1.9513626098632812,
          2.027806043624878,
          2.9843764305114746,
          2.027805805206299,
          1.9513624906539917,
          2.9843764305114746,
          1.9513626098632812,
          2.9843764305114746,
          1.4921882152557373
         ]
        },
        {
         "marker": {
          "color": "rgba(255, 43, 21, 1.0)",
          "size": 1
         },
         "name": "188",
         "scene": "scene",
         "type": "scatter3d",
         "x": [
          -0.4351070523262024,
          -0.15278573334217072,
          -0.25549477338790894,
          -0.15278573334217072,
          0.12953560054302216,
          0.7457898259162903,
          0.18114714324474335,
          -0.4351070523262024,
          0.23301278054714203,
          0.12953560054302216,
          0.7457898259162903,
          0.23301278054714203,
          0.18114714324474335,
          0.23301278054714203,
          0.11650566756725311
         ],
         "y": [
          0.3081415295600891,
          -0.10452604293823242,
          -0.17479312419891357,
          -0.10452604293823242,
          -0.517193615436554,
          -0.09559103846549988,
          0.7297441363334656,
          0.3081415295600891,
          0.15941262245178223,
          -0.517193615436554,
          -0.09559103846549988,
          0.15941262245178223,
          0.7297441363334656,
          0.15941262245178223,
          0.07970655709505081
         ],
         "z": [
          2.026414632797241,
          2.026414394378662,
          2.038177967071533,
          2.026414394378662,
          2.026414155960083,
          1.9558327198028564,
          1.9558331966400146,
          2.026414632797241,
          2.9866855144500732,
          2.026414155960083,
          1.9558327198028564,
          2.9866855144500732,
          1.9558331966400146,
          2.9866855144500732,
          1.4933427572250366
         ]
        },
        {
         "marker": {
          "color": "rgba(255, 37, 18, 1.0)",
          "size": 1
         },
         "name": "189",
         "scene": "scene",
         "type": "scatter3d",
         "x": [
          -0.43272584676742554,
          -0.17138232290744781,
          -0.27755045890808105,
          -0.17138232290744781,
          0.0899612158536911,
          0.7269698977470398,
          0.20428279042243958,
          -0.43272584676742554,
          0.22068367898464203,
          0.0899612158536911,
          0.7269698977470398,
          0.22068367898464203,
          0.20428279042243958,
          0.22068367898464203,
          0.1103411614894867
         ],
         "y": [
          0.3211873769760132,
          -0.10507483780384064,
          -0.17016705870628357,
          -0.10507483780384064,
          -0.5313371419906616,
          -0.14078384637832642,
          0.7117406129837036,
          0.3211873769760132,
          0.13530233502388,
          -0.5313371419906616,
          -0.14078384637832642,
          0.13530233502388,
          0.7117406129837036,
          0.13530233502388,
          0.06765149533748627
         ],
         "z": [
          2.024898052215576,
          2.024898052215576,
          2.0356838703155518,
          2.024898052215576,
          2.024897813796997,
          1.960182785987854,
          1.9601831436157227,
          2.024898052215576,
          2.9888107776641846,
          2.024897813796997,
          1.960182785987854,
          2.9888107776641846,
          1.9601831436157227,
          2.9888107776641846,
          1.4944052696228027
         ]
        },
        {
         "marker": {
          "color": "rgba(255, 34, 17, 1.0)",
          "size": 1
         },
         "name": "190",
         "scene": "scene",
         "type": "scatter3d",
         "x": [
          -0.43008291721343994,
          -0.19036994874477386,
          -0.299729585647583,
          -0.19036994874477386,
          0.04934297502040863,
          0.7055008411407471,
          0.2260749638080597,
          -0.43008291721343994,
          0.20656301081180573,
          0.04934297502040863,
          0.7055008411407471,
          0.20656301081180573,
          0.2260749638080597,
          0.20656301081180573,
          0.10328194499015808
         ],
         "y": [
          0.33479100465774536,
          -0.10400009900331497,
          -0.16374361515045166,
          -0.10400009900331497,
          -0.5427912473678589,
          -0.1843302845954895,
          0.6932519674301147,
          0.33479100465774536,
          0.11284587532281876,
          -0.5427912473678589,
          -0.1843302845954895,
          0.11284587532281876,
          0.6932519674301147,
          0.11284587532281876,
          0.056422606110572815
         ],
         "z": [
          2.023256778717041,
          2.02325701713562,
          2.033064365386963,
          2.02325701713562,
          2.023257255554199,
          1.9644129276275635,
          1.9644125699996948,
          2.023256778717041,
          2.9907522201538086,
          2.023257255554199,
          1.9644129276275635,
          2.9907522201538086,
          1.9644125699996948,
          2.9907522201538086,
          1.4953761100769043
         ]
        },
        {
         "marker": {
          "color": "rgba(255, 31, 15, 1.0)",
          "size": 1
         },
         "name": "191",
         "scene": "scene",
         "type": "scatter3d",
         "x": [
          -0.4271155893802643,
          -0.2096327245235443,
          -0.32190749049186707,
          -0.2096327245235443,
          0.00785014033317566,
          0.6814988851547241,
          0.24653315544128418,
          -0.4271155893802643,
          0.19078758358955383,
          0.00785014033317566,
          0.6814988851547241,
          0.19078758358955383,
          0.24653315544128418,
          0.19078758358955383,
          0.09539368003606796
         ],
         "y": [
          0.3489592969417572,
          -0.10126414895057678,
          -0.15549908578395844,
          -0.10126414895057678,
          -0.5514875650405884,
          -0.22607794404029846,
          0.6743689775466919,
          0.3489592969417572,
          0.0921609103679657,
          -0.5514875650405884,
          -0.22607794404029846,
          0.0921609103679657,
          0.6743689775466919,
          0.0921609103679657,
          0.046080537140369415
         ],
         "z": [
          2.0214905738830566,
          2.0214905738830566,
          2.0303189754486084,
          2.0214905738830566,
          2.0214905738830566,
          1.9685202836990356,
          1.9685204029083252,
          2.0214905738830566,
          2.9925081729888916,
          2.0214905738830566,
          1.9685202836990356,
          2.9925081729888916,
          1.9685204029083252,
          2.9925081729888916,
          1.4962540864944458
         ]
        },
        {
         "marker": {
          "color": "rgba(255, 28, 14, 1.0)",
          "size": 1
         },
         "name": "192",
         "scene": "scene",
         "type": "scatter3d",
         "x": [
          -0.42375701665878296,
          -0.22904786467552185,
          -0.34395331144332886,
          -0.22904786467552185,
          -0.03433865308761597,
          0.6550939083099365,
          0.26567554473876953,
          -0.42375701665878296,
          0.17350167036056519,
          -0.03433865308761597,
          0.6550939083099365,
          0.17350167036056519,
          0.26567554473876953,
          0.17350167036056519,
          0.08675183355808258
         ],
         "y": [
          0.363689661026001,
          -0.09684088826179504,
          -0.14542213082313538,
          -0.09684088826179504,
          -0.5573714971542358,
          -0.2658839225769043,
          0.655177116394043,
          0.363689661026001,
          0.07335533201694489,
          -0.5573714971542358,
          -0.2658839225769043,
          0.07335533201694489,
          0.655177116394043,
          0.07335533201694489,
          0.036676615476608276
         ],
         "z": [
          2.019599199295044,
          2.019599676132202,
          2.0274484157562256,
          2.019599676132202,
          2.0195999145507812,
          1.972507357597351,
          1.9725065231323242,
          2.019599199295044,
          2.994080066680908,
          2.0195999145507812,
          1.972507357597351,
          2.994080066680908,
          1.9725065231323242,
          2.994080066680908,
          1.4970399141311646
         ]
        },
        {
         "marker": {
          "color": "rgba(255, 21, 10, 1.0)",
          "size": 1
         },
         "name": "193",
         "scene": "scene",
         "type": "scatter3d",
         "x": [
          -0.4199438691139221,
          -0.2484949231147766,
          -0.365739107131958,
          -0.2484949231147766,
          -0.0770459771156311,
          0.6264190077781677,
          0.2835210859775543,
          -0.4199438691139221,
          0.15485608577728271,
          -0.0770459771156311,
          0.6264190077781677,
          0.15485608577728271,
          0.2835210859775543,
          0.15485608577728271,
          0.07742829620838165
         ],
         "y": [
          0.37897825241088867,
          -0.09070809185504913,
          -0.13350556790828705,
          -0.09070809185504913,
          -0.5603944063186646,
          -0.3036094903945923,
          0.6357631683349609,
          0.37897825241088867,
          0.05652688443660736,
          -0.5603944063186646,
          -0.3036094903945923,
          0.05652688443660736,
          0.6357631683349609,
          0.05652688443660736,
          0.028263110667467117
         ],
         "z": [
          2.0175843238830566,
          2.0175843238830566,
          2.0244531631469727,
          2.0175843238830566,
          2.0175843238830566,
          1.9763718843460083,
          1.9763716459274292,
          2.0175843238830566,
          2.995467185974121,
          2.0175843238830566,
          1.9763718843460083,
          2.995467185974121,
          1.9763716459274292,
          2.995467185974121,
          1.497733473777771
         ]
        },
        {
         "marker": {
          "color": "rgba(255, 18, 9, 1.0)",
          "size": 1
         },
         "name": "194",
         "scene": "scene",
         "type": "scatter3d",
         "x": [
          -0.415609210729599,
          -0.26784902811050415,
          -0.38713350892066956,
          -0.26784902811050415,
          -0.1200888454914093,
          0.5956180691719055,
          0.3000977635383606,
          -0.415609210729599,
          0.13500753045082092,
          -0.1200888454914093,
          0.5956180691719055,
          0.13500753045082092,
          0.3000977635383606,
          0.13500753045082092,
          0.06750290095806122
         ],
         "y": [
          0.3948137164115906,
          -0.08285446465015411,
          -0.11975349485874176,
          -0.08285446465015411,
          -0.5605226755142212,
          -0.33912843465805054,
          0.6162079572677612,
          0.3948137164115906,
          0.04176272451877594,
          -0.5605226755142212,
          -0.33912843465805054,
          0.04176272451877594,
          0.6162079572677612,
          0.04176272451877594,
          0.020882613956928253
         ],
         "z": [
          2.0154452323913574,
          2.015444755554199,
          2.0213329792022705,
          2.015444755554199,
          2.015444278717041,
          1.9801141023635864,
          1.9801151752471924,
          2.0154452323913574,
          2.9966695308685303,
          2.015444278717041,
          1.9801141023635864,
          2.9966695308685303,
          1.9801151752471924,
          2.9966695308685303,
          1.4983347654342651
         ]
        },
        {
         "marker": {
          "color": "rgba(255, 15, 7, 1.0)",
          "size": 1
         },
         "name": "195",
         "scene": "scene",
         "type": "scatter3d",
         "x": [
          -0.4106851816177368,
          -0.28698307275772095,
          -0.4080037474632263,
          -0.28698307275772095,
          -0.16328096389770508,
          0.5628430247306824,
          0.31543877720832825,
          -0.4106851816177368,
          0.11411797255277634,
          -0.16328096389770508,
          0.5628430247306824,
          0.11411797255277634,
          0.31543877720832825,
          0.11411797255277634,
          0.057059384882450104
         ],
         "y": [
          0.4111766517162323,
          -0.0732795000076294,
          -0.1041811853647232,
          -0.0732795000076294,
          -0.5577356815338135,
          -0.3723255693912506,
          0.5965868234634399,
          0.4111766517162323,
          0.02913910150527954,
          -0.5577356815338135,
          -0.3723255693912506,
          0.02913910150527954,
          0.5965868234634399,
          0.02913910150527954,
          0.014568781480193138
         ],
         "z": [
          2.0131802558898926,
          2.0131804943084717,
          2.018087863922119,
          2.0131804943084717,
          2.013180732727051,
          1.9837359189987183,
          1.9837353229522705,
          2.0131802558898926,
          2.9976871013641357,
          2.013180732727051,
          1.9837359189987183,
          2.9976871013641357,
          1.9837353229522705,
          2.9976871013641357,
          1.4988434314727783
         ]
        },
        {
         "marker": {
          "color": "rgba(255, 9, 4, 1.0)",
          "size": 1
         },
         "name": "196",
         "scene": "scene",
         "type": "scatter3d",
         "x": [
          -0.405108779668808,
          -0.3057740032672882,
          -0.42822185158729553,
          -0.3057740032672882,
          -0.20643922686576843,
          0.5282479524612427,
          0.3295784294605255,
          -0.405108779668808,
          0.09235391020774841,
          -0.20643922686576843,
          0.5282479524612427,
          0.09235391020774841,
          0.3295784294605255,
          0.09235391020774841,
          0.0461774542927742
         ],
         "y": [
          0.42804884910583496,
          -0.061984408646821976,
          -0.08680583536624908,
          -0.061984408646821976,
          -0.5520176887512207,
          -0.4030890464782715,
          0.5769774913787842,
          0.42804884910583496,
          0.018721062690019608,
          -0.5520176887512207,
          -0.4030890464782715,
          0.018721062690019608,
          0.5769774913787842,
          0.018721062690019608,
          0.009359318763017654
         ],
         "z": [
          2.010791778564453,
          2.0107922554016113,
          2.014718532562256,
          2.0107922554016113,
          2.0107927322387695,
          1.9872347116470337,
          1.9872338771820068,
          2.010791778564453,
          2.9985198974609375,
          2.0107927322387695,
          1.9872347116470337,
          2.9985198974609375,
          1.9872338771820068,
          2.9985198974609375,
          1.4992599487304688
         ]
        },
        {
         "marker": {
          "color": "rgba(255, 6, 3, 1.0)",
          "size": 1
         },
         "name": "197",
         "scene": "scene",
         "type": "scatter3d",
         "x": [
          -0.398815393447876,
          -0.3240964412689209,
          -0.447658509016037,
          -0.3240964412689209,
          -0.24937748908996582,
          0.4919949769973755,
          0.34255707263946533,
          -0.398815393447876,
          0.06988563388586044,
          -0.24937748908996582,
          0.4919949769973755,
          0.06988563388586044,
          0.34255707263946533,
          0.06988563388586044,
          0.034941866993904114
         ],
         "y": [
          0.44540533423423767,
          -0.04898017272353172,
          -0.06765472888946533,
          -0.04898017272353172,
          -0.5433657169342041,
          -0.4313183128833771,
          0.5574526786804199,
          0.44540533423423767,
          0.010562180541455746,
          -0.5433657169342041,
          -0.4313183128833771,
          0.010562180541455746,
          0.5574526786804199,
          0.010562180541455746,
          0.005284169688820839
         ],
         "z": [
          2.0082807540893555,
          2.00827956199646,
          2.0112245082855225,
          2.00827956199646,
          2.0082783699035645,
          1.9906084537506104,
          1.9906105995178223,
          2.0082807540893555,
          2.999166965484619,
          2.0082783699035645,
          1.9906084537506104,
          2.999166965484619,
          1.9906105995178223,
          2.999166965484619,
          1.49958336353302
         ]
        },
        {
         "marker": {
          "color": "rgba(255, 3, 1, 1.0)",
          "size": 1
         },
         "name": "198",
         "scene": "scene",
         "type": "scatter3d",
         "x": [
          -0.39174017310142517,
          -0.3418233394622803,
          -0.46618351340293884,
          -0.3418233394622803,
          -0.2919065058231354,
          0.4542544186115265,
          0.3544207513332367,
          -0.39174017310142517,
          0.046886544674634933,
          -0.2919065058231354,
          0.4542544186115265,
          0.046886544674634933,
          0.3544207513332367,
          0.046886544674634933,
          0.02344241365790367
         ],
         "y": [
          0.4632081389427185,
          -0.034293945878744125,
          -0.04677161946892738,
          -0.034293945878744125,
          -0.5317959785461426,
          -0.4569299817085266,
          0.5380741357803345,
          0.4632081389427185,
          0.00470434594899416,
          -0.5317959785461426,
          -0.4569299817085266,
          0.00470434594899416,
          0.5380741357803345,
          0.00470434594899416,
          0.002356427488848567
         ],
         "z": [
          2.005645275115967,
          2.005643844604492,
          2.0076072216033936,
          2.005643844604492,
          2.0056424140930176,
          1.9938615560531616,
          1.9938644170761108,
          2.005645275115967,
          2.9996299743652344,
          2.0056424140930176,
          1.9938615560531616,
          2.9996299743652344,
          1.9938644170761108,
          2.9996299743652344,
          1.4998149871826172
         ]
        },
        {
         "marker": {
          "color": "rgba(255, 0, 0, 1.0)",
          "size": 1
         },
         "name": "199",
         "scene": "scene",
         "type": "scatter3d",
         "x": [
          -0.38382163643836975,
          -0.3588319420814514,
          -0.4836718738079071,
          -0.3588319420814514,
          -0.3338422477245331,
          0.4151972830295563,
          0.3652178943157196,
          -0.38382163643836975,
          0.023532254621386528,
          -0.3338422477245331,
          0.4151972830295563,
          0.023532254621386528,
          0.3652178943157196,
          0.023532254621386528,
          0.01176561787724495
         ],
         "y": [
          0.48142188787460327,
          -0.017953256145119667,
          -0.02420049160718918,
          -0.017953256145119667,
          -0.5173283815383911,
          -0.47984492778778076,
          0.5189052820205688,
          0.48142188787460327,
          0.0011775940656661987,
          -0.5173283815383911,
          -0.47984492778778076,
          0.0011775940656661987,
          0.5189052820205688,
          0.0011775940656661987,
          0.0005938795511610806
         ],
         "z": [
          2.002885341644287,
          2.0028836727142334,
          2.0038654804229736,
          2.0028836727142334,
          2.0028820037841797,
          1.9969913959503174,
          1.9969948530197144,
          2.002885341644287,
          2.9999074935913086,
          2.0028820037841797,
          1.9969913959503174,
          2.9999074935913086,
          1.9969948530197144,
          2.9999074935913086,
          1.4999537467956543
         ]
        }
       ],
       "layout": {
        "annotations": [
         {
          "font": {
           "size": 16
          },
          "showarrow": false,
          "text": "All Poses",
          "x": 0.5,
          "xanchor": "center",
          "xref": "paper",
          "y": 1,
          "yanchor": "bottom",
          "yref": "paper"
         }
        ],
        "scene": {
         "domain": {
          "x": [
           0,
           1
          ],
          "y": [
           0,
           1
          ]
         },
         "xaxis": {
          "range": [
           -3.6446409225463867,
           3.0304226875305176
          ]
         },
         "yaxis": {
          "range": [
           -2.5219876766204834,
           3.438343048095703
          ]
         },
         "zaxis": {
          "range": [
           -1.2576414346694946,
           3.667612075805664
          ]
         }
        },
        "template": {
         "data": {
          "bar": [
           {
            "error_x": {
             "color": "#2a3f5f"
            },
            "error_y": {
             "color": "#2a3f5f"
            },
            "marker": {
             "line": {
              "color": "#E5ECF6",
              "width": 0.5
             },
             "pattern": {
              "fillmode": "overlay",
              "size": 10,
              "solidity": 0.2
             }
            },
            "type": "bar"
           }
          ],
          "barpolar": [
           {
            "marker": {
             "line": {
              "color": "#E5ECF6",
              "width": 0.5
             },
             "pattern": {
              "fillmode": "overlay",
              "size": 10,
              "solidity": 0.2
             }
            },
            "type": "barpolar"
           }
          ],
          "carpet": [
           {
            "aaxis": {
             "endlinecolor": "#2a3f5f",
             "gridcolor": "white",
             "linecolor": "white",
             "minorgridcolor": "white",
             "startlinecolor": "#2a3f5f"
            },
            "baxis": {
             "endlinecolor": "#2a3f5f",
             "gridcolor": "white",
             "linecolor": "white",
             "minorgridcolor": "white",
             "startlinecolor": "#2a3f5f"
            },
            "type": "carpet"
           }
          ],
          "choropleth": [
           {
            "colorbar": {
             "outlinewidth": 0,
             "ticks": ""
            },
            "type": "choropleth"
           }
          ],
          "contour": [
           {
            "colorbar": {
             "outlinewidth": 0,
             "ticks": ""
            },
            "colorscale": [
             [
              0,
              "#0d0887"
             ],
             [
              0.1111111111111111,
              "#46039f"
             ],
             [
              0.2222222222222222,
              "#7201a8"
             ],
             [
              0.3333333333333333,
              "#9c179e"
             ],
             [
              0.4444444444444444,
              "#bd3786"
             ],
             [
              0.5555555555555556,
              "#d8576b"
             ],
             [
              0.6666666666666666,
              "#ed7953"
             ],
             [
              0.7777777777777778,
              "#fb9f3a"
             ],
             [
              0.8888888888888888,
              "#fdca26"
             ],
             [
              1,
              "#f0f921"
             ]
            ],
            "type": "contour"
           }
          ],
          "contourcarpet": [
           {
            "colorbar": {
             "outlinewidth": 0,
             "ticks": ""
            },
            "type": "contourcarpet"
           }
          ],
          "heatmap": [
           {
            "colorbar": {
             "outlinewidth": 0,
             "ticks": ""
            },
            "colorscale": [
             [
              0,
              "#0d0887"
             ],
             [
              0.1111111111111111,
              "#46039f"
             ],
             [
              0.2222222222222222,
              "#7201a8"
             ],
             [
              0.3333333333333333,
              "#9c179e"
             ],
             [
              0.4444444444444444,
              "#bd3786"
             ],
             [
              0.5555555555555556,
              "#d8576b"
             ],
             [
              0.6666666666666666,
              "#ed7953"
             ],
             [
              0.7777777777777778,
              "#fb9f3a"
             ],
             [
              0.8888888888888888,
              "#fdca26"
             ],
             [
              1,
              "#f0f921"
             ]
            ],
            "type": "heatmap"
           }
          ],
          "heatmapgl": [
           {
            "colorbar": {
             "outlinewidth": 0,
             "ticks": ""
            },
            "colorscale": [
             [
              0,
              "#0d0887"
             ],
             [
              0.1111111111111111,
              "#46039f"
             ],
             [
              0.2222222222222222,
              "#7201a8"
             ],
             [
              0.3333333333333333,
              "#9c179e"
             ],
             [
              0.4444444444444444,
              "#bd3786"
             ],
             [
              0.5555555555555556,
              "#d8576b"
             ],
             [
              0.6666666666666666,
              "#ed7953"
             ],
             [
              0.7777777777777778,
              "#fb9f3a"
             ],
             [
              0.8888888888888888,
              "#fdca26"
             ],
             [
              1,
              "#f0f921"
             ]
            ],
            "type": "heatmapgl"
           }
          ],
          "histogram": [
           {
            "marker": {
             "pattern": {
              "fillmode": "overlay",
              "size": 10,
              "solidity": 0.2
             }
            },
            "type": "histogram"
           }
          ],
          "histogram2d": [
           {
            "colorbar": {
             "outlinewidth": 0,
             "ticks": ""
            },
            "colorscale": [
             [
              0,
              "#0d0887"
             ],
             [
              0.1111111111111111,
              "#46039f"
             ],
             [
              0.2222222222222222,
              "#7201a8"
             ],
             [
              0.3333333333333333,
              "#9c179e"
             ],
             [
              0.4444444444444444,
              "#bd3786"
             ],
             [
              0.5555555555555556,
              "#d8576b"
             ],
             [
              0.6666666666666666,
              "#ed7953"
             ],
             [
              0.7777777777777778,
              "#fb9f3a"
             ],
             [
              0.8888888888888888,
              "#fdca26"
             ],
             [
              1,
              "#f0f921"
             ]
            ],
            "type": "histogram2d"
           }
          ],
          "histogram2dcontour": [
           {
            "colorbar": {
             "outlinewidth": 0,
             "ticks": ""
            },
            "colorscale": [
             [
              0,
              "#0d0887"
             ],
             [
              0.1111111111111111,
              "#46039f"
             ],
             [
              0.2222222222222222,
              "#7201a8"
             ],
             [
              0.3333333333333333,
              "#9c179e"
             ],
             [
              0.4444444444444444,
              "#bd3786"
             ],
             [
              0.5555555555555556,
              "#d8576b"
             ],
             [
              0.6666666666666666,
              "#ed7953"
             ],
             [
              0.7777777777777778,
              "#fb9f3a"
             ],
             [
              0.8888888888888888,
              "#fdca26"
             ],
             [
              1,
              "#f0f921"
             ]
            ],
            "type": "histogram2dcontour"
           }
          ],
          "mesh3d": [
           {
            "colorbar": {
             "outlinewidth": 0,
             "ticks": ""
            },
            "type": "mesh3d"
           }
          ],
          "parcoords": [
           {
            "line": {
             "colorbar": {
              "outlinewidth": 0,
              "ticks": ""
             }
            },
            "type": "parcoords"
           }
          ],
          "pie": [
           {
            "automargin": true,
            "type": "pie"
           }
          ],
          "scatter": [
           {
            "fillpattern": {
             "fillmode": "overlay",
             "size": 10,
             "solidity": 0.2
            },
            "type": "scatter"
           }
          ],
          "scatter3d": [
           {
            "line": {
             "colorbar": {
              "outlinewidth": 0,
              "ticks": ""
             }
            },
            "marker": {
             "colorbar": {
              "outlinewidth": 0,
              "ticks": ""
             }
            },
            "type": "scatter3d"
           }
          ],
          "scattercarpet": [
           {
            "marker": {
             "colorbar": {
              "outlinewidth": 0,
              "ticks": ""
             }
            },
            "type": "scattercarpet"
           }
          ],
          "scattergeo": [
           {
            "marker": {
             "colorbar": {
              "outlinewidth": 0,
              "ticks": ""
             }
            },
            "type": "scattergeo"
           }
          ],
          "scattergl": [
           {
            "marker": {
             "colorbar": {
              "outlinewidth": 0,
              "ticks": ""
             }
            },
            "type": "scattergl"
           }
          ],
          "scattermapbox": [
           {
            "marker": {
             "colorbar": {
              "outlinewidth": 0,
              "ticks": ""
             }
            },
            "type": "scattermapbox"
           }
          ],
          "scatterpolar": [
           {
            "marker": {
             "colorbar": {
              "outlinewidth": 0,
              "ticks": ""
             }
            },
            "type": "scatterpolar"
           }
          ],
          "scatterpolargl": [
           {
            "marker": {
             "colorbar": {
              "outlinewidth": 0,
              "ticks": ""
             }
            },
            "type": "scatterpolargl"
           }
          ],
          "scatterternary": [
           {
            "marker": {
             "colorbar": {
              "outlinewidth": 0,
              "ticks": ""
             }
            },
            "type": "scatterternary"
           }
          ],
          "surface": [
           {
            "colorbar": {
             "outlinewidth": 0,
             "ticks": ""
            },
            "colorscale": [
             [
              0,
              "#0d0887"
             ],
             [
              0.1111111111111111,
              "#46039f"
             ],
             [
              0.2222222222222222,
              "#7201a8"
             ],
             [
              0.3333333333333333,
              "#9c179e"
             ],
             [
              0.4444444444444444,
              "#bd3786"
             ],
             [
              0.5555555555555556,
              "#d8576b"
             ],
             [
              0.6666666666666666,
              "#ed7953"
             ],
             [
              0.7777777777777778,
              "#fb9f3a"
             ],
             [
              0.8888888888888888,
              "#fdca26"
             ],
             [
              1,
              "#f0f921"
             ]
            ],
            "type": "surface"
           }
          ],
          "table": [
           {
            "cells": {
             "fill": {
              "color": "#EBF0F8"
             },
             "line": {
              "color": "white"
             }
            },
            "header": {
             "fill": {
              "color": "#C8D4E3"
             },
             "line": {
              "color": "white"
             }
            },
            "type": "table"
           }
          ]
         },
         "layout": {
          "annotationdefaults": {
           "arrowcolor": "#2a3f5f",
           "arrowhead": 0,
           "arrowwidth": 1
          },
          "autotypenumbers": "strict",
          "coloraxis": {
           "colorbar": {
            "outlinewidth": 0,
            "ticks": ""
           }
          },
          "colorscale": {
           "diverging": [
            [
             0,
             "#8e0152"
            ],
            [
             0.1,
             "#c51b7d"
            ],
            [
             0.2,
             "#de77ae"
            ],
            [
             0.3,
             "#f1b6da"
            ],
            [
             0.4,
             "#fde0ef"
            ],
            [
             0.5,
             "#f7f7f7"
            ],
            [
             0.6,
             "#e6f5d0"
            ],
            [
             0.7,
             "#b8e186"
            ],
            [
             0.8,
             "#7fbc41"
            ],
            [
             0.9,
             "#4d9221"
            ],
            [
             1,
             "#276419"
            ]
           ],
           "sequential": [
            [
             0,
             "#0d0887"
            ],
            [
             0.1111111111111111,
             "#46039f"
            ],
            [
             0.2222222222222222,
             "#7201a8"
            ],
            [
             0.3333333333333333,
             "#9c179e"
            ],
            [
             0.4444444444444444,
             "#bd3786"
            ],
            [
             0.5555555555555556,
             "#d8576b"
            ],
            [
             0.6666666666666666,
             "#ed7953"
            ],
            [
             0.7777777777777778,
             "#fb9f3a"
            ],
            [
             0.8888888888888888,
             "#fdca26"
            ],
            [
             1,
             "#f0f921"
            ]
           ],
           "sequentialminus": [
            [
             0,
             "#0d0887"
            ],
            [
             0.1111111111111111,
             "#46039f"
            ],
            [
             0.2222222222222222,
             "#7201a8"
            ],
            [
             0.3333333333333333,
             "#9c179e"
            ],
            [
             0.4444444444444444,
             "#bd3786"
            ],
            [
             0.5555555555555556,
             "#d8576b"
            ],
            [
             0.6666666666666666,
             "#ed7953"
            ],
            [
             0.7777777777777778,
             "#fb9f3a"
            ],
            [
             0.8888888888888888,
             "#fdca26"
            ],
            [
             1,
             "#f0f921"
            ]
           ]
          },
          "colorway": [
           "#636efa",
           "#EF553B",
           "#00cc96",
           "#ab63fa",
           "#FFA15A",
           "#19d3f3",
           "#FF6692",
           "#B6E880",
           "#FF97FF",
           "#FECB52"
          ],
          "font": {
           "color": "#2a3f5f"
          },
          "geo": {
           "bgcolor": "white",
           "lakecolor": "white",
           "landcolor": "#E5ECF6",
           "showlakes": true,
           "showland": true,
           "subunitcolor": "white"
          },
          "hoverlabel": {
           "align": "left"
          },
          "hovermode": "closest",
          "mapbox": {
           "style": "light"
          },
          "paper_bgcolor": "white",
          "plot_bgcolor": "#E5ECF6",
          "polar": {
           "angularaxis": {
            "gridcolor": "white",
            "linecolor": "white",
            "ticks": ""
           },
           "bgcolor": "#E5ECF6",
           "radialaxis": {
            "gridcolor": "white",
            "linecolor": "white",
            "ticks": ""
           }
          },
          "scene": {
           "xaxis": {
            "backgroundcolor": "#E5ECF6",
            "gridcolor": "white",
            "gridwidth": 2,
            "linecolor": "white",
            "showbackground": true,
            "ticks": "",
            "zerolinecolor": "white"
           },
           "yaxis": {
            "backgroundcolor": "#E5ECF6",
            "gridcolor": "white",
            "gridwidth": 2,
            "linecolor": "white",
            "showbackground": true,
            "ticks": "",
            "zerolinecolor": "white"
           },
           "zaxis": {
            "backgroundcolor": "#E5ECF6",
            "gridcolor": "white",
            "gridwidth": 2,
            "linecolor": "white",
            "showbackground": true,
            "ticks": "",
            "zerolinecolor": "white"
           }
          },
          "shapedefaults": {
           "line": {
            "color": "#2a3f5f"
           }
          },
          "ternary": {
           "aaxis": {
            "gridcolor": "white",
            "linecolor": "white",
            "ticks": ""
           },
           "baxis": {
            "gridcolor": "white",
            "linecolor": "white",
            "ticks": ""
           },
           "bgcolor": "#E5ECF6",
           "caxis": {
            "gridcolor": "white",
            "linecolor": "white",
            "ticks": ""
           }
          },
          "title": {
           "x": 0.05
          },
          "xaxis": {
           "automargin": true,
           "gridcolor": "white",
           "linecolor": "white",
           "ticks": "",
           "title": {
            "standoff": 15
           },
           "zerolinecolor": "white",
           "zerolinewidth": 2
          },
          "yaxis": {
           "automargin": true,
           "gridcolor": "white",
           "linecolor": "white",
           "ticks": "",
           "title": {
            "standoff": 15
           },
           "zerolinecolor": "white",
           "zerolinewidth": 2
          }
         }
        }
       }
      }
     },
     "metadata": {},
     "output_type": "display_data"
    }
   ],
   "source": [
    "poses_dir = \"pose\"\n",
    "pose_files = sorted(glob.glob(os.path.join(poses_dir, \"2_*.txt\")))\n",
    "poses_cv  = [np.loadtxt(pose_file) for pose_file in pose_files]\n",
    "\n",
    "poses = []\n",
    "for pose in poses_cv:\n",
    "\n",
    "    # We did inverse pose since the given pose is camera->world and pytorch3d expects world->camera\n",
    "\n",
    "    pose = np.linalg.inv(pose) # make it world->camera\n",
    "    # pose[1:3, :] *=-1 # converts to opengl world-> camera from opencv world->camera\n",
    "\n",
    "    # pose[:3, :3] = np.linalg.inv(pose[:3, :3]) # From here - https://github.com/facebookresearch/pytorch3d/blob/main/pytorch3d/renderer/camera_conversions.py\n",
    "    # pose[2, :] *= -1\n",
    "    # pose[0, :] *= -1\n",
    "    # pose[:2, 3] *= -1\n",
    "\n",
    "    poses.append(pose)\n",
    "# poses.append(np.eye(4))\n",
    "\n",
    "plot_cameras(poses, coordinate_frame='opencv', camera_scale=0.5)"
   ]
  },
  {
   "cell_type": "code",
   "execution_count": 185,
   "metadata": {},
   "outputs": [],
   "source": [
    "from extrinsic import CameraPoseVisualizer\n",
    "import matplotlib.pyplot as plt"
   ]
  },
  {
   "cell_type": "code",
   "execution_count": 187,
   "metadata": {},
   "outputs": [
    {
     "name": "stdout",
     "output_type": "stream",
     "text": [
      "initialize camera pose visualizer\n"
     ]
    },
    {
     "name": "stderr",
     "output_type": "stream",
     "text": [
      "/Users/jaidev/Desktop/GIT-Projects/Camera-Pose-Verifier/extrinsic.py:12: MatplotlibDeprecationWarning:\n",
      "\n",
      "Calling gca() with keyword arguments was deprecated in Matplotlib 3.4. Starting two minor releases later, gca() will take no keyword arguments. The gca() function should only be used to get the current axes, or if no axes exist, create new axes with default keyword arguments. To create a new axes with non-default arguments, use plt.axes() or plt.subplot().\n",
      "\n"
     ]
    },
    {
     "data": {
      "image/png": "[encoded data removed]",
      "text/plain": [
       "<Figure size 640x480 with 1 Axes>"
      ]
     },
     "metadata": {},
     "output_type": "display_data"
    }
   ],
   "source": [
    "visualizer = CameraPoseVisualizer([-3, 3], [-3, 3], [-3, 3])\n",
    "\n",
    "for i, pose in enumerate(poses):\n",
    "    visualizer.extrinsic2pyramid(np.linalg.inv(pose), plt.cm.rainbow(i/len(poses)), 1)\n",
    "# visualizer.colorbar(len(data_poses))\n",
    "visualizer.show()"
   ]
  },
  {
   "attachments": {},
   "cell_type": "markdown",
   "metadata": {},
   "source": [
    "# Test on NeRFStudio Trajectory"
   ]
  },
  {
   "cell_type": "code",
   "execution_count": 195,
   "metadata": {},
   "outputs": [
    {
     "name": "stdout",
     "output_type": "stream",
     "text": [
      "[[ 1.  0.  0. -0.]\n",
      " [ 0.  1. -0. -0.]\n",
      " [ 0.  0.  1. -0.]\n",
      " [ 0.  0.  0.  1.]]\n",
      "[[ 0.95  0.   -0.31  1.78]\n",
      " [-0.06  0.98 -0.2  -0.25]\n",
      " [ 0.3   0.21  0.93 -0.06]\n",
      " [ 0.    0.    0.    1.  ]]\n",
      "[[ 0.78 -0.    0.63 -3.22]\n",
      " [ 0.05  1.   -0.07 -0.72]\n",
      " [-0.63  0.08  0.77  1.16]\n",
      " [ 0.    0.    0.    1.  ]]\n",
      "[[ 0.56  0.    0.83 -3.9 ]\n",
      " [ 0.32  0.92 -0.21 -0.16]\n",
      " [-0.77  0.38  0.52  1.41]\n",
      " [ 0.    0.    0.    1.  ]]\n",
      "[[ 1.    0.    0.07 -0.93]\n",
      " [ 0.06  0.54 -0.84  2.47]\n",
      " [-0.04  0.84  0.54 -0.5 ]\n",
      " [ 0.    0.    0.    1.  ]]\n"
     ]
    },
    {
     "data": {
      "application/vnd.plotly.v1+json": {
       "config": {
        "plotlyServerURL": "https://plot.ly"
       },
       "data": [
        {
         "marker": {
          "color": "rgba(127, 0, 255, 1.0)",
          "size": 1
         },
         "name": "0",
         "scene": "scene",
         "type": "scatter3d",
         "x": [
          0.5,
          1.0417711138188679e-10,
          1.0417711138188679e-10,
          1.0417711138188679e-10,
          -0.5,
          -0.5,
          0.5,
          0.5,
          1.0417711138188679e-10,
          -0.5,
          -0.5,
          1.0417711138188679e-10,
          0.5,
          1.0417711138188679e-10,
          1.0417711138188679e-10
         ],
         "y": [
          -0.375,
          -0.375,
          -0.5,
          -0.375,
          -0.375,
          0.375,
          0.375,
          -0.375,
          5.509173117701494e-10,
          -0.375,
          0.375,
          5.509173117701494e-10,
          0.375,
          5.509173117701494e-10,
          5.509176448370567e-10
         ],
         "z": [
          1,
          1,
          1,
          1,
          1,
          1,
          1,
          1,
          7.50790787386221e-16,
          1,
          1,
          7.50790787386221e-16,
          1,
          7.50790787386221e-16,
          1.5
         ]
        },
        {
         "marker": {
          "color": "rgba(0, 180, 235, 1.0)",
          "size": 1
         },
         "name": "1",
         "scene": "scene",
         "type": "scatter3d",
         "x": [
          -0.894305944442749,
          -1.3700143098831177,
          -1.3620707988739014,
          -1.3700143098831177,
          -1.8457226753234863,
          -1.8933838605880737,
          -0.9419671297073364,
          -0.894305944442749,
          -1.6951217651367188,
          -1.8457226753234863,
          -1.8933838605880737,
          -1.6951217651367188,
          -0.9419671297073364,
          -1.6951217651367188,
          -1.24320650100708
         ],
         "y": [
          0.09402908384799957,
          0.09402908384799957,
          -0.028279662132263184,
          0.09402908384799957,
          0.09402908384799957,
          0.8278816938400269,
          0.8278816938400269,
          0.09402908384799957,
          0.25456708669662476,
          0.09402908384799957,
          0.8278816938400269,
          0.25456708669662476,
          0.8278816938400269,
          0.25456708669662476,
          0.5641495585441589
         ],
         "z": [
          1.4028491973876953,
          1.5568022727966309,
          1.5813472270965576,
          1.5568022727966309,
          1.7107551097869873,
          1.5634841918945312,
          1.2555782794952393,
          1.4028491973876953,
          0.5522337555885315,
          1.7107551097869873,
          1.5634841918945312,
          0.5522337555885315,
          1.2555782794952393,
          0.5522337555885315,
          1.9486331939697266
         ]
        },
        {
         "marker": {
          "color": "rgba(128, 254, 179, 1.0)",
          "size": 1
         },
         "name": "2",
         "scene": "scene",
         "type": "scatter3d",
         "x": [
          3.003530502319336,
          2.615386486053467,
          2.6087684631347656,
          2.615386486053467,
          2.2272424697875977,
          2.266950845718384,
          3.043238639831543,
          3.003530502319336,
          3.2633919715881348,
          2.2272424697875977,
          2.266950845718384,
          3.2633919715881348,
          3.043238639831543,
          3.2633919715881348,
          2.321165084838867
         ],
         "y": [
          0.3312373757362366,
          0.3312373757362366,
          0.20667904615402222,
          0.3312373757362366,
          0.3312373757362366,
          1.078587532043457,
          1.078587532043457,
          0.3312373757362366,
          0.6209242343902588,
          0.3312373757362366,
          1.078587532043457,
          0.6209242343902588,
          1.078587532043457,
          0.6209242343902588,
          0.7469065189361572
         ],
         "z": [
          2.19746994972229,
          1.8822805881500244,
          1.8904304504394531,
          1.8822805881500244,
          1.5670912265777588,
          1.5181920528411865,
          2.1485705375671387,
          2.19746994972229,
          1.0842859745025635,
          1.5670912265777588,
          1.5181920528411865,
          1.0842859745025635,
          2.1485705375671387,
          1.0842859745025635,
          2.244603395462036
         ]
        },
        {
         "marker": {
          "color": "rgba(255, 178, 96, 1.0)",
          "size": 1
         },
         "name": "3",
         "scene": "scene",
         "type": "scatter3d",
         "x": [
          2.7089967727661133,
          2.429938316345215,
          2.390498161315918,
          2.429938316345215,
          2.1508798599243164,
          2.3875207901000977,
          2.9456372261047363,
          2.7089967727661133,
          3.3156909942626953,
          2.1508798599243164,
          2.3875207901000977,
          3.3156909942626953,
          2.9456372261047363,
          3.3156909942626953,
          2.1645424365997314
         ],
         "y": [
          -0.3523460328578949,
          -0.3523460328578949,
          -0.4679562747478485,
          -0.3523460328578949,
          -0.3523460328578949,
          0.3413153886795044,
          0.3413153886795044,
          -0.3523460328578949,
          -0.38576972484588623,
          -0.3523460328578949,
          0.3413153886795044,
          -0.38576972484588623,
          0.3413153886795044,
          -0.38576972484588623,
          0.18461191654205322
         ],
         "z": [
          3.485806703567505,
          3.07092547416687,
          3.0974538326263428,
          3.07092547416687,
          2.6560442447662354,
          2.4968745708465576,
          3.326637029647827,
          3.485806703567505,
          2.4751486778259277,
          2.6560442447662354,
          2.4968745708465576,
          2.4751486778259277,
          3.326637029647827,
          2.4751486778259277,
          3.249436616897583
         ]
        },
        {
         "marker": {
          "color": "rgba(255, 0, 0, 1.0)",
          "size": 1
         },
         "name": "4",
         "scene": "scene",
         "type": "scatter3d",
         "x": [
          1.1844382286071777,
          0.6858342289924622,
          0.678004801273346,
          0.6858342289924622,
          0.18723022937774658,
          0.23420673608779907,
          1.2314146757125854,
          1.1844382286071777,
          0.7499809861183167,
          0.18723022937774658,
          0.23420673608779907,
          0.7499809861183167,
          1.2314146757125854,
          0.7499809861183167,
          0.6889932155609131
         ],
         "y": [
          -0.28727561235427856,
          -0.28727561235427856,
          -0.3553351163864136,
          -0.28727561235427856,
          -0.28727561235427856,
          0.12108111381530762,
          0.12108111381530762,
          -0.28727561235427856,
          -0.9218738079071045,
          -0.28727561235427856,
          0.12108111381530762,
          -0.9218738079071045,
          0.12108111381530762,
          -0.9218738079071045,
          0.3362910747528076
         ],
         "z": [
          3.302488327026367,
          3.265151023864746,
          3.3697052001953125,
          3.265151023864746,
          3.227813720703125,
          2.60048770904541,
          2.6751623153686523,
          3.302488327026367,
          2.4085323810577393,
          3.227813720703125,
          2.60048770904541,
          2.4085323810577393,
          2.6751623153686523,
          2.4085323810577393,
          3.222965717315674
         ]
        }
       ],
       "layout": {
        "annotations": [
         {
          "font": {
           "size": 16
          },
          "showarrow": false,
          "text": "All Poses",
          "x": 0.5,
          "xanchor": "center",
          "xref": "paper",
          "y": 1,
          "yanchor": "bottom",
          "yref": "paper"
         }
        ],
        "scene": {
         "domain": {
          "x": [
           0,
           1
          ],
          "y": [
           0,
           1
          ]
         },
         "xaxis": {
          "range": [
           -2.8351616859436035,
           3.8958377838134766
          ]
         },
         "yaxis": {
          "range": [
           -1.5833333730697632,
           1.768193006515503
          ]
         },
         "zaxis": {
          "range": [
           -0.6666666865348816,
           4.1888628005981445
          ]
         }
        },
        "template": {
         "data": {
          "bar": [
           {
            "error_x": {
             "color": "#2a3f5f"
            },
            "error_y": {
             "color": "#2a3f5f"
            },
            "marker": {
             "line": {
              "color": "#E5ECF6",
              "width": 0.5
             },
             "pattern": {
              "fillmode": "overlay",
              "size": 10,
              "solidity": 0.2
             }
            },
            "type": "bar"
           }
          ],
          "barpolar": [
           {
            "marker": {
             "line": {
              "color": "#E5ECF6",
              "width": 0.5
             },
             "pattern": {
              "fillmode": "overlay",
              "size": 10,
              "solidity": 0.2
             }
            },
            "type": "barpolar"
           }
          ],
          "carpet": [
           {
            "aaxis": {
             "endlinecolor": "#2a3f5f",
             "gridcolor": "white",
             "linecolor": "white",
             "minorgridcolor": "white",
             "startlinecolor": "#2a3f5f"
            },
            "baxis": {
             "endlinecolor": "#2a3f5f",
             "gridcolor": "white",
             "linecolor": "white",
             "minorgridcolor": "white",
             "startlinecolor": "#2a3f5f"
            },
            "type": "carpet"
           }
          ],
          "choropleth": [
           {
            "colorbar": {
             "outlinewidth": 0,
             "ticks": ""
            },
            "type": "choropleth"
           }
          ],
          "contour": [
           {
            "colorbar": {
             "outlinewidth": 0,
             "ticks": ""
            },
            "colorscale": [
             [
              0,
              "#0d0887"
             ],
             [
              0.1111111111111111,
              "#46039f"
             ],
             [
              0.2222222222222222,
              "#7201a8"
             ],
             [
              0.3333333333333333,
              "#9c179e"
             ],
             [
              0.4444444444444444,
              "#bd3786"
             ],
             [
              0.5555555555555556,
              "#d8576b"
             ],
             [
              0.6666666666666666,
              "#ed7953"
             ],
             [
              0.7777777777777778,
              "#fb9f3a"
             ],
             [
              0.8888888888888888,
              "#fdca26"
             ],
             [
              1,
              "#f0f921"
             ]
            ],
            "type": "contour"
           }
          ],
          "contourcarpet": [
           {
            "colorbar": {
             "outlinewidth": 0,
             "ticks": ""
            },
            "type": "contourcarpet"
           }
          ],
          "heatmap": [
           {
            "colorbar": {
             "outlinewidth": 0,
             "ticks": ""
            },
            "colorscale": [
             [
              0,
              "#0d0887"
             ],
             [
              0.1111111111111111,
              "#46039f"
             ],
             [
              0.2222222222222222,
              "#7201a8"
             ],
             [
              0.3333333333333333,
              "#9c179e"
             ],
             [
              0.4444444444444444,
              "#bd3786"
             ],
             [
              0.5555555555555556,
              "#d8576b"
             ],
             [
              0.6666666666666666,
              "#ed7953"
             ],
             [
              0.7777777777777778,
              "#fb9f3a"
             ],
             [
              0.8888888888888888,
              "#fdca26"
             ],
             [
              1,
              "#f0f921"
             ]
            ],
            "type": "heatmap"
           }
          ],
          "heatmapgl": [
           {
            "colorbar": {
             "outlinewidth": 0,
             "ticks": ""
            },
            "colorscale": [
             [
              0,
              "#0d0887"
             ],
             [
              0.1111111111111111,
              "#46039f"
             ],
             [
              0.2222222222222222,
              "#7201a8"
             ],
             [
              0.3333333333333333,
              "#9c179e"
             ],
             [
              0.4444444444444444,
              "#bd3786"
             ],
             [
              0.5555555555555556,
              "#d8576b"
             ],
             [
              0.6666666666666666,
              "#ed7953"
             ],
             [
              0.7777777777777778,
              "#fb9f3a"
             ],
             [
              0.8888888888888888,
              "#fdca26"
             ],
             [
              1,
              "#f0f921"
             ]
            ],
            "type": "heatmapgl"
           }
          ],
          "histogram": [
           {
            "marker": {
             "pattern": {
              "fillmode": "overlay",
              "size": 10,
              "solidity": 0.2
             }
            },
            "type": "histogram"
           }
          ],
          "histogram2d": [
           {
            "colorbar": {
             "outlinewidth": 0,
             "ticks": ""
            },
            "colorscale": [
             [
              0,
              "#0d0887"
             ],
             [
              0.1111111111111111,
              "#46039f"
             ],
             [
              0.2222222222222222,
              "#7201a8"
             ],
             [
              0.3333333333333333,
              "#9c179e"
             ],
             [
              0.4444444444444444,
              "#bd3786"
             ],
             [
              0.5555555555555556,
              "#d8576b"
             ],
             [
              0.6666666666666666,
              "#ed7953"
             ],
             [
              0.7777777777777778,
              "#fb9f3a"
             ],
             [
              0.8888888888888888,
              "#fdca26"
             ],
             [
              1,
              "#f0f921"
             ]
            ],
            "type": "histogram2d"
           }
          ],
          "histogram2dcontour": [
           {
            "colorbar": {
             "outlinewidth": 0,
             "ticks": ""
            },
            "colorscale": [
             [
              0,
              "#0d0887"
             ],
             [
              0.1111111111111111,
              "#46039f"
             ],
             [
              0.2222222222222222,
              "#7201a8"
             ],
             [
              0.3333333333333333,
              "#9c179e"
             ],
             [
              0.4444444444444444,
              "#bd3786"
             ],
             [
              0.5555555555555556,
              "#d8576b"
             ],
             [
              0.6666666666666666,
              "#ed7953"
             ],
             [
              0.7777777777777778,
              "#fb9f3a"
             ],
             [
              0.8888888888888888,
              "#fdca26"
             ],
             [
              1,
              "#f0f921"
             ]
            ],
            "type": "histogram2dcontour"
           }
          ],
          "mesh3d": [
           {
            "colorbar": {
             "outlinewidth": 0,
             "ticks": ""
            },
            "type": "mesh3d"
           }
          ],
          "parcoords": [
           {
            "line": {
             "colorbar": {
              "outlinewidth": 0,
              "ticks": ""
             }
            },
            "type": "parcoords"
           }
          ],
          "pie": [
           {
            "automargin": true,
            "type": "pie"
           }
          ],
          "scatter": [
           {
            "fillpattern": {
             "fillmode": "overlay",
             "size": 10,
             "solidity": 0.2
            },
            "type": "scatter"
           }
          ],
          "scatter3d": [
           {
            "line": {
             "colorbar": {
              "outlinewidth": 0,
              "ticks": ""
             }
            },
            "marker": {
             "colorbar": {
              "outlinewidth": 0,
              "ticks": ""
             }
            },
            "type": "scatter3d"
           }
          ],
          "scattercarpet": [
           {
            "marker": {
             "colorbar": {
              "outlinewidth": 0,
              "ticks": ""
             }
            },
            "type": "scattercarpet"
           }
          ],
          "scattergeo": [
           {
            "marker": {
             "colorbar": {
              "outlinewidth": 0,
              "ticks": ""
             }
            },
            "type": "scattergeo"
           }
          ],
          "scattergl": [
           {
            "marker": {
             "colorbar": {
              "outlinewidth": 0,
              "ticks": ""
             }
            },
            "type": "scattergl"
           }
          ],
          "scattermapbox": [
           {
            "marker": {
             "colorbar": {
              "outlinewidth": 0,
              "ticks": ""
             }
            },
            "type": "scattermapbox"
           }
          ],
          "scatterpolar": [
           {
            "marker": {
             "colorbar": {
              "outlinewidth": 0,
              "ticks": ""
             }
            },
            "type": "scatterpolar"
           }
          ],
          "scatterpolargl": [
           {
            "marker": {
             "colorbar": {
              "outlinewidth": 0,
              "ticks": ""
             }
            },
            "type": "scatterpolargl"
           }
          ],
          "scatterternary": [
           {
            "marker": {
             "colorbar": {
              "outlinewidth": 0,
              "ticks": ""
             }
            },
            "type": "scatterternary"
           }
          ],
          "surface": [
           {
            "colorbar": {
             "outlinewidth": 0,
             "ticks": ""
            },
            "colorscale": [
             [
              0,
              "#0d0887"
             ],
             [
              0.1111111111111111,
              "#46039f"
             ],
             [
              0.2222222222222222,
              "#7201a8"
             ],
             [
              0.3333333333333333,
              "#9c179e"
             ],
             [
              0.4444444444444444,
              "#bd3786"
             ],
             [
              0.5555555555555556,
              "#d8576b"
             ],
             [
              0.6666666666666666,
              "#ed7953"
             ],
             [
              0.7777777777777778,
              "#fb9f3a"
             ],
             [
              0.8888888888888888,
              "#fdca26"
             ],
             [
              1,
              "#f0f921"
             ]
            ],
            "type": "surface"
           }
          ],
          "table": [
           {
            "cells": {
             "fill": {
              "color": "#EBF0F8"
             },
             "line": {
              "color": "white"
             }
            },
            "header": {
             "fill": {
              "color": "#C8D4E3"
             },
             "line": {
              "color": "white"
             }
            },
            "type": "table"
           }
          ]
         },
         "layout": {
          "annotationdefaults": {
           "arrowcolor": "#2a3f5f",
           "arrowhead": 0,
           "arrowwidth": 1
          },
          "autotypenumbers": "strict",
          "coloraxis": {
           "colorbar": {
            "outlinewidth": 0,
            "ticks": ""
           }
          },
          "colorscale": {
           "diverging": [
            [
             0,
             "#8e0152"
            ],
            [
             0.1,
             "#c51b7d"
            ],
            [
             0.2,
             "#de77ae"
            ],
            [
             0.3,
             "#f1b6da"
            ],
            [
             0.4,
             "#fde0ef"
            ],
            [
             0.5,
             "#f7f7f7"
            ],
            [
             0.6,
             "#e6f5d0"
            ],
            [
             0.7,
             "#b8e186"
            ],
            [
             0.8,
             "#7fbc41"
            ],
            [
             0.9,
             "#4d9221"
            ],
            [
             1,
             "#276419"
            ]
           ],
           "sequential": [
            [
             0,
             "#0d0887"
            ],
            [
             0.1111111111111111,
             "#46039f"
            ],
            [
             0.2222222222222222,
             "#7201a8"
            ],
            [
             0.3333333333333333,
             "#9c179e"
            ],
            [
             0.4444444444444444,
             "#bd3786"
            ],
            [
             0.5555555555555556,
             "#d8576b"
            ],
            [
             0.6666666666666666,
             "#ed7953"
            ],
            [
             0.7777777777777778,
             "#fb9f3a"
            ],
            [
             0.8888888888888888,
             "#fdca26"
            ],
            [
             1,
             "#f0f921"
            ]
           ],
           "sequentialminus": [
            [
             0,
             "#0d0887"
            ],
            [
             0.1111111111111111,
             "#46039f"
            ],
            [
             0.2222222222222222,
             "#7201a8"
            ],
            [
             0.3333333333333333,
             "#9c179e"
            ],
            [
             0.4444444444444444,
             "#bd3786"
            ],
            [
             0.5555555555555556,
             "#d8576b"
            ],
            [
             0.6666666666666666,
             "#ed7953"
            ],
            [
             0.7777777777777778,
             "#fb9f3a"
            ],
            [
             0.8888888888888888,
             "#fdca26"
            ],
            [
             1,
             "#f0f921"
            ]
           ]
          },
          "colorway": [
           "#636efa",
           "#EF553B",
           "#00cc96",
           "#ab63fa",
           "#FFA15A",
           "#19d3f3",
           "#FF6692",
           "#B6E880",
           "#FF97FF",
           "#FECB52"
          ],
          "font": {
           "color": "#2a3f5f"
          },
          "geo": {
           "bgcolor": "white",
           "lakecolor": "white",
           "landcolor": "#E5ECF6",
           "showlakes": true,
           "showland": true,
           "subunitcolor": "white"
          },
          "hoverlabel": {
           "align": "left"
          },
          "hovermode": "closest",
          "mapbox": {
           "style": "light"
          },
          "paper_bgcolor": "white",
          "plot_bgcolor": "#E5ECF6",
          "polar": {
           "angularaxis": {
            "gridcolor": "white",
            "linecolor": "white",
            "ticks": ""
           },
           "bgcolor": "#E5ECF6",
           "radialaxis": {
            "gridcolor": "white",
            "linecolor": "white",
            "ticks": ""
           }
          },
          "scene": {
           "xaxis": {
            "backgroundcolor": "#E5ECF6",
            "gridcolor": "white",
            "gridwidth": 2,
            "linecolor": "white",
            "showbackground": true,
            "ticks": "",
            "zerolinecolor": "white"
           },
           "yaxis": {
            "backgroundcolor": "#E5ECF6",
            "gridcolor": "white",
            "gridwidth": 2,
            "linecolor": "white",
            "showbackground": true,
            "ticks": "",
            "zerolinecolor": "white"
           },
           "zaxis": {
            "backgroundcolor": "#E5ECF6",
            "gridcolor": "white",
            "gridwidth": 2,
            "linecolor": "white",
            "showbackground": true,
            "ticks": "",
            "zerolinecolor": "white"
           }
          },
          "shapedefaults": {
           "line": {
            "color": "#2a3f5f"
           }
          },
          "ternary": {
           "aaxis": {
            "gridcolor": "white",
            "linecolor": "white",
            "ticks": ""
           },
           "baxis": {
            "gridcolor": "white",
            "linecolor": "white",
            "ticks": ""
           },
           "bgcolor": "#E5ECF6",
           "caxis": {
            "gridcolor": "white",
            "linecolor": "white",
            "ticks": ""
           }
          },
          "title": {
           "x": 0.05
          },
          "xaxis": {
           "automargin": true,
           "gridcolor": "white",
           "linecolor": "white",
           "ticks": "",
           "title": {
            "standoff": 15
           },
           "zerolinecolor": "white",
           "zerolinewidth": 2
          },
          "yaxis": {
           "automargin": true,
           "gridcolor": "white",
           "linecolor": "white",
           "ticks": "",
           "title": {
            "standoff": 15
           },
           "zerolinecolor": "white",
           "zerolinewidth": 2
          }
         }
        }
       }
      }
     },
     "metadata": {},
     "output_type": "display_data"
    }
   ],
   "source": [
    "poses_inp = np.load(\"indoor.npy\")\n",
    "pose_cv = convert_poses_opencv(poses_inp, 'opengl')\n",
    "\n",
    "poses = []\n",
    "for pose in pose_cv:\n",
    "\n",
    "    # pose[:, :3] *= -1\n",
    "    pose = np.linalg.inv(pose) # make it world->camera\n",
    "\n",
    "    print(np.round(pose, 2))\n",
    "\n",
    "    # pose[1:3, :] *= -1\n",
    "    poses.append(pose)\n",
    "\n",
    "plot_cameras(poses, coordinate_frame='opencv', camera_scale=0.5)"
   ]
  },
  {
   "cell_type": "code",
   "execution_count": 203,
   "metadata": {},
   "outputs": [
    {
     "name": "stdout",
     "output_type": "stream",
     "text": [
      "initialize camera pose visualizer\n"
     ]
    },
    {
     "name": "stderr",
     "output_type": "stream",
     "text": [
      "/Users/jaidev/Desktop/GIT-Projects/Camera-Pose-Verifier/extrinsic.py:12: MatplotlibDeprecationWarning:\n",
      "\n",
      "Calling gca() with keyword arguments was deprecated in Matplotlib 3.4. Starting two minor releases later, gca() will take no keyword arguments. The gca() function should only be used to get the current axes, or if no axes exist, create new axes with default keyword arguments. To create a new axes with non-default arguments, use plt.axes() or plt.subplot().\n",
      "\n"
     ]
    },
    {
     "data": {
      "image/png": "[encoded data removed]",
      "text/plain": [
       "<Figure size 640x480 with 2 Axes>"
      ]
     },
     "metadata": {},
     "output_type": "display_data"
    }
   ],
   "source": [
    "visualizer = CameraPoseVisualizer([-3, 3], [-3, 3], [-3, 3])\n",
    "\n",
    "for i, pose in enumerate(poses):\n",
    "    visualizer.extrinsic2pyramid(np.linalg.inv(pose), plt.cm.rainbow(i/len(poses)), 1)\n",
    "visualizer.colorbar(len(poses))\n",
    "visualizer.show()"
   ]
  },
  {
   "cell_type": "code",
   "execution_count": null,
   "metadata": {},
   "outputs": [],
   "source": []
  }
 ],
 "metadata": {
  "kernelspec": {
   "display_name": "portal",
   "language": "python",
   "name": "python3"
  },
  "language_info": {
   "codemirror_mode": {
    "name": "ipython",
    "version": 3
   },
   "file_extension": ".py",
   "mimetype": "text/x-python",
   "name": "python",
   "nbconvert_exporter": "python",
   "pygments_lexer": "ipython3",
   "version": "3.9.16"
  },
  "orig_nbformat": 4
 },
 "nbformat": 4,
 "nbformat_minor": 2
}
